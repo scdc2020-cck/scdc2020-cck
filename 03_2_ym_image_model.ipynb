{
 "cells": [
  {
   "cell_type": "code",
   "execution_count": 1,
   "metadata": {},
   "outputs": [],
   "source": [
    "import os\n",
    "import pandas as pd\n",
    "import numpy as np\n",
    "import tensorflow as tf\n",
    "from sklearn.model_selection import train_test_split\n",
    "import random\n",
    "import matplotlib.pyplot as plt\n",
    "%matplotlib inline\n",
    "\n",
    "physical_devices = tf.config.list_physical_devices('GPU') \n",
    "tf.config.experimental.set_memory_growth(physical_devices[0], True)\n",
    "\n",
    "seed_value= 0\n",
    "os.environ['PYTHONHASHSEED']=str(seed_value)\n",
    "random.seed(seed_value)\n",
    "np.random.seed(seed_value)\n",
    "tf.random.set_seed(seed_value)"
   ]
  },
  {
   "cell_type": "code",
   "execution_count": 2,
   "metadata": {},
   "outputs": [],
   "source": [
    "import sys\n",
    "ipython = get_ipython()\n",
    "\n",
    "def hide_traceback(exc_tuple=None, filename=None, tb_offset=None,\n",
    "                      exception_only=False, running_compiled_code=False):\n",
    "       etype, value, tb = sys.exc_info()\n",
    "       return ipython._showtraceback(etype, value, ipython.InteractiveTB.get_exception_only(etype, value))\n",
    "\n",
    "ipython.showtraceback = hide_traceback"
   ]
  },
  {
   "cell_type": "code",
   "execution_count": 3,
   "metadata": {},
   "outputs": [],
   "source": [
    "p = 331\n",
    "d = 'image16'\n",
    "\n",
    "img_rows, img_cols, img_channel = p, p, 3\n",
    "\n",
    "base_model = tf.keras.applications.Xception(weights='imagenet', include_top=False, input_shape=(img_rows, img_cols, img_channel))"
   ]
  },
  {
   "cell_type": "code",
   "execution_count": 4,
   "metadata": {},
   "outputs": [
    {
     "name": "stdout",
     "output_type": "stream",
     "text": [
      "WARNING:tensorflow:Large dropout rate: 0.8 (>0.5). In TensorFlow 2.x, dropout() uses dropout rate instead of keep_prob. Please ensure that this is intended.\n",
      "WARNING:tensorflow:Large dropout rate: 0.8 (>0.5). In TensorFlow 2.x, dropout() uses dropout rate instead of keep_prob. Please ensure that this is intended.\n"
     ]
    }
   ],
   "source": [
    "add_model = tf.keras.Sequential()\n",
    "add_model.add(tf.keras.layers.Flatten(input_shape=base_model.output_shape[1:]))\n",
    "add_model.add(tf.keras.layers.Dropout(rate = 0.8))\n",
    "#add_model.add(tf.keras.layers.Dense(units=256, activation=tf.nn.relu))\n",
    "add_model.add(tf.keras.layers.Dense(units=11, activation=tf.nn.softmax))\n",
    "\n",
    "model = tf.keras.Model(inputs=base_model.input, outputs=add_model(base_model.output))\n",
    "model.compile(loss='categorical_crossentropy', optimizer=tf.keras.optimizers.Adam(lr=1e-6),\n",
    "              metrics=['accuracy'])\n",
    "\n",
    "#model.summary()"
   ]
  },
  {
   "cell_type": "code",
   "execution_count": 5,
   "metadata": {
    "scrolled": true
   },
   "outputs": [
    {
     "name": "stdout",
     "output_type": "stream",
     "text": [
      "Found 4742 images belonging to 11 classes.\n",
      "Found 527 images belonging to 11 classes.\n",
      "WARNING:tensorflow:From <ipython-input-5-d259cac3a232>:27: Model.fit_generator (from tensorflow.python.keras.engine.training) is deprecated and will be removed in a future version.\n",
      "Instructions for updating:\n",
      "Please use Model.fit, which supports generators.\n",
      "WARNING:tensorflow:sample_weight modes were coerced from\n",
      "  ...\n",
      "    to  \n",
      "  ['...']\n",
      "WARNING:tensorflow:sample_weight modes were coerced from\n",
      "  ...\n",
      "    to  \n",
      "  ['...']\n",
      "Train for 592 steps, validate for 65 steps\n",
      "Epoch 1/100\n",
      "WARNING:tensorflow:Large dropout rate: 0.8 (>0.5). In TensorFlow 2.x, dropout() uses dropout rate instead of keep_prob. Please ensure that this is intended.\n",
      "WARNING:tensorflow:Large dropout rate: 0.8 (>0.5). In TensorFlow 2.x, dropout() uses dropout rate instead of keep_prob. Please ensure that this is intended.\n",
      "592/592 [==============================] - 236s 399ms/step - loss: 2.9765 - accuracy: 0.1035 - val_loss: 2.3908 - val_accuracy: 0.1442\n",
      "Epoch 2/100\n",
      "592/592 [==============================] - 231s 390ms/step - loss: 2.8302 - accuracy: 0.1257 - val_loss: 2.3602 - val_accuracy: 0.1365\n",
      "Epoch 3/100\n",
      "592/592 [==============================] - 232s 391ms/step - loss: 2.7223 - accuracy: 0.1278 - val_loss: 2.3274 - val_accuracy: 0.1846\n",
      "Epoch 4/100\n",
      "592/592 [==============================] - 233s 393ms/step - loss: 2.6433 - accuracy: 0.1515 - val_loss: 2.3073 - val_accuracy: 0.1942\n",
      "Epoch 5/100\n",
      "592/592 [==============================] - 233s 393ms/step - loss: 2.5508 - accuracy: 0.1692 - val_loss: 2.2964 - val_accuracy: 0.2096\n",
      "Epoch 6/100\n",
      "592/592 [==============================] - 232s 393ms/step - loss: 2.4602 - accuracy: 0.1766 - val_loss: 2.2677 - val_accuracy: 0.2192\n",
      "Epoch 7/100\n",
      "592/592 [==============================] - 233s 393ms/step - loss: 2.3728 - accuracy: 0.1975 - val_loss: 2.2642 - val_accuracy: 0.2077\n",
      "Epoch 8/100\n",
      "592/592 [==============================] - 233s 393ms/step - loss: 2.2892 - accuracy: 0.2112 - val_loss: 2.2475 - val_accuracy: 0.2173\n",
      "Epoch 9/100\n",
      "592/592 [==============================] - 232s 392ms/step - loss: 2.1917 - accuracy: 0.2427 - val_loss: 2.2394 - val_accuracy: 0.2212\n",
      "Epoch 10/100\n",
      "592/592 [==============================] - 232s 392ms/step - loss: 2.1709 - accuracy: 0.2368 - val_loss: 2.2394 - val_accuracy: 0.2192\n",
      "Epoch 11/100\n",
      "592/592 [==============================] - 232s 392ms/step - loss: 2.1215 - accuracy: 0.2619 - val_loss: 2.2310 - val_accuracy: 0.2231\n",
      "Epoch 12/100\n",
      "592/592 [==============================] - 232s 392ms/step - loss: 2.0809 - accuracy: 0.2708 - val_loss: 2.2225 - val_accuracy: 0.2192\n",
      "Epoch 13/100\n",
      "592/592 [==============================] - 232s 392ms/step - loss: 2.0336 - accuracy: 0.2860 - val_loss: 2.2180 - val_accuracy: 0.2308\n",
      "Epoch 14/100\n",
      "592/592 [==============================] - 232s 392ms/step - loss: 1.9972 - accuracy: 0.3052 - val_loss: 2.2152 - val_accuracy: 0.2327\n",
      "Epoch 15/100\n",
      "592/592 [==============================] - 232s 392ms/step - loss: 1.9420 - accuracy: 0.3160 - val_loss: 2.2163 - val_accuracy: 0.2308\n",
      "Epoch 16/100\n",
      "592/592 [==============================] - 232s 392ms/step - loss: 1.9001 - accuracy: 0.3416 - val_loss: 2.2117 - val_accuracy: 0.2308\n",
      "Epoch 17/100\n",
      "592/592 [==============================] - 232s 392ms/step - loss: 1.8352 - accuracy: 0.3646 - val_loss: 2.2074 - val_accuracy: 0.2308\n",
      "Epoch 18/100\n",
      "592/592 [==============================] - 232s 392ms/step - loss: 1.7973 - accuracy: 0.3864 - val_loss: 2.2146 - val_accuracy: 0.2365\n",
      "Epoch 19/100\n",
      "592/592 [==============================] - 232s 392ms/step - loss: 1.7379 - accuracy: 0.3978 - val_loss: 2.2228 - val_accuracy: 0.2269\n",
      "Epoch 20/100\n",
      "592/592 [==============================] - 232s 392ms/step - loss: 1.6927 - accuracy: 0.4208 - val_loss: 2.2344 - val_accuracy: 0.2250\n"
     ]
    }
   ],
   "source": [
    "batch_size = 8\n",
    "epochs = 100\n",
    "\n",
    "train_datagen = tf.keras.preprocessing.image.ImageDataGenerator(rescale=1/255.)\n",
    "val_datagen = tf.keras.preprocessing.image.ImageDataGenerator(rescale=1/255.)\n",
    "test_datagen = tf.keras.preprocessing.image.ImageDataGenerator(rescale=1/255.)\n",
    "\n",
    "train_set = train_datagen.flow_from_directory(d+'/train',\n",
    "                                                 target_size = (p, p),\n",
    "                                                 batch_size = batch_size,\n",
    "                                                 class_mode = 'categorical')\n",
    "\n",
    "val_set = val_datagen.flow_from_directory(d+'/val',\n",
    "                                                 target_size = (p, p),\n",
    "                                                 batch_size = batch_size,\n",
    "                                                 class_mode = 'categorical')\n",
    "\n",
    "\n",
    "callback = tf.keras.callbacks.EarlyStopping(monitor='val_loss', patience=3)\n",
    "\n",
    "history = model.fit_generator(\n",
    "    train_set,\n",
    "    steps_per_epoch= 4742 // batch_size,\n",
    "    epochs=epochs,\n",
    "    validation_data=val_set,\n",
    "    validation_steps = 527 // batch_size,\n",
    "    callbacks=[callback]\n",
    ")"
   ]
  },
  {
   "cell_type": "code",
   "execution_count": 6,
   "metadata": {},
   "outputs": [
    {
     "data": {
      "image/png": "[encoded data removed]",
      "text/plain": [
       "<Figure size 432x288 with 1 Axes>"
      ]
     },
     "metadata": {
      "needs_background": "light"
     },
     "output_type": "display_data"
    },
    {
     "data": {
      "image/png": "[encoded data removed]",
      "text/plain": [
       "<Figure size 432x288 with 1 Axes>"
      ]
     },
     "metadata": {
      "needs_background": "light"
     },
     "output_type": "display_data"
    }
   ],
   "source": [
    "import matplotlib.pyplot as plt\n",
    "\n",
    "plt.plot(history.history['accuracy'])\n",
    "plt.plot(history.history['val_accuracy'])\n",
    "\n",
    "plt.title('model auc')\n",
    "plt.ylabel('acc')\n",
    "plt.xlabel('epoch')\n",
    "plt.legend(['train','test'], loc='upper left')\n",
    "plt.show()\n",
    "\n",
    "plt.plot(history.history['loss'])\n",
    "plt.plot(history.history['val_loss'])\n",
    "\n",
    "plt.title('model loss')\n",
    "plt.ylabel('loss')\n",
    "plt.xlabel('epoch')\n",
    "plt.legend(['train','test'], loc='upper left')\n",
    "plt.show()"
   ]
  },
  {
   "cell_type": "code",
   "execution_count": 7,
   "metadata": {},
   "outputs": [],
   "source": [
    "#d = \"image12\"\n",
    "#p = 331\n",
    "#batch_size = 8\n",
    "#model = tf.keras.models.load_model('image12_model_1e_5_p3.h5')"
   ]
  },
  {
   "cell_type": "code",
   "execution_count": 8,
   "metadata": {},
   "outputs": [
    {
     "name": "stdout",
     "output_type": "stream",
     "text": [
      "Found 28501 images belonging to 11 classes.\n",
      "WARNING:tensorflow:sample_weight modes were coerced from\n",
      "  ...\n",
      "    to  \n",
      "  ['...']\n",
      "3562/3562 [==============================] - 282s 79ms/step - loss: 2.0183 - accuracy: 0.3691\n"
     ]
    }
   ],
   "source": [
    "test_set = test_datagen.flow_from_directory(d+'/test',\n",
    "                                                 target_size = (p, p),\n",
    "                                                 batch_size = batch_size,\n",
    "                                                 class_mode = 'categorical')\n",
    "score = model.evaluate(test_set, steps = 28501 // batch_size)"
   ]
  },
  {
   "cell_type": "code",
   "execution_count": null,
   "metadata": {},
   "outputs": [
    {
     "name": "stdout",
     "output_type": "stream",
     "text": [
      "Found 28501 images belonging to 11 classes.\n"
     ]
    }
   ],
   "source": [
    "test_set = test_datagen.flow_from_directory(d+'/test',\n",
    "                                                 target_size = (p, p),\n",
    "                                                 batch_size = batch_size,\n",
    "                                                 class_mode = 'categorical',\n",
    "                                                shuffle=False)\n",
    "preds = model.predict(test_set, steps = 28501 // batch_size)\n",
    "a = test_set.classes"
   ]
  },
  {
   "cell_type": "code",
   "execution_count": null,
   "metadata": {},
   "outputs": [],
   "source": [
    "y_test = np.zeros((a.size, a.max()+1))\n",
    "y_test[np.arange(a.size),a] = 1"
   ]
  },
  {
   "cell_type": "code",
   "execution_count": null,
   "metadata": {},
   "outputs": [],
   "source": [
    "y_test = y_test[:-(28501%batch_size)]"
   ]
  },
  {
   "cell_type": "code",
   "execution_count": null,
   "metadata": {},
   "outputs": [],
   "source": [
    "def LIFT(preds, y_test, cls): # >=2.5\n",
    "    condition = y_test.astype(bool) #preds에 정답인 예측 score만 남긴다.\n",
    "    c = np.extract(condition, preds)\n",
    "    b = np.argsort(-c)[:len(c)//5] #예측 score 상위 20%\n",
    "    \n",
    "    lift_20 = preds[b] \n",
    "    \n",
    "    lift_20_flat = np.argmax(lift_20, axis=1) #값을 확률에서 0, 1값으로 바꾼다. \n",
    "    y_test_flat = np.argmax(y_test, axis=1)\n",
    "    lift_20_1 = lift_20_flat[lift_20_flat == cls] #1인 경우만 남긴다. \n",
    "    y_1 = y_test_flat[y_test_flat == cls]\n",
    "    \n",
    "    lift_score = (len(lift_20_1)/len(lift_20_flat))/(len(y_1)/len(y_test_flat))\n",
    "    print('LIFT Accuracy: ',  lift_score)\n",
    "    return lift_score"
   ]
  },
  {
   "cell_type": "code",
   "execution_count": null,
   "metadata": {},
   "outputs": [],
   "source": [
    "lift_score = [0, 0, 0]\n",
    "lift_score[0] = LIFT(preds, y_test, 3)\n",
    "lift_score[1] = LIFT(preds, y_test, 4)\n",
    "lift_score[2] = LIFT(preds, y_test, 7)\n",
    "avg_lift = sum(lift_score) / 3"
   ]
  },
  {
   "cell_type": "code",
   "execution_count": null,
   "metadata": {},
   "outputs": [],
   "source": [
    "from sklearn.metrics import roc_curve\n",
    "from sklearn.metrics import auc\n",
    "\n",
    "fpr = dict()\n",
    "tpr = dict()\n",
    "roc_auc = dict()\n",
    "for i in [3, 4, 7]:\n",
    "    fpr[i], tpr[i], _ = roc_curve(y_test[:, i], preds[:, i])\n",
    "    roc_auc[i] = auc(fpr[i], tpr[i])\n",
    "avg_auroc = sum([roc_auc[3], roc_auc[4], roc_auc[7]]) / 3"
   ]
  },
  {
   "cell_type": "code",
   "execution_count": null,
   "metadata": {},
   "outputs": [],
   "source": [
    "final_score = (avg_lift)*0.7 + (avg_auroc)*0.3\n",
    "print(avg_lift, avg_auroc, final_score)"
   ]
  },
  {
   "cell_type": "code",
   "execution_count": null,
   "metadata": {},
   "outputs": [],
   "source": [
    "#model.save('model.h5')"
   ]
  },
  {
   "cell_type": "code",
   "execution_count": null,
   "metadata": {
    "scrolled": true
   },
   "outputs": [],
   "source": [
    "#model = tf.keras.models.load_model('model.h5')"
   ]
  },
  {
   "cell_type": "code",
   "execution_count": null,
   "metadata": {},
   "outputs": [],
   "source": []
  }
 ],
 "metadata": {
  "kernelspec": {
   "display_name": "Python 3",
   "language": "python",
   "name": "python3"
  },
  "language_info": {
   "codemirror_mode": {
    "name": "ipython",
    "version": 3
   },
   "file_extension": ".py",
   "mimetype": "text/x-python",
   "name": "python",
   "nbconvert_exporter": "python",
   "pygments_lexer": "ipython3",
   "version": "3.7.9"
  }
 },
 "nbformat": 4,
 "nbformat_minor": 4
}
