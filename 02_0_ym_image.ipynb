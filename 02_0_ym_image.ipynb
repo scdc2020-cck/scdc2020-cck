{
 "cells": [
  {
   "cell_type": "code",
   "execution_count": null,
   "metadata": {},
   "outputs": [],
   "source": [
    "import os\n",
    "import numpy as np\n",
    "import pandas as pd\n",
    "import gc"
   ]
  },
  {
   "cell_type": "code",
   "execution_count": null,
   "metadata": {},
   "outputs": [],
   "source": [
    "x_name = os.path.join(os.getcwd(), 'SCDC_Track1_2차', f\"{'cst_feat_jan'}.csv\")\n",
    "df_x = pd.read_csv(x_name, index_col=0)\n",
    "\n",
    "y_name = os.path.join(os.getcwd(), 'SCDC_Track1_2차', f\"{'train'}.csv\")\n",
    "df_y = pd.read_csv(y_name, index_col=0)\n",
    "\n",
    "v_name = os.path.join(os.getcwd(), 'SCDC_Track1_2차', f\"{'val'}.csv\")\n",
    "df_v = pd.read_csv(v_name, index_col=0)\n",
    "\n",
    "df_yv = pd.concat([df_y, df_v])\n",
    "df = pd.merge(df_x, df_yv, on='cst_id_di')"
   ]
  },
  {
   "cell_type": "code",
   "execution_count": null,
   "metadata": {},
   "outputs": [],
   "source": [
    "X = df.drop(columns = ['MRC_ID_DI'], axis=1)\n",
    "y = df['MRC_ID_DI']"
   ]
  },
  {
   "cell_type": "code",
   "execution_count": null,
   "metadata": {},
   "outputs": [],
   "source": [
    "X.info(memory_usage='deep')"
   ]
  },
  {
   "cell_type": "code",
   "execution_count": null,
   "metadata": {},
   "outputs": [],
   "source": [
    "len(X.columns)*0.5"
   ]
  },
  {
   "cell_type": "code",
   "execution_count": null,
   "metadata": {},
   "outputs": [],
   "source": [
    "import sklearn.feature_selection\n",
    "\n",
    "select = sklearn.feature_selection.SelectKBest(k=113)\n",
    "selected_features = select.fit(X, y)\n",
    "indices_selected = selected_features.get_support(indices=True)\n",
    "colnames_selected = [X.columns[i] for i in indices_selected]\n",
    "\n",
    "X = X[colnames_selected]"
   ]
  },
  {
   "cell_type": "code",
   "execution_count": null,
   "metadata": {},
   "outputs": [],
   "source": [
    "from itertools import combinations\n",
    "from sklearn.preprocessing import PolynomialFeatures\n",
    "\n",
    "X = X.astype(np.float16)\n",
    "combos = list(combinations(list(X.columns), 2))\n",
    "colnames = list(X.columns) + ['_'.join(x) for x in combos]\n",
    "\n",
    "poly = PolynomialFeatures(interaction_only=True, include_bias=False)\n",
    "X = poly.fit_transform(X)\n",
    "X = pd.DataFrame(X)\n",
    "X.columns = colnames\n",
    "\n",
    "gc.collect()\n",
    "\n",
    "noint_indicies = [i for i, x in enumerate(list((X == 0).all())) if x]\n",
    "X = X.drop(X.columns[noint_indicies], axis = 1)"
   ]
  },
  {
   "cell_type": "code",
   "execution_count": null,
   "metadata": {},
   "outputs": [],
   "source": [
    "temp = X\n",
    "temp['cst_id_di'] = y.index\n",
    "temp = temp.set_index('cst_id_di')\n",
    "temp['MRC_ID_DI'] = y\n",
    "\n",
    "X = temp.drop(columns = ['MRC_ID_DI'], axis=1)\n",
    "y = temp['MRC_ID_DI'].astype(np.int8)\n",
    "gc.collect()"
   ]
  },
  {
   "cell_type": "code",
   "execution_count": null,
   "metadata": {},
   "outputs": [],
   "source": [
    "import sklearn.feature_selection\n",
    "\n",
    "select = sklearn.feature_selection.SelectKBest(k=331)\n",
    "selected_features = select.fit(X, y)\n",
    "indices_selected = selected_features.get_support(indices=True)\n",
    "colnames_selected = [X.columns[i] for i in indices_selected]\n",
    "\n",
    "X = X[colnames_selected]\n",
    "\n",
    "gc.collect()"
   ]
  },
  {
   "cell_type": "code",
   "execution_count": null,
   "metadata": {},
   "outputs": [],
   "source": [
    "from sklearn.model_selection import train_test_split\n",
    "X_train, X_test, y_train, y_test = train_test_split(X, y, test_size=0.1, random_state=1, stratify = y)"
   ]
  },
  {
   "cell_type": "code",
   "execution_count": null,
   "metadata": {},
   "outputs": [],
   "source": [
    "test = X_test\n",
    "test['cst_id_di'] = y_test.index\n",
    "test = test.set_index('cst_id_di')\n",
    "test['MRC_ID_DI'] = y_test\n",
    "\n",
    "X_test = test.drop(columns = ['MRC_ID_DI'], axis=1)\n",
    "y_test = test['MRC_ID_DI']\n",
    "\n",
    "\n",
    "\n",
    "train = X_train\n",
    "train['cst_id_di'] = y_train.index\n",
    "train = train.set_index('cst_id_di')\n",
    "train['MRC_ID_DI'] = y_train\n",
    "\n",
    "train_0 = train[train['MRC_ID_DI'] == 0].sample(frac=1)\n",
    "train_1 = train[train['MRC_ID_DI'] == 1].sample(frac=1)\n",
    "train_2 = train[train['MRC_ID_DI'] == 2].sample(frac=1)\n",
    "train_3 = train[train['MRC_ID_DI'] == 3].sample(frac=1)\n",
    "train_4 = train[train['MRC_ID_DI'] == 4].sample(frac=1)\n",
    "train_5 = train[train['MRC_ID_DI'] == 5].sample(frac=1)\n",
    "train_6 = train[train['MRC_ID_DI'] == 6].sample(frac=1)\n",
    "train_7 = train[train['MRC_ID_DI'] == 7].sample(frac=1)\n",
    "train_8 = train[train['MRC_ID_DI'] == 8].sample(frac=1)\n",
    "train_9 = train[train['MRC_ID_DI'] == 9].sample(frac=1)\n",
    "train_10 = train[train['MRC_ID_DI'] == 10].sample(frac=1)\n",
    "\n",
    "sample_size = min(len(train_0),len(train_1), len(train_2), len(train_3), len(train_4), len(train_5), len(train_6), len(train_7),\n",
    "                 len(train_8), len(train_9), len(train_10))\n",
    "\n",
    "train_f = pd.concat([train_0.head(sample_size), train_1.head(sample_size), train_2.head(sample_size), train_3.head(sample_size),\n",
    "                    train_4.head(sample_size), train_5.head(sample_size), train_6.head(sample_size), train_7.head(sample_size), \n",
    "                    train_8.head(sample_size), train_9.head(sample_size), train_10.head(sample_size)]).sample(frac=1)\n",
    "\n",
    "X_train = train_f.drop(columns = ['MRC_ID_DI'], axis=1)\n",
    "y_train = train_f['MRC_ID_DI']"
   ]
  },
  {
   "cell_type": "code",
   "execution_count": null,
   "metadata": {},
   "outputs": [],
   "source": [
    "X_train, X_val, y_train, y_val = train_test_split(X_train, y_train, test_size=0.1, random_state=1, stratify = y_train)"
   ]
  },
  {
   "cell_type": "code",
   "execution_count": null,
   "metadata": {},
   "outputs": [],
   "source": [
    "\"\"\"\n",
    "X_train[X_train.columns] = (X_train[X_train.columns]+1)/2*255\n",
    "X_test[X_test.columns] = (X_test[X_test.columns]+1)/2*255\n",
    "X_val[X_val.columns] = (X_val[X_val.columns]+1)/2*255\n",
    "\"\"\""
   ]
  },
  {
   "cell_type": "code",
   "execution_count": null,
   "metadata": {},
   "outputs": [],
   "source": [
    "nth_img = 'image16'\n",
    "img_dir = os.path.join(os.getcwd(), nth_img)\n",
    "train_dir = os.path.join(os.getcwd(), nth_img, 'train')\n",
    "test_dir = os.path.join(os.getcwd(), nth_img, 'test')\n",
    "val_dir = os.path.join(os.getcwd(), nth_img, 'val')\n",
    "\n",
    "if not os.path.exists(img_dir):\n",
    "    os.makedirs(img_dir)\n",
    "    \n",
    "    train_dir = os.path.join(os.getcwd(), nth_img, 'train')\n",
    "    test_dir = os.path.join(os.getcwd(), nth_img, 'test')\n",
    "    val_dir = os.path.join(os.getcwd(), nth_img, 'val')\n",
    "    os.makedirs(train_dir)\n",
    "    os.makedirs(test_dir)\n",
    "    os.makedirs(val_dir)\n",
    "    \n",
    "    for t in ['train', 'test', 'val']:\n",
    "        for i in range(11):\n",
    "            os.makedirs(os.path.join(os.getcwd(), nth_img, t, str(i)))"
   ]
  },
  {
   "cell_type": "code",
   "execution_count": null,
   "metadata": {
    "scrolled": true
   },
   "outputs": [],
   "source": [
    "repetitions = 331\n",
    "p = 331\n",
    "\n",
    "from scipy.special import softmax\n",
    "np.set_printoptions(precision=5)\n",
    "\n",
    "from PIL import Image\n",
    "for ind, k in enumerate(y_train.index):\n",
    "    print(ind)\n",
    "    data = np.zeros((p, p, 3), dtype=np.float16)\n",
    "    \n",
    "    \"\"\"\n",
    "    an_array = X_train.iloc[ind].values\n",
    "    row_array = np.tile(an_array, (repetitions, 1))\n",
    "    col_array = np.transpose([an_array] * repetitions)\n",
    "    final_array = (row_array + col_array) / 2\n",
    "    final_array = np.repeat(final_array.flatten(), 3)\n",
    "    data = final_array.reshape((p,p, 3))\n",
    "    \"\"\"\n",
    "    \n",
    "    \"\"\"\n",
    "    an_array = X_train.iloc[ind].values\n",
    "    t_array = np.transpose([an_array])\n",
    "    final_array = np.dot(np.resize(an_array, (p, 1)), np.resize(t_array,(1,p)))\n",
    "    final_array = ((final_array + 1) /2) * 255 \n",
    "    final_array = np.repeat(final_array.flatten(), 3)\n",
    "    data = final_array.reshape((p,p, 3))\n",
    "    \"\"\"\n",
    "    \n",
    "    an_array = X_train.iloc[ind].values\n",
    "    t_array = np.transpose([an_array])\n",
    "    qk = np.dot(np.resize(an_array, (p, 1)), np.resize(t_array,(1,p)))\n",
    "    qkv = np.dot(softmax( qk / np.sqrt(p), axis=1), qk)\n",
    "    final_array = ((qkv + 1) /2) * 255 \n",
    "    final_array = np.repeat(final_array.flatten(), 3)\n",
    "    data = final_array.reshape((p,p, 3))\n",
    "    \n",
    "    \n",
    "    img = Image.fromarray(data.astype(np.uint8), 'RGB')\n",
    "    \n",
    "    img_name = os.path.join(os.getcwd(), nth_img, 'train', str(y_train.iloc[ind]), str(k) + '.png')\n",
    "    img.save(img_name)\n",
    "    \n",
    "    gc.collect()"
   ]
  },
  {
   "cell_type": "code",
   "execution_count": null,
   "metadata": {},
   "outputs": [],
   "source": [
    "for ind, k in enumerate(y_test.index):\n",
    "    print(ind)\n",
    "    data = np.zeros((p, p, 3), dtype=np.float16)\n",
    "    \n",
    "    \"\"\"\n",
    "    an_array = X_test.iloc[ind].values\n",
    "    row_array = np.tile(an_array, (repetitions, 1))\n",
    "    col_array = np.transpose([an_array] * repetitions)\n",
    "    final_array = (row_array + col_array) / 2\n",
    "    final_array = np.repeat(final_array.flatten(), 3)\n",
    "    data = final_array.reshape((p,p, 3))\n",
    "    \"\"\"\n",
    "    \n",
    "    \"\"\"\n",
    "    an_array = X_test.iloc[ind].values\n",
    "    t_array = np.transpose([an_array])\n",
    "    final_array = np.dot(np.resize(an_array, (p, 1)), np.resize(t_array,(1,p)))\n",
    "    final_array = ((final_array + 1) /2) * 255 \n",
    "    final_array = np.repeat(final_array.flatten(), 3)\n",
    "    data = final_array.reshape((p,p, 3))\n",
    "    \"\"\"\n",
    "    \n",
    "    an_array = X_test.iloc[ind].values\n",
    "    t_array = np.transpose([an_array])\n",
    "    qk = np.dot(np.resize(an_array, (p, 1)), np.resize(t_array,(1,p)))\n",
    "    qkv = np.dot(softmax( qk / np.sqrt(p), axis=1), qk)\n",
    "    final_array = ((qkv + 1) /2) * 255 \n",
    "    final_array = np.repeat(final_array.flatten(), 3)\n",
    "    data = final_array.reshape((p,p, 3))\n",
    "    \n",
    "    img = Image.fromarray(data.astype(np.uint8), 'RGB')\n",
    "    \n",
    "    img_name = os.path.join(os.getcwd(), nth_img, 'test', str(y_test.iloc[ind]), str(k) + '.png')\n",
    "    img.save(img_name)\n",
    "    \n",
    "    gc.collect()"
   ]
  },
  {
   "cell_type": "code",
   "execution_count": null,
   "metadata": {},
   "outputs": [],
   "source": [
    "for ind, k in enumerate(y_val.index):\n",
    "    print(ind)\n",
    "    data = np.zeros((p, p, 3), dtype=np.float16)\n",
    "    \n",
    "    \"\"\"\n",
    "    an_array = X_val.iloc[ind].values\n",
    "    row_array = np.tile(an_array, (repetitions, 1))\n",
    "    col_array = np.transpose([an_array] * repetitions)\n",
    "    final_array = (row_array + col_array) / 2\n",
    "    final_array = np.repeat(final_array.flatten(), 3)\n",
    "    data = final_array.reshape((p,p, 3))\n",
    "    \"\"\"\n",
    "    \n",
    "    \"\"\"\n",
    "    an_array = X_val.iloc[ind].values\n",
    "    t_array = np.transpose([an_array])\n",
    "    final_array = np.dot(np.resize(an_array, (p, 1)), np.resize(t_array,(1,p)))\n",
    "    final_array = ((final_array + 1) /2) * 255 \n",
    "    final_array = np.repeat(final_array.flatten(), 3)\n",
    "    data = final_array.reshape((p,p, 3))\n",
    "    \"\"\"\n",
    "    \n",
    "    an_array = X_val.iloc[ind].values\n",
    "    t_array = np.transpose([an_array])\n",
    "    qk = np.dot(np.resize(an_array, (p, 1)), np.resize(t_array,(1,p)))\n",
    "    qkv = np.dot(softmax( qk / np.sqrt(p), axis=1), qk)\n",
    "    final_array = ((qkv + 1) /2) * 255 \n",
    "    final_array = np.repeat(final_array.flatten(), 3)\n",
    "    data = final_array.reshape((p,p, 3))\n",
    "    \n",
    "    img = Image.fromarray(data.astype(np.uint8), 'RGB')\n",
    "    \n",
    "    img_name = os.path.join(os.getcwd(), nth_img, 'val', str(y_val.iloc[ind]), str(k) + '.png')\n",
    "    img.save(img_name)\n",
    "    \n",
    "    gc.collect()"
   ]
  },
  {
   "cell_type": "code",
   "execution_count": null,
   "metadata": {},
   "outputs": [],
   "source": [
    "len(y_train), len(y_test), len(y_val)"
   ]
  },
  {
   "cell_type": "code",
   "execution_count": null,
   "metadata": {},
   "outputs": [],
   "source": [
    "#(4742, 28501, 527)"
   ]
  }
 ],
 "metadata": {
  "kernelspec": {
   "display_name": "Python 3",
   "language": "python",
   "name": "python3"
  },
  "language_info": {
   "codemirror_mode": {
    "name": "ipython",
    "version": 3
   },
   "file_extension": ".py",
   "mimetype": "text/x-python",
   "name": "python",
   "nbconvert_exporter": "python",
   "pygments_lexer": "ipython3",
   "version": "3.7.9"
  }
 },
 "nbformat": 4,
 "nbformat_minor": 4
}
