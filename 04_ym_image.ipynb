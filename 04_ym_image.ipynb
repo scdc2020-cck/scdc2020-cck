{
 "cells": [
  {
   "cell_type": "code",
   "execution_count": null,
   "metadata": {},
   "outputs": [],
   "source": [
    "import matplotlib as mpl\n",
    "import matplotlib.pyplot as plt\n",
    "import seaborn as sns\n",
    "\n",
    "import os\n",
    "import re\n",
    "import numpy as np\n",
    "import pandas as pd\n",
    "import collections"
   ]
  },
  {
   "cell_type": "code",
   "execution_count": null,
   "metadata": {},
   "outputs": [],
   "source": [
    "x_name = os.path.join(os.getcwd(), '데이터SET', f\"{'[Track1_데이터3] samp_cst_feat'}.csv\")\n",
    "df_x = pd.read_csv(x_name, index_col=0)\n",
    "\n",
    "y_name = os.path.join(os.getcwd(), '데이터SET', f\"{'[Track1_데이터2] samp_train'}.csv\")\n",
    "df_y = pd.read_csv(y_name, index_col=0)\n",
    "\n",
    "df = pd.merge(df_x, df_y, on='cst_id_di')"
   ]
  },
  {
   "cell_type": "code",
   "execution_count": null,
   "metadata": {},
   "outputs": [],
   "source": [
    "df.MRC_ID_DI[df.MRC_ID_DI > 0 ] = 1"
   ]
  },
  {
   "cell_type": "code",
   "execution_count": null,
   "metadata": {},
   "outputs": [],
   "source": [
    "nc_name = os.path.join(os.getcwd(), '데이터SET', f\"{'[Track1_데이터4] variable_dtype'}.xlsx\")\n",
    "nc = pd.read_excel(nc_name, index_col=0)"
   ]
  },
  {
   "cell_type": "code",
   "execution_count": null,
   "metadata": {},
   "outputs": [],
   "source": [
    "df = df.drop(columns = ['MRC_ID_DI', 'VAR021', 'VAR046'], axis=1)"
   ]
  },
  {
   "cell_type": "code",
   "execution_count": null,
   "metadata": {},
   "outputs": [],
   "source": [
    "df[df.columns] = (df[df.columns]+1)/2*255"
   ]
  },
  {
   "cell_type": "code",
   "execution_count": null,
   "metadata": {},
   "outputs": [],
   "source": [
    "from PIL import Image\n",
    "import numpy as np\n",
    "for ind, k in enumerate(df.index):\n",
    "    data = np.zeros((224, 224, 3), dtype=np.uint8)\n",
    "    for i in range(224):\n",
    "        for j in range(224):\n",
    "            data[i, j] = [df.iloc[ind, j], df.iloc[ind, j], df.iloc[ind, j]]\n",
    "    img = Image.fromarray(data, 'RGB')\n",
    "    img_name = os.path.join(os.getcwd(), 'image', str(k) + '.png')\n",
    "    img.save(img_name)"
   ]
  },
  {
   "cell_type": "code",
   "execution_count": null,
   "metadata": {},
   "outputs": [],
   "source": []
  },
  {
   "cell_type": "code",
   "execution_count": null,
   "metadata": {},
   "outputs": [],
   "source": [
    "import matplotlib.pyplot as plt\n",
    "%matplotlib inline\n",
    "import numpy as np\n",
    "import pandas as pd\n",
    "import cv2\n",
    "import math\n",
    "from glob import glob\n",
    "import os\n",
    "\n",
    "master_path = os.path.join(os.getcwd(), '데이터SET', f\"{'[Track1_데이터2] samp_train'}.csv\")\n",
    "master = pd.read_csv(master_path)\n",
    "master.MRC_ID_DI[master.MRC_ID_DI > 0 ] = 1"
   ]
  },
  {
   "cell_type": "code",
   "execution_count": null,
   "metadata": {},
   "outputs": [],
   "source": [
    "master_0 = master[master['MRC_ID_DI'] == 0].sample(frac=1)\n",
    "master_1 = master[master['MRC_ID_DI'] == 1].sample(frac=1)\n",
    "\n",
    "sample_size = len(master_0) if len(master_0) < len(master_1) else len(master_1)\n",
    "\n",
    "master = pd.concat([master_0.head(sample_size), master_1.head(sample_size)]).sample(frac=1)\n",
    "\n",
    "master_copy = master.copy()\n",
    "train_set = master_copy.sample(frac=0.8, random_state=42)\n",
    "test_set = master_copy.drop(train_set.index)"
   ]
  },
  {
   "cell_type": "code",
   "execution_count": null,
   "metadata": {},
   "outputs": [],
   "source": [
    "train_set"
   ]
  },
  {
   "cell_type": "code",
   "execution_count": null,
   "metadata": {},
   "outputs": [],
   "source": [
    "img_path = os.path.join(os.getcwd(), 'image')\n",
    "\n",
    "y_train = []\n",
    "X_train_paths = []\n",
    "\n",
    "y_test = []\n",
    "X_test_paths = []\n",
    "\n",
    "for i in range(len(master)):\n",
    "    if master.iloc[i, 0] in train_set.cst_id_di.values:\n",
    "        X_train_paths.append( os.path.join(img_path, str(master.iloc[i, 0]) +'.png') )\n",
    "        y_train.append(master.iloc[i, 1])\n",
    "    else:\n",
    "        X_test_paths.append( os.path.join(img_path, str(master.iloc[i, 0]) +'.png') )\n",
    "        y_test.append(master.iloc[i, 1])\n",
    "\n",
    "y_train = np.array(y_train)\n",
    "y_test = np.array(y_test)"
   ]
  },
  {
   "cell_type": "code",
   "execution_count": null,
   "metadata": {},
   "outputs": [],
   "source": [
    "X_train_paths"
   ]
  },
  {
   "cell_type": "code",
   "execution_count": null,
   "metadata": {},
   "outputs": [],
   "source": [
    "X_train = []\n",
    "for file_path in X_train_paths:\n",
    "    #read image\n",
    "    img = cv2.imread(file_path)\n",
    "    X_train.append(img)\n",
    "\n",
    "X_train = np.array(X_train)\n",
    "\n",
    "X_test = []\n",
    "for file_path in X_test_paths:\n",
    "    #read image\n",
    "    img = cv2.imread(file_path)\n",
    "    X_test.append(img)\n",
    "\n",
    "X_test = np.array(X_test)"
   ]
  },
  {
   "cell_type": "code",
   "execution_count": null,
   "metadata": {},
   "outputs": [],
   "source": [
    "import tensorflow as tf\n",
    "y_train = tf.keras.utils.to_categorical(y_train)"
   ]
  },
  {
   "cell_type": "code",
   "execution_count": null,
   "metadata": {},
   "outputs": [],
   "source": [
    "val_split_num = int(round(0.2*len(y_train)))\n",
    "x_t = X_train[val_split_num:]\n",
    "y_t = y_train[val_split_num:]\n",
    "x_v = X_train[:val_split_num]\n",
    "y_v = y_train[:val_split_num]\n",
    "\n",
    "print('x_train', x_t.shape)\n",
    "print('y_train', y_t.shape)\n",
    "print('x_test', x_v.shape)\n",
    "print('y_test', y_v.shape)"
   ]
  },
  {
   "cell_type": "code",
   "execution_count": null,
   "metadata": {},
   "outputs": [],
   "source": [
    "import os\n",
    "import pandas as pd\n",
    "import numpy as np\n",
    "import tensorflow as tf\n",
    "from sklearn.model_selection import train_test_split\n",
    "import random\n",
    "\n",
    "physical_devices = tf.config.list_physical_devices('GPU') \n",
    "tf.config.experimental.set_memory_growth(physical_devices[0], True)\n",
    "\n",
    "seed_value= 0\n",
    "os.environ['PYTHONHASHSEED']=str(seed_value)\n",
    "random.seed(seed_value)\n",
    "np.random.seed(seed_value)\n",
    "tf.random.set_seed(seed_value)"
   ]
  },
  {
   "cell_type": "code",
   "execution_count": null,
   "metadata": {},
   "outputs": [],
   "source": [
    "from keras.models import Sequential, Model, load_model\n",
    "from keras import applications\n",
    "from keras import optimizers\n",
    "from keras.layers import Dropout, Flatten, Dense\n",
    "\n",
    "img_rows, img_cols, img_channel = 224, 224, 3\n",
    "\n",
    "base_model = applications.VGG16(weights='imagenet', include_top=False, input_shape=(img_rows, img_cols, img_channel))"
   ]
  },
  {
   "cell_type": "code",
   "execution_count": null,
   "metadata": {},
   "outputs": [],
   "source": [
    "add_model = Sequential()\n",
    "add_model.add(Flatten(input_shape=base_model.output_shape[1:]))\n",
    "add_model.add(Dense(256, activation='relu'))\n",
    "add_model.add(Dense(units=2, activation=\"softmax\"))\n",
    "\n",
    "model = Model(inputs=base_model.input, outputs=add_model(base_model.output))\n",
    "model.compile(loss='binary_crossentropy', optimizer=optimizers.SGD(lr=1e-4, momentum=0.9),\n",
    "              metrics=['accuracy'])\n",
    "\n",
    "model.summary()"
   ]
  },
  {
   "cell_type": "code",
   "execution_count": null,
   "metadata": {},
   "outputs": [],
   "source": [
    "import sys\n",
    "ipython = get_ipython()\n",
    "\n",
    "def hide_traceback(exc_tuple=None, filename=None, tb_offset=None,\n",
    "                      exception_only=False, running_compiled_code=False):\n",
    "       etype, value, tb = sys.exc_info()\n",
    "       return ipython._showtraceback(etype, value, ipython.InteractiveTB.get_exception_only(etype, value))\n",
    "\n",
    "ipython.showtraceback = hide_traceback"
   ]
  },
  {
   "cell_type": "code",
   "execution_count": null,
   "metadata": {},
   "outputs": [],
   "source": [
    "from keras.preprocessing.image import ImageDataGenerator\n",
    "from keras.callbacks import ModelCheckpoint\n",
    "\n",
    "batch_size = 32\n",
    "epochs = 50\n",
    "\n",
    "train_datagen = ImageDataGenerator(\n",
    "        rotation_range=30, \n",
    "        width_shift_range=0.1,\n",
    "        height_shift_range=0.1, \n",
    "        horizontal_flip=True)\n",
    "train_datagen.fit(x_t)\n",
    "\n",
    "\n",
    "history = model.fit_generator(\n",
    "    train_datagen.flow(x_t, y_t, batch_size=batch_size),\n",
    "    steps_per_epoch=x_t.shape[0] // batch_size,\n",
    "    epochs=epochs,\n",
    "    validation_data=(x_v, y_v),\n",
    "    callbacks=[ModelCheckpoint('VGG16-transferlearning.model', monitor='val_acc', save_best_only=True)]\n",
    ")"
   ]
  },
  {
   "cell_type": "code",
   "execution_count": null,
   "metadata": {},
   "outputs": [],
   "source": [
    "a"
   ]
  },
  {
   "cell_type": "code",
   "execution_count": null,
   "metadata": {},
   "outputs": [],
   "source": []
  }
 ],
 "metadata": {
  "kernelspec": {
   "display_name": "Python 3",
   "language": "python",
   "name": "python3"
  },
  "language_info": {
   "codemirror_mode": {
    "name": "ipython",
    "version": 3
   },
   "file_extension": ".py",
   "mimetype": "text/x-python",
   "name": "python",
   "nbconvert_exporter": "python",
   "pygments_lexer": "ipython3",
   "version": "3.7.7"
  }
 },
 "nbformat": 4,
 "nbformat_minor": 4
}
