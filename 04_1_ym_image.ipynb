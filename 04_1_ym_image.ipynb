{
 "cells": [
  {
   "cell_type": "code",
   "execution_count": 1,
   "metadata": {},
   "outputs": [],
   "source": [
    "import matplotlib as mpl\n",
    "import matplotlib.pyplot as plt\n",
    "import seaborn as sns\n",
    "\n",
    "import os\n",
    "import re\n",
    "import numpy as np\n",
    "import pandas as pd\n",
    "import collections"
   ]
  },
  {
   "cell_type": "code",
   "execution_count": 2,
   "metadata": {},
   "outputs": [],
   "source": [
    "x_name = os.path.join(os.getcwd(), '데이터SET', f\"{'[Track1_데이터3] samp_cst_feat'}.csv\")\n",
    "df_x = pd.read_csv(x_name, index_col=0)\n",
    "\n",
    "y_name = os.path.join(os.getcwd(), '데이터SET', f\"{'[Track1_데이터2] samp_train'}.csv\")\n",
    "df_y = pd.read_csv(y_name, index_col=0)\n",
    "\n",
    "df = pd.merge(df_x, df_y, on='cst_id_di')"
   ]
  },
  {
   "cell_type": "code",
   "execution_count": 3,
   "metadata": {},
   "outputs": [
    {
     "name": "stderr",
     "output_type": "stream",
     "text": [
      "C:\\ProgramData\\Anaconda3\\lib\\site-packages\\ipykernel_launcher.py:1: SettingWithCopyWarning: \n",
      "A value is trying to be set on a copy of a slice from a DataFrame\n",
      "\n",
      "See the caveats in the documentation: https://pandas.pydata.org/pandas-docs/stable/user_guide/indexing.html#returning-a-view-versus-a-copy\n",
      "  \"\"\"Entry point for launching an IPython kernel.\n"
     ]
    }
   ],
   "source": [
    "df.MRC_ID_DI[df.MRC_ID_DI > 0 ] = 1"
   ]
  },
  {
   "cell_type": "code",
   "execution_count": 4,
   "metadata": {},
   "outputs": [],
   "source": [
    "nc_name = os.path.join(os.getcwd(), '데이터SET', f\"{'[Track1_데이터4] variable_dtype'}.xlsx\")\n",
    "nc = pd.read_excel(nc_name, index_col=0)"
   ]
  },
  {
   "cell_type": "code",
   "execution_count": 5,
   "metadata": {},
   "outputs": [],
   "source": [
    "X = df.drop(columns = ['MRC_ID_DI'], axis=1)\n",
    "y = df['MRC_ID_DI']"
   ]
  },
  {
   "cell_type": "code",
   "execution_count": 6,
   "metadata": {},
   "outputs": [],
   "source": [
    "from itertools import combinations\n",
    "from sklearn.preprocessing import PolynomialFeatures\n",
    "\n",
    "def add_interactions(df):\n",
    "    combos = list(combinations(list(df.columns), 2))\n",
    "    colnames = list(df.columns) + ['_'.join(x) for x in combos]\n",
    "    \n",
    "    poly = PolynomialFeatures(interaction_only=True, include_bias=False)\n",
    "    df = poly.fit_transform(df)\n",
    "    df = pd.DataFrame(df)\n",
    "    df.columns = colnames\n",
    "    \n",
    "    noint_indicies = [i for i, x in enumerate(list((df == 0).all())) if x]\n",
    "    df = df.drop(df.columns[noint_indicies], axis = 1)\n",
    "    \n",
    "    return df\n",
    "\n",
    "X = add_interactions(X)"
   ]
  },
  {
   "cell_type": "code",
   "execution_count": 7,
   "metadata": {},
   "outputs": [],
   "source": [
    "from sklearn.model_selection import train_test_split\n",
    "X_train, X_test, y_train, y_test = train_test_split(X, y, test_size=0.1, random_state=1, stratify = y)"
   ]
  },
  {
   "cell_type": "code",
   "execution_count": 8,
   "metadata": {},
   "outputs": [
    {
     "name": "stderr",
     "output_type": "stream",
     "text": [
      "C:\\ProgramData\\Anaconda3\\lib\\site-packages\\ipykernel_launcher.py:2: SettingWithCopyWarning: \n",
      "A value is trying to be set on a copy of a slice from a DataFrame.\n",
      "Try using .loc[row_indexer,col_indexer] = value instead\n",
      "\n",
      "See the caveats in the documentation: https://pandas.pydata.org/pandas-docs/stable/user_guide/indexing.html#returning-a-view-versus-a-copy\n",
      "  \n",
      "C:\\ProgramData\\Anaconda3\\lib\\site-packages\\ipykernel_launcher.py:12: SettingWithCopyWarning: \n",
      "A value is trying to be set on a copy of a slice from a DataFrame.\n",
      "Try using .loc[row_indexer,col_indexer] = value instead\n",
      "\n",
      "See the caveats in the documentation: https://pandas.pydata.org/pandas-docs/stable/user_guide/indexing.html#returning-a-view-versus-a-copy\n",
      "  if sys.path[0] == '':\n"
     ]
    }
   ],
   "source": [
    "test = X_test\n",
    "test['cst_id_di'] = y_test.index\n",
    "test = test.set_index('cst_id_di')\n",
    "test['MRC_ID_DI'] = y_test\n",
    "\n",
    "X_test = test.drop(columns = ['MRC_ID_DI'], axis=1)\n",
    "y_test = test['MRC_ID_DI']\n",
    "\n",
    "\n",
    "\n",
    "train = X_train\n",
    "train['cst_id_di'] = y_train.index\n",
    "train = train.set_index('cst_id_di')\n",
    "train['MRC_ID_DI'] = y_train\n",
    "\n",
    "train_0 = train[train['MRC_ID_DI'] == 0].sample(frac=1)\n",
    "train_1 = train[train['MRC_ID_DI'] == 1].sample(frac=1)\n",
    "\n",
    "sample_size = len(train_0) if len(train_0) < len(train_1) else len(train_1)\n",
    "\n",
    "train_f = pd.concat([train_0.head(sample_size), train_1.head(sample_size)]).sample(frac=1)\n",
    "\n",
    "X_train = train_f.drop(columns = ['MRC_ID_DI'], axis=1)\n",
    "y_train = train_f['MRC_ID_DI']"
   ]
  },
  {
   "cell_type": "code",
   "execution_count": 9,
   "metadata": {},
   "outputs": [
    {
     "name": "stderr",
     "output_type": "stream",
     "text": [
      "C:\\ProgramData\\Anaconda3\\lib\\site-packages\\sklearn\\feature_selection\\_univariate_selection.py:115: UserWarning: Features [ 1453  3776  5455 11480] are constant.\n",
      "  UserWarning)\n",
      "C:\\ProgramData\\Anaconda3\\lib\\site-packages\\sklearn\\feature_selection\\_univariate_selection.py:116: RuntimeWarning: invalid value encountered in true_divide\n",
      "  f = msb / msw\n"
     ]
    }
   ],
   "source": [
    "import sklearn.feature_selection\n",
    "\n",
    "select = sklearn.feature_selection.SelectKBest(k=331)\n",
    "selected_features = select.fit(X_train, y_train)\n",
    "indices_selected = selected_features.get_support(indices=True)\n",
    "colnames_selected = [X_train.columns[i] for i in indices_selected]\n",
    "\n",
    "X_train = X_train[colnames_selected]\n",
    "X_test = X_test[colnames_selected]"
   ]
  },
  {
   "cell_type": "code",
   "execution_count": 10,
   "metadata": {},
   "outputs": [],
   "source": [
    "X_train, X_val, y_train, y_val = train_test_split(X_train, y_train, test_size=0.1, random_state=1, stratify = y_train)"
   ]
  },
  {
   "cell_type": "code",
   "execution_count": 11,
   "metadata": {},
   "outputs": [],
   "source": [
    "X_train[X_train.columns] = (X_train[X_train.columns]+1)/2*255\n",
    "X_test[X_test.columns] = (X_test[X_test.columns]+1)/2*255\n",
    "X_val[X_val.columns] = (X_val[X_val.columns]+1)/2*255"
   ]
  },
  {
   "cell_type": "code",
   "execution_count": null,
   "metadata": {
    "scrolled": true
   },
   "outputs": [
    {
     "name": "stdout",
     "output_type": "stream",
     "text": [
      "0 90000218963\n",
      "1 90000318827\n",
      "2 90000439495\n",
      "3 90000163937\n",
      "4 90000239064\n",
      "5 90000175399\n",
      "6 90000103038\n",
      "7 90000395076\n",
      "8 90000172786\n",
      "9 90000384826\n",
      "10 90000428439\n",
      "11 90000104086\n",
      "12 90000275758\n",
      "13 90000229649\n",
      "14 90000091226\n",
      "15 90000249409\n",
      "16 90000131603\n",
      "17 90000459007\n",
      "18 90000016535\n",
      "19 90000296142\n",
      "20 90000067138\n",
      "21 90000437452\n",
      "22 90000419894\n",
      "23 90000447652\n",
      "24 90000030838\n",
      "25 90000223890\n",
      "26 90000014384\n",
      "27 90000442205\n",
      "28 90000282652\n",
      "29 90000286757\n",
      "30 90000325522\n",
      "31 90000032754\n",
      "32 90000374698\n",
      "33 90000012945\n",
      "34 90000265395\n",
      "35 90000112196\n",
      "36 90000197295\n",
      "37 90000316760\n",
      "38 90000093733\n",
      "39 90000003792\n",
      "40 90000160427\n",
      "41 90000280301\n",
      "42 90000212366\n",
      "43 90000405995\n",
      "44 90000326862\n",
      "45 90000276838\n",
      "46 90000247683\n",
      "47 90000361467\n",
      "48 90000450588\n",
      "49 90000098273\n",
      "50 90000041980\n",
      "51 90000458153\n",
      "52 90000242689\n",
      "53 90000095537\n",
      "54 90000089777\n",
      "55 90000255364\n",
      "56 90000382075\n",
      "57 90000158105\n",
      "58 90000228018\n",
      "59 90000309760\n",
      "60 90000223330\n",
      "61 90000100276\n",
      "62 90000264865\n",
      "63 90000000354\n",
      "64 90000001372\n",
      "65 90000301172\n",
      "66 90000359565\n",
      "67 90000288659\n",
      "68 90000243998\n",
      "69 90000130508\n",
      "70 90000265571\n",
      "71 90000254931\n",
      "72 90000032701\n",
      "73 90000313145\n",
      "74 90000274943\n",
      "75 90000364628\n",
      "76 90000401938\n",
      "77 90000023875\n",
      "78 90000362658\n",
      "79 90000022033\n",
      "80 90000090420\n",
      "81 90000087695\n",
      "82 90000343086\n",
      "83 90000335025\n",
      "84 90000101305\n",
      "85 90000105156\n",
      "86 90000237205\n",
      "87 90000433049\n",
      "88 90000426275\n",
      "89 90000334219\n",
      "90 90000335571\n",
      "91 90000291195\n",
      "92 90000313310\n",
      "93 90000278232\n",
      "94 90000362645\n",
      "95 90000340548\n"
     ]
    }
   ],
   "source": [
    "from PIL import Image\n",
    "import numpy as np\n",
    "for ind, k in enumerate(y_train.index):\n",
    "    data = np.zeros((331, 331, 3), dtype=np.uint8)\n",
    "    for i in range(331):\n",
    "        for j in range(331):\n",
    "            data[i, j] = [(X_train.iloc[ind, j] + X_train.iloc[ind, i])//2, \n",
    "                          (X_train.iloc[ind, j] + X_train.iloc[ind, i])//2, \n",
    "                          (X_train.iloc[ind, j] + X_train.iloc[ind, i])//2]\n",
    "    img = Image.fromarray(data, 'RGB')\n",
    "    \n",
    "    if y_train.iloc[ind] == 0:\n",
    "        img_name = os.path.join(os.getcwd(), 'image5', 'train', '0', str(k) + '.png')\n",
    "    else:\n",
    "        img_name = os.path.join(os.getcwd(), 'image5', 'train', '1', str(k) + '.png')\n",
    "    img.save(img_name)"
   ]
  },
  {
   "cell_type": "code",
   "execution_count": null,
   "metadata": {},
   "outputs": [],
   "source": [
    "for ind, k in enumerate(y_test.index):\n",
    "    data = np.zeros((331, 331, 3), dtype=np.uint8)\n",
    "    for i in range(331):\n",
    "        for j in range(331):\n",
    "            data[i, j] = [(X_test.iloc[ind, j] + X_test.iloc[ind, i])//2, \n",
    "                          (X_test.iloc[ind, j] + X_test.iloc[ind, i])//2, \n",
    "                          (X_test.iloc[ind, j] + X_test.iloc[ind, i])//2]\n",
    "    img = Image.fromarray(data, 'RGB')\n",
    "    if y_test.iloc[ind] == 0:\n",
    "        img_name = os.path.join(os.getcwd(), 'image5', 'test', '0', str(k) + '.png')\n",
    "    else:\n",
    "        img_name = os.path.join(os.getcwd(), 'image5', 'test', '1', str(k) + '.png')\n",
    "    img.save(img_name)"
   ]
  },
  {
   "cell_type": "code",
   "execution_count": null,
   "metadata": {},
   "outputs": [],
   "source": [
    "for ind, k in enumerate(y_val.index):\n",
    "    data = np.zeros((331, 331, 3), dtype=np.uint8)\n",
    "    for i in range(331):\n",
    "        for j in range(331):\n",
    "            data[i, j] = [(X_val.iloc[ind, j] + X_val.iloc[ind, i])//2, \n",
    "                          (X_val.iloc[ind, j] + X_val.iloc[ind, i])//2, \n",
    "                          (X_val.iloc[ind, j] + X_val.iloc[ind, i])//2]\n",
    "    img = Image.fromarray(data, 'RGB')\n",
    "    if y_val.iloc[ind] == 0:\n",
    "        img_name = os.path.join(os.getcwd(), 'image5', 'val', '0', str(k) + '.png')\n",
    "    else:\n",
    "        img_name = os.path.join(os.getcwd(), 'image5', 'val', '1', str(k) + '.png')\n",
    "    img.save(img_name)"
   ]
  }
 ],
 "metadata": {
  "kernelspec": {
   "display_name": "Python 3",
   "language": "python",
   "name": "python3"
  },
  "language_info": {
   "codemirror_mode": {
    "name": "ipython",
    "version": 3
   },
   "file_extension": ".py",
   "mimetype": "text/x-python",
   "name": "python",
   "nbconvert_exporter": "python",
   "pygments_lexer": "ipython3",
   "version": "3.7.7"
  }
 },
 "nbformat": 4,
 "nbformat_minor": 4
}
