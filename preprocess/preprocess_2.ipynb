{
 "cells": [
  {
   "cell_type": "code",
   "execution_count": null,
   "metadata": {},
   "outputs": [],
   "source": [
    "import os\n",
    "import numpy as np\n",
    "import pandas as pd\n",
    "from sklearn.model_selection import train_test_split\n",
    "import sklearn.feature_selection\n",
    "import sys\n",
    "np.set_printoptions(threshold=sys.maxsize)"
   ]
  },
  {
   "cell_type": "code",
   "execution_count": null,
   "metadata": {},
   "outputs": [],
   "source": [
    "df_name = os.path.join(os.path.dirname(os.getcwd()), 'raw', f\"{'cst_feat_feb_quiz'}.csv\")\n",
    "df = pd.read_csv(df_name, index_col=0)"
   ]
  },
  {
   "cell_type": "code",
   "execution_count": null,
   "metadata": {},
   "outputs": [],
   "source": [
    "#colnames_selected.csv에 저장된 칼럼명을 활용하여 모델을 train_preprocess와 동일하게 quiz_preprocess생성.\n",
    "\n",
    "df_col = pd.read_csv('colnames_selected.csv', delimiter=',', header=None)\n",
    "colnames_selected = np.array(df_col[0].tolist())"
   ]
  },
  {
   "cell_type": "code",
   "execution_count": null,
   "metadata": {},
   "outputs": [],
   "source": [
    "#OOM Error방지를 위해 10개의 파일로 분할하여 생성.\n",
    "\n",
    "from itertools import combinations\n",
    "from sklearn.preprocessing import PolynomialFeatures\n",
    "\n",
    "td = [pd.DataFrame() for i in range(10)]\n",
    "td[0], td[1], td[2], td[3], td[4], td[5], td[6], td[7], td[8], td[9] = np.array_split(df, 10)\n",
    "\n",
    "for i, t in enumerate(td):\n",
    "    \n",
    "    df_all = pd.DataFrame(columns = ['cst_id_di', 'MRC_ID_DI', 'image'])\n",
    "    \n",
    "    t['MRC_ID_DI'] = 0\n",
    "    tx = t.drop(columns = ['MRC_ID_DI'], axis=1)\n",
    "    ty = t['MRC_ID_DI']\n",
    "    \n",
    "    tx = tx.astype(np.float16)\n",
    "    combos = list(combinations(list(tx.columns), 2))\n",
    "    colnames = list(tx.columns) + ['_'.join(x) for x in combos]\n",
    "\n",
    "    poly = PolynomialFeatures(interaction_only=True, include_bias=False)\n",
    "    tx = poly.fit_transform(tx)\n",
    "    tx = pd.DataFrame(tx)\n",
    "    tx.columns = colnames\n",
    "\n",
    "    noint_indicies = [i for i, x in enumerate(list((tx == 0).all())) if x]\n",
    "    tx = tx.drop(tx.columns[noint_indicies], axis = 1)\n",
    "    \n",
    "    tt = tx\n",
    "    tt['cst_id_di'] = ty.index\n",
    "    tt = tt.set_index('cst_id_di')\n",
    "    tt['MRC_ID_DI'] = ty\n",
    "\n",
    "    tx = tt.drop(columns = ['MRC_ID_DI'], axis=1)\n",
    "    ty = tt['MRC_ID_DI']\n",
    "\n",
    "    tx = tx[colnames_selected]\n",
    "    \n",
    "    for ind, k in enumerate(ty.index):\n",
    "        \n",
    "        an_array = tx.iloc[ind].values\n",
    "        new_row = {'cst_id_di':k, 'image':an_array}\n",
    "        df_all = df_all.append(new_row, ignore_index=True)\n",
    "    \n",
    "    df_all.to_csv('quiz_preprocess_' + str(i) + '.csv')\n",
    "    del df_all"
   ]
  },
  {
   "cell_type": "code",
   "execution_count": null,
   "metadata": {},
   "outputs": [],
   "source": []
  }
 ],
 "metadata": {
  "kernelspec": {
   "display_name": "Python 3",
   "language": "python",
   "name": "python3"
  },
  "language_info": {
   "codemirror_mode": {
    "name": "ipython",
    "version": 3
   },
   "file_extension": ".py",
   "mimetype": "text/x-python",
   "name": "python",
   "nbconvert_exporter": "python",
   "pygments_lexer": "ipython3",
   "version": "3.6.10"
  }
 },
 "nbformat": 4,
 "nbformat_minor": 4
}
