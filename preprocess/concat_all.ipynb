{
 "cells": [
  {
   "cell_type": "code",
   "execution_count": 1,
   "metadata": {},
   "outputs": [],
   "source": [
    "import pandas as pd\n",
    "import os"
   ]
  },
  {
   "cell_type": "code",
   "execution_count": 2,
   "metadata": {},
   "outputs": [],
   "source": [
    "#all_preprocess_0 ~ all_preprocess_9 를 합칠 때 실행\n",
    "\n",
    "df = pd.DataFrame()\n",
    "df_list = list()\n",
    "\n",
    "for i in range(10):\n",
    "    fname = os.path.join(os.getcwd(), f\"{'all_preprocess_'+str(i)}.csv\")\n",
    "    dff = pd.read_csv(fname, index_col=0)\n",
    "    df_list.append(dff)\n",
    "    \n",
    "df = pd.concat(df_list, ignore_index=True)\n",
    "df.to_csv('all_preprocess.csv')"
   ]
  },
  {
   "cell_type": "code",
   "execution_count": null,
   "metadata": {},
   "outputs": [],
   "source": [
    "#quiz_preprocess_0 ~ quiz_preprocess_9 를 합칠 때 실행\n",
    "\n",
    "df = pd.DataFrame()\n",
    "df_list = list()\n",
    "\n",
    "for i in range(10):\n",
    "    fname = os.path.join(os.getcwd(), f\"{'quiz_preprocess_'+str(i)}.csv\")\n",
    "    dff = pd.read_csv(fname, index_col=0)\n",
    "    df_list.append(dff)\n",
    "    \n",
    "df = pd.concat(df_list, ignore_index=True)\n",
    "df.to_csv('quiz_preprocess.csv')"
   ]
  },
  {
   "cell_type": "code",
   "execution_count": null,
   "metadata": {},
   "outputs": [],
   "source": []
  }
 ],
 "metadata": {
  "kernelspec": {
   "display_name": "Python 3",
   "language": "python",
   "name": "python3"
  },
  "language_info": {
   "codemirror_mode": {
    "name": "ipython",
    "version": 3
   },
   "file_extension": ".py",
   "mimetype": "text/x-python",
   "name": "python",
   "nbconvert_exporter": "python",
   "pygments_lexer": "ipython3",
   "version": "3.6.10"
  }
 },
 "nbformat": 4,
 "nbformat_minor": 4
}
