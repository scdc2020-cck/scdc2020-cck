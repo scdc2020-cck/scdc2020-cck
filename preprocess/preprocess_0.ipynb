{
 "cells": [
  {
   "cell_type": "code",
   "execution_count": null,
   "metadata": {},
   "outputs": [],
   "source": [
    "import os\n",
    "import numpy as np\n",
    "import pandas as pd\n",
    "from sklearn.model_selection import train_test_split\n",
    "import sklearn.feature_selection\n",
    "import sys\n",
    "np.set_printoptions(threshold=sys.maxsize) #array의 데이터(380, )를 truncation없이 저장하기 위해"
   ]
  },
  {
   "cell_type": "code",
   "execution_count": null,
   "metadata": {},
   "outputs": [],
   "source": [
    "x_name = os.path.join(os.path.dirname(os.getcwd()), 'raw', f\"{'cst_feat_jan'}.csv\")\n",
    "df_x = pd.read_csv(x_name, index_col=0)\n",
    "\n",
    "y_name = os.path.join(os.path.dirname(os.getcwd()), 'raw', f\"{'train'}.csv\")\n",
    "df_y = pd.read_csv(y_name, index_col=0)\n",
    "\n",
    "v_name = os.path.join(os.path.dirname(os.getcwd()), 'raw', f\"{'val'}.csv\")\n",
    "df_v = pd.read_csv(v_name, index_col=0)\n",
    "\n",
    "df_yv = pd.concat([df_y, df_v])\n",
    "df = pd.merge(df_x, df_yv, on='cst_id_di')"
   ]
  },
  {
   "cell_type": "code",
   "execution_count": null,
   "metadata": {},
   "outputs": [],
   "source": [
    "nc_name = os.path.join(os.path.dirname(os.getcwd()), 'raw', f\"{'[Track1_데이터4] variable_dtype'}.xlsx\")\n",
    "nc = pd.read_excel(nc_name, index_col=0)"
   ]
  },
  {
   "cell_type": "code",
   "execution_count": null,
   "metadata": {},
   "outputs": [],
   "source": [
    "#Outlier처리: numerical데이터 중 전체 분포의 99%보다 크거나 1%보다 작은 값을 가질 경우 50% 값으로 변경\n",
    "\n",
    "for i in df.columns[0:-1]:\n",
    "    if nc.loc[i, 'dType'] == 'numerical':\n",
    "        d_90 = df[i].quantile(0.99)\n",
    "        d_10 = df[i].quantile(0.01)\n",
    "        d_50 = df[i].quantile(0.50)\n",
    "        df[i] = np.where(df[i] > d_90, d_90, df[i])\n",
    "        df[i] = np.where(df[i] < d_10, d_10, df[i])"
   ]
  },
  {
   "cell_type": "code",
   "execution_count": null,
   "metadata": {},
   "outputs": [],
   "source": [
    "X = df.drop(columns = ['MRC_ID_DI'], axis=1)\n",
    "y = df['MRC_ID_DI']"
   ]
  },
  {
   "cell_type": "code",
   "execution_count": null,
   "metadata": {},
   "outputs": [],
   "source": [
    "#stratify를 이용해 test데이터 MRC_ID_DI분포를 전체 데이터 MRC_ID_DI분포와 일치하게 함.\n",
    "\n",
    "X_train, X_test, y_train, y_test = train_test_split(X, y, test_size=0.01, random_state=1, stratify = y)"
   ]
  },
  {
   "cell_type": "code",
   "execution_count": null,
   "metadata": {},
   "outputs": [],
   "source": [
    "#train데이터의 각 MRC_ID_DI의 수를 동일하게 함. \n",
    "\n",
    "train = X_train\n",
    "train['cst_id_di'] = y_train.index\n",
    "train = train.set_index('cst_id_di')\n",
    "train['MRC_ID_DI'] = y_train\n",
    "\n",
    "train_0 = train[train['MRC_ID_DI'] == 0].sample(frac=1)\n",
    "train_1 = train[train['MRC_ID_DI'] == 1].sample(frac=1)\n",
    "train_2 = train[train['MRC_ID_DI'] == 2].sample(frac=1)\n",
    "train_3 = train[train['MRC_ID_DI'] == 3].sample(frac=1)\n",
    "train_4 = train[train['MRC_ID_DI'] == 4].sample(frac=1)\n",
    "train_5 = train[train['MRC_ID_DI'] == 5].sample(frac=1)\n",
    "train_6 = train[train['MRC_ID_DI'] == 6].sample(frac=1)\n",
    "train_7 = train[train['MRC_ID_DI'] == 7].sample(frac=1)\n",
    "train_8 = train[train['MRC_ID_DI'] == 8].sample(frac=1)\n",
    "train_9 = train[train['MRC_ID_DI'] == 9].sample(frac=1)\n",
    "train_10 = train[train['MRC_ID_DI'] == 10].sample(frac=1)\n",
    "\n",
    "sample_size = min(len(train_0),len(train_1), len(train_2), len(train_3), len(train_4), len(train_5), len(train_6), len(train_7),\n",
    "                 len(train_8), len(train_9), len(train_10))\n",
    "\n",
    "train_f = pd.concat([train_0.head(sample_size), train_1.head(sample_size), train_2.head(sample_size), train_3.head(sample_size),\n",
    "                    train_4.head(sample_size), train_5.head(sample_size), train_6.head(sample_size), train_7.head(sample_size), \n",
    "                    train_8.head(sample_size), train_9.head(sample_size), train_10.head(sample_size)]).sample(frac=1)\n",
    "\n",
    "X_train = train_f.drop(columns = ['MRC_ID_DI'], axis=1)\n",
    "y_train = train_f['MRC_ID_DI']"
   ]
  },
  {
   "cell_type": "code",
   "execution_count": null,
   "metadata": {},
   "outputs": [],
   "source": [
    "#column 수 변화: 226 -> 90 -> 4005 -> 380\n",
    "\n",
    "select = sklearn.feature_selection.SelectKBest(k=90)\n",
    "selected_features = select.fit(X_train, y_train)\n",
    "indices_selected = selected_features.get_support(indices=True)\n",
    "colnames_selected = [X_train.columns[i] for i in indices_selected]\n",
    "\n",
    "X_train = X_train[colnames_selected]"
   ]
  },
  {
   "cell_type": "code",
   "execution_count": null,
   "metadata": {},
   "outputs": [],
   "source": [
    "from itertools import combinations\n",
    "from sklearn.preprocessing import PolynomialFeatures\n",
    "\n",
    "X_train = X_train.astype(np.float16)\n",
    "combos = list(combinations(list(X_train.columns), 2))\n",
    "colnames = list(X_train.columns) + ['_'.join(x) for x in combos]\n",
    "\n",
    "poly = PolynomialFeatures(interaction_only=True, include_bias=False)\n",
    "X_train = poly.fit_transform(X_train)\n",
    "X_train = pd.DataFrame(X_train)\n",
    "X_train.columns = colnames\n",
    "\n",
    "\n",
    "noint_indicies = [i for i, x in enumerate(list((X_train == 0).all())) if x]\n",
    "X_train = X_train.drop(X_train.columns[noint_indicies], axis = 1)"
   ]
  },
  {
   "cell_type": "code",
   "execution_count": null,
   "metadata": {},
   "outputs": [],
   "source": [
    "train = X_train\n",
    "train['cst_id_di'] = y_train.index\n",
    "train = train.set_index('cst_id_di')\n",
    "train['MRC_ID_DI'] = y_train\n",
    "\n",
    "X_train = train.drop(columns = ['MRC_ID_DI'], axis=1)\n",
    "y_train = train['MRC_ID_DI']"
   ]
  },
  {
   "cell_type": "code",
   "execution_count": null,
   "metadata": {},
   "outputs": [],
   "source": [
    "select = sklearn.feature_selection.SelectKBest(k=380)\n",
    "selected_features = select.fit(X_train, y_train)\n",
    "indices_selected = selected_features.get_support(indices=True)\n",
    "colnames_selected = [X_train.columns[i] for i in indices_selected]\n",
    "\n",
    "X_train = X_train[colnames_selected] #colnames_selected를 이용해 val데이터와 test데이터를 train데이터와 동일하게 생성."
   ]
  },
  {
   "cell_type": "code",
   "execution_count": null,
   "metadata": {},
   "outputs": [],
   "source": [
    "X_test = X_test.astype(np.float16)\n",
    "combos = list(combinations(list(X_test.columns), 2))\n",
    "colnames = list(X_test.columns) + ['_'.join(x) for x in combos]\n",
    "\n",
    "poly = PolynomialFeatures(interaction_only=True, include_bias=False)\n",
    "X_test = poly.fit_transform(X_test)\n",
    "X_test = pd.DataFrame(X_test)\n",
    "X_test.columns = colnames\n",
    "\n",
    "\n",
    "noint_indicies = [i for i, x in enumerate(list((X_test == 0).all())) if x]\n",
    "X_test = X_test.drop(X_test.columns[noint_indicies], axis = 1)"
   ]
  },
  {
   "cell_type": "code",
   "execution_count": null,
   "metadata": {},
   "outputs": [],
   "source": [
    "test = X_test\n",
    "test['cst_id_di'] = y_test.index\n",
    "test = test.set_index('cst_id_di')\n",
    "test['MRC_ID_DI'] = y_test\n",
    "\n",
    "X_test = test.drop(columns = ['MRC_ID_DI'], axis=1)\n",
    "y_test = test['MRC_ID_DI']\n",
    "\n",
    "X_test = X_test[colnames_selected]"
   ]
  },
  {
   "cell_type": "code",
   "execution_count": null,
   "metadata": {},
   "outputs": [],
   "source": [
    "X_train, X_val, y_train, y_val = train_test_split(X_train, y_train, test_size=0.1, random_state=1, stratify = y_train)"
   ]
  },
  {
   "cell_type": "code",
   "execution_count": null,
   "metadata": {},
   "outputs": [],
   "source": [
    "df_train = pd.DataFrame(columns = ['cst_id_di', 'MRC_ID_DI', 'image'])\n",
    "df_val = pd.DataFrame(columns = ['cst_id_di', 'MRC_ID_DI', 'image'])\n",
    "df_test = pd.DataFrame(columns = ['cst_id_di', 'MRC_ID_DI', 'image'])"
   ]
  },
  {
   "cell_type": "code",
   "execution_count": null,
   "metadata": {
    "scrolled": true
   },
   "outputs": [],
   "source": [
    "for ind, k in enumerate(y_train.index):\n",
    "    \n",
    "    an_array = X_train.iloc[ind].values\n",
    "    new_row = {'cst_id_di':k, 'MRC_ID_DI':y_train.iloc[ind], 'image':an_array}\n",
    "    df_train = df_train.append(new_row, ignore_index=True)"
   ]
  },
  {
   "cell_type": "code",
   "execution_count": null,
   "metadata": {},
   "outputs": [],
   "source": [
    "df_train.to_csv('train_preprocess.csv')\n",
    "\n",
    "del df_train"
   ]
  },
  {
   "cell_type": "code",
   "execution_count": null,
   "metadata": {},
   "outputs": [],
   "source": [
    "for ind, k in enumerate(y_val.index):\n",
    "        \n",
    "    an_array = X_val.iloc[ind].values\n",
    "    new_row = {'cst_id_di':k, 'MRC_ID_DI':y_val.iloc[ind], 'image':an_array}\n",
    "    df_val = df_val.append(new_row, ignore_index=True)\n"
   ]
  },
  {
   "cell_type": "code",
   "execution_count": null,
   "metadata": {},
   "outputs": [],
   "source": [
    "df_val.to_csv('val_preprocess.csv')\n",
    "\n",
    "del df_val"
   ]
  },
  {
   "cell_type": "code",
   "execution_count": null,
   "metadata": {},
   "outputs": [],
   "source": [
    "for ind, k in enumerate(y_test.index):\n",
    "        \n",
    "    an_array = X_test.iloc[ind].values\n",
    "    new_row = {'cst_id_di':k, 'MRC_ID_DI':y_test.iloc[ind], 'image':an_array}\n",
    "    df_test = df_test.append(new_row, ignore_index=True)"
   ]
  },
  {
   "cell_type": "code",
   "execution_count": null,
   "metadata": {},
   "outputs": [],
   "source": [
    "df_test.to_csv('test_preprocess.csv')\n",
    "\n",
    "del df_test"
   ]
  },
  {
   "cell_type": "code",
   "execution_count": null,
   "metadata": {},
   "outputs": [],
   "source": [
    "#OOM Error방지를 위해 10개의 파일로 분할하여 생성.\n",
    "\n",
    "td = [pd.DataFrame() for i in range(10)]\n",
    "td[0], td[1], td[2], td[3], td[4], td[5], td[6], td[7], td[8], td[9] = np.array_split(df, 10)\n",
    "\n",
    "for i, t in enumerate(td):\n",
    "    \n",
    "    df_all = pd.DataFrame(columns = ['cst_id_di', 'MRC_ID_DI', 'image'])\n",
    "    \n",
    "    tx = t.drop(columns = ['MRC_ID_DI'], axis=1)\n",
    "    ty = t['MRC_ID_DI']\n",
    "    \n",
    "    tx = tx.astype(np.float16)\n",
    "    combos = list(combinations(list(tx.columns), 2))\n",
    "    colnames = list(tx.columns) + ['_'.join(x) for x in combos]\n",
    "\n",
    "    poly = PolynomialFeatures(interaction_only=True, include_bias=False)\n",
    "    tx = poly.fit_transform(tx)\n",
    "    tx = pd.DataFrame(tx)\n",
    "    tx.columns = colnames\n",
    "\n",
    "    noint_indicies = [i for i, x in enumerate(list((tx == 0).all())) if x]\n",
    "    tx = tx.drop(tx.columns[noint_indicies], axis = 1)\n",
    "    \n",
    "    \n",
    "    tt = tx\n",
    "    tt['cst_id_di'] = ty.index\n",
    "    tt = tt.set_index('cst_id_di')\n",
    "    tt['MRC_ID_DI'] = ty\n",
    "\n",
    "    tx = tt.drop(columns = ['MRC_ID_DI'], axis=1)\n",
    "    ty = tt['MRC_ID_DI']\n",
    "\n",
    "    tx = tx[colnames_selected]\n",
    "    \n",
    "    for ind, k in enumerate(ty.index):\n",
    "        \n",
    "        an_array = tx.iloc[ind].values\n",
    "        new_row = {'cst_id_di':k, 'MRC_ID_DI':ty.iloc[ind], 'image':an_array}\n",
    "        df_all = df_all.append(new_row, ignore_index=True)\n",
    "    \n",
    "    df_all.to_csv('all_preprocess_' + str(i) + '.csv')\n",
    "    del df_all"
   ]
  },
  {
   "cell_type": "code",
   "execution_count": null,
   "metadata": {},
   "outputs": [],
   "source": [
    "#quiz_preprocess데이터를 final_model.h5를 train한 데이터와 동일하게 생성하기 위해 train데이터의 칼럼을 저장\n",
    "\n",
    "np.savetxt(\"colnames_selected.csv\", colnames_selected, delimiter =\", \", fmt ='% s') "
   ]
  }
 ],
 "metadata": {
  "kernelspec": {
   "display_name": "Python 3",
   "language": "python",
   "name": "python3"
  },
  "language_info": {
   "codemirror_mode": {
    "name": "ipython",
    "version": 3
   },
   "file_extension": ".py",
   "mimetype": "text/x-python",
   "name": "python",
   "nbconvert_exporter": "python",
   "pygments_lexer": "ipython3",
   "version": "3.6.10"
  }
 },
 "nbformat": 4,
 "nbformat_minor": 4
}
