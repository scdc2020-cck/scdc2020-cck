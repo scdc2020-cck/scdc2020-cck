{
 "cells": [
  {
   "cell_type": "code",
   "execution_count": null,
   "metadata": {},
   "outputs": [],
   "source": [
    "import pandas_datareader as wb\n",
    "import pandas as pd\n",
    "import datetime\n",
    "import matplotlib.pyplot as plt"
   ]
  },
  {
   "cell_type": "code",
   "execution_count": null,
   "metadata": {},
   "outputs": [],
   "source": [
    "pd.set_option('precision', 4)\n",
    "\n",
    "# 코스피지수 크롤링\n",
    "start = datetime.datetime(2020, 1, 1)\n",
    "end = datetime.datetime(2020, 1, 31)\n",
    "df_null = wb.DataReader(\"^KS11\",\"yahoo\",start,end)     # ^KS11 : 코스피\n",
    "df = df_null.dropna()                                  # 결측치 제거\n",
    "\n",
    "# 새로운 칼럼 생성\n",
    "# (Price : 당일 대비 다음날 주가가 상승했으면 1, 하락했으면 0 표시)\n",
    "df['Price'] = 0\n",
    "for i in range(0, 120):\n",
    "    if df['Close'][i] < df['Close'][i+1]:\n",
    "        df['Price'][i] = 1\n",
    "    else:\n",
    "        df['Price'][i] = 0\n",
    "\n",
    "# 파일 저장\n",
    "df_name = os.path.join(os.dir(os.getcwd))\n",
    "df.to_excel('kospi_주가데이터.xlsx')\n",
    "df"
   ]
  }
 ],
 "metadata": {
  "kernelspec": {
   "display_name": "Python 3",
   "language": "python",
   "name": "python3"
  },
  "language_info": {
   "codemirror_mode": {
    "name": "ipython",
    "version": 3
   },
   "file_extension": ".py",
   "mimetype": "text/x-python",
   "name": "python",
   "nbconvert_exporter": "python",
   "pygments_lexer": "ipython3",
   "version": "3.7.7"
  }
 },
 "nbformat": 4,
 "nbformat_minor": 4
}
