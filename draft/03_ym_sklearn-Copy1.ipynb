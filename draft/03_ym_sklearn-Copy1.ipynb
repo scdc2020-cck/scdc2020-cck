{
 "cells": [
  {
   "cell_type": "code",
   "execution_count": 1,
   "metadata": {},
   "outputs": [],
   "source": [
    "import matplotlib as mpl\n",
    "import matplotlib.pyplot as plt\n",
    "import seaborn as sns\n",
    "\n",
    "import os\n",
    "import re\n",
    "import numpy as np\n",
    "import pandas as pd\n",
    "import collections"
   ]
  },
  {
   "cell_type": "code",
   "execution_count": 2,
   "metadata": {},
   "outputs": [],
   "source": [
    "x_name = os.path.join(os.getcwd(), '데이터SET', f\"{'[Track1_데이터3] samp_cst_feat'}.csv\")\n",
    "df_x = pd.read_csv(x_name, index_col=0)\n",
    "\n",
    "y_name = os.path.join(os.getcwd(), '데이터SET', f\"{'[Track1_데이터2] samp_train'}.csv\")\n",
    "df_y = pd.read_csv(y_name, index_col=0)\n",
    "\n",
    "df = pd.merge(df_x, df_y, on='cst_id_di')"
   ]
  },
  {
   "cell_type": "code",
   "execution_count": 3,
   "metadata": {
    "scrolled": true
   },
   "outputs": [
    {
     "name": "stderr",
     "output_type": "stream",
     "text": [
      "C:\\Users\\jym97\\anaconda3\\lib\\site-packages\\ipykernel_launcher.py:1: SettingWithCopyWarning: \n",
      "A value is trying to be set on a copy of a slice from a DataFrame\n",
      "\n",
      "See the caveats in the documentation: https://pandas.pydata.org/pandas-docs/stable/user_guide/indexing.html#returning-a-view-versus-a-copy\n",
      "  \"\"\"Entry point for launching an IPython kernel.\n"
     ]
    }
   ],
   "source": [
    "df.MRC_ID_DI[df.MRC_ID_DI > 0 ] = 1"
   ]
  },
  {
   "cell_type": "code",
   "execution_count": 4,
   "metadata": {},
   "outputs": [],
   "source": [
    "nc_name = os.path.join(os.getcwd(), '데이터SET', f\"{'[Track1_데이터4] variable_dtype'}.xlsx\")\n",
    "nc = pd.read_excel(nc_name, index_col=0)"
   ]
  },
  {
   "cell_type": "code",
   "execution_count": 5,
   "metadata": {},
   "outputs": [],
   "source": [
    "X = df.drop(columns = ['MRC_ID_DI'], axis=1)\n",
    "y = df['MRC_ID_DI']"
   ]
  },
  {
   "cell_type": "code",
   "execution_count": 6,
   "metadata": {},
   "outputs": [],
   "source": [
    "import os\n",
    "import pandas as pd\n",
    "import numpy as np\n",
    "import tensorflow as tf\n",
    "from sklearn.model_selection import train_test_split\n",
    "import random\n",
    "\n",
    "#physical_devices = tf.config.list_physical_devices('GPU') \n",
    "#tf.config.experimental.set_memory_growth(physical_devices[0], True)\n",
    "os.environ['CUDA_VISIBLE_DEVICES'] = '-1'\n",
    "\n",
    "seed_value= 0\n",
    "os.environ['PYTHONHASHSEED']=str(seed_value)\n",
    "random.seed(seed_value)\n",
    "np.random.seed(seed_value)\n",
    "tf.random.set_seed(seed_value)"
   ]
  },
  {
   "cell_type": "code",
   "execution_count": 7,
   "metadata": {},
   "outputs": [],
   "source": [
    "import sys\n",
    "ipython = get_ipython()\n",
    "\n",
    "def hide_traceback(exc_tuple=None, filename=None, tb_offset=None,\n",
    "                      exception_only=False, running_compiled_code=False):\n",
    "       etype, value, tb = sys.exc_info()\n",
    "       return ipython._showtraceback(etype, value, ipython.InteractiveTB.get_exception_only(etype, value))\n",
    "\n",
    "ipython.showtraceback = hide_traceback"
   ]
  },
  {
   "cell_type": "code",
   "execution_count": 8,
   "metadata": {},
   "outputs": [],
   "source": [
    "from itertools import combinations\n",
    "from sklearn.preprocessing import PolynomialFeatures\n",
    "\n",
    "def add_interactions(df):\n",
    "    combos = list(combinations(list(df.columns), 2))\n",
    "    colnames = list(df.columns) + ['_'.join(x) for x in combos]\n",
    "    \n",
    "    poly = PolynomialFeatures(interaction_only=True, include_bias=False)\n",
    "    df = poly.fit_transform(df)\n",
    "    df = pd.DataFrame(df)\n",
    "    df.columns = colnames\n",
    "    \n",
    "    noint_indicies = [i for i, x in enumerate(list((df == 0).all())) if x]\n",
    "    df = df.drop(df.columns[noint_indicies], axis = 1)\n",
    "    \n",
    "    return df\n",
    "\n",
    "X = add_interactions(X)\n",
    "\n",
    "\n",
    "import sklearn.feature_selection\n",
    "\n",
    "select = sklearn.feature_selection.SelectKBest(k=331)\n",
    "selected_features = select.fit(X, y)\n",
    "indices_selected = selected_features.get_support(indices=True)\n",
    "colnames_selected = [X.columns[i] for i in indices_selected]\n",
    "\n",
    "X = X[colnames_selected]"
   ]
  },
  {
   "cell_type": "code",
   "execution_count": 9,
   "metadata": {},
   "outputs": [],
   "source": [
    "X_train, X_test, y_train, y_test = train_test_split(X, y, test_size=0.1, random_state=42, stratify = y)"
   ]
  },
  {
   "cell_type": "code",
   "execution_count": 10,
   "metadata": {},
   "outputs": [],
   "source": [
    "train = pd.concat([X_train.reset_index(drop=True), y_train.reset_index(drop=True)], axis=1)\n",
    "train_0 = train[train['MRC_ID_DI'] == 0].sample(frac=1)\n",
    "train_1 = train[train['MRC_ID_DI'] == 1].sample(frac=1)\n",
    "\n",
    "sample_size = len(train_0) if len(train_0) < len(train_1) else len(train_1)\n",
    "\n",
    "train_f = pd.concat([train_0.head(sample_size), train_1.head(sample_size)]).sample(frac=1)\n",
    "\n",
    "X_train = train_f.drop(columns = ['MRC_ID_DI'], axis=1)\n",
    "y_train = train_f['MRC_ID_DI']\n",
    "\n",
    "y_train = tf.keras.utils.to_categorical(y_train)\n",
    "y_test = tf.keras.utils.to_categorical(y_test)"
   ]
  },
  {
   "cell_type": "code",
   "execution_count": 11,
   "metadata": {},
   "outputs": [],
   "source": [
    "input_ = tf.keras.Input(dtype = tf.float32, shape = (len(X.columns),))\n",
    "\n",
    "dense_layer_1_1 = tf.keras.layers.Dense(units = 10, activation = tf.nn.relu)(input_)\n",
    "dense_layer_1_2 = tf.keras.layers.Dense(units = 10, activation = tf.nn.relu)(dense_layer_1_1)\n",
    "dense_layer_1_3 = tf.keras.layers.Dense(units = 10, activation = tf.nn.relu)(dense_layer_1_2)\n",
    "dense_layer_1_4 = tf.keras.layers.Dense(units = 10, activation = tf.nn.relu)(dense_layer_1_3)\n",
    "\n",
    "dropout_1_5 = tf.keras.layers.Dropout(rate = 0.2)(dense_layer_1_1)\n",
    "\n",
    "output = tf.keras.layers.Dense(units = 2, activation = tf.nn.softmax)(dropout_1_5)"
   ]
  },
  {
   "cell_type": "code",
   "execution_count": 12,
   "metadata": {},
   "outputs": [],
   "source": [
    "model = tf.keras.Model(inputs=input_, outputs=output)"
   ]
  },
  {
   "cell_type": "code",
   "execution_count": 13,
   "metadata": {},
   "outputs": [
    {
     "name": "stdout",
     "output_type": "stream",
     "text": [
      "Model: \"functional_1\"\n",
      "_________________________________________________________________\n",
      "Layer (type)                 Output Shape              Param #   \n",
      "=================================================================\n",
      "input_1 (InputLayer)         [(None, 331)]             0         \n",
      "_________________________________________________________________\n",
      "dense (Dense)                (None, 32)                10624     \n",
      "_________________________________________________________________\n",
      "dropout (Dropout)            (None, 32)                0         \n",
      "_________________________________________________________________\n",
      "dense_4 (Dense)              (None, 2)                 66        \n",
      "=================================================================\n",
      "Total params: 10,690\n",
      "Trainable params: 10,690\n",
      "Non-trainable params: 0\n",
      "_________________________________________________________________\n",
      "None\n"
     ]
    }
   ],
   "source": [
    "model.compile(loss=tf.keras.losses.CategoricalCrossentropy(), \n",
    "              optimizer=tf.compat.v1.train.AdamOptimizer(learning_rate=0.00005), \n",
    "              metrics=['accuracy'])\n",
    "print(model.summary())"
   ]
  },
  {
   "cell_type": "code",
   "execution_count": 14,
   "metadata": {},
   "outputs": [
    {
     "name": "stdout",
     "output_type": "stream",
     "text": [
      "Epoch 1/10000\n",
      "98/98 [==============================] - 0s 4ms/step - loss: 0.7306 - accuracy: 0.4787 - val_loss: 0.6414 - val_accuracy: 0.7032\n",
      "Epoch 2/10000\n",
      "98/98 [==============================] - 0s 2ms/step - loss: 0.5836 - accuracy: 0.7358 - val_loss: 0.5744 - val_accuracy: 0.7147\n",
      "Epoch 3/10000\n",
      "98/98 [==============================] - 0s 2ms/step - loss: 0.5365 - accuracy: 0.7429 - val_loss: 0.5589 - val_accuracy: 0.7147\n",
      "Epoch 4/10000\n",
      "98/98 [==============================] - 0s 2ms/step - loss: 0.5216 - accuracy: 0.7406 - val_loss: 0.5541 - val_accuracy: 0.7118\n",
      "Epoch 5/10000\n",
      "98/98 [==============================] - 0s 2ms/step - loss: 0.5179 - accuracy: 0.7445 - val_loss: 0.5503 - val_accuracy: 0.7147\n",
      "Epoch 6/10000\n",
      "98/98 [==============================] - 0s 2ms/step - loss: 0.5125 - accuracy: 0.7467 - val_loss: 0.5479 - val_accuracy: 0.7176\n",
      "Epoch 7/10000\n",
      "98/98 [==============================] - 0s 2ms/step - loss: 0.5079 - accuracy: 0.7432 - val_loss: 0.5451 - val_accuracy: 0.7176\n",
      "Epoch 8/10000\n",
      "98/98 [==============================] - 0s 2ms/step - loss: 0.5055 - accuracy: 0.7490 - val_loss: 0.5434 - val_accuracy: 0.7205\n",
      "Epoch 9/10000\n",
      "98/98 [==============================] - 0s 2ms/step - loss: 0.5044 - accuracy: 0.7499 - val_loss: 0.5418 - val_accuracy: 0.7205\n",
      "Epoch 10/10000\n",
      "98/98 [==============================] - 0s 2ms/step - loss: 0.5007 - accuracy: 0.7506 - val_loss: 0.5395 - val_accuracy: 0.7205\n",
      "Epoch 11/10000\n",
      "98/98 [==============================] - 0s 2ms/step - loss: 0.5017 - accuracy: 0.7518 - val_loss: 0.5386 - val_accuracy: 0.7176\n",
      "Epoch 12/10000\n",
      "98/98 [==============================] - 0s 2ms/step - loss: 0.4989 - accuracy: 0.7551 - val_loss: 0.5378 - val_accuracy: 0.7176\n",
      "Epoch 13/10000\n",
      "98/98 [==============================] - 0s 2ms/step - loss: 0.4974 - accuracy: 0.7522 - val_loss: 0.5369 - val_accuracy: 0.7205\n",
      "Epoch 14/10000\n",
      "98/98 [==============================] - 0s 2ms/step - loss: 0.4977 - accuracy: 0.7544 - val_loss: 0.5358 - val_accuracy: 0.7233\n",
      "Epoch 15/10000\n",
      "98/98 [==============================] - 0s 2ms/step - loss: 0.4941 - accuracy: 0.7522 - val_loss: 0.5344 - val_accuracy: 0.7233\n",
      "Epoch 16/10000\n",
      "98/98 [==============================] - 0s 2ms/step - loss: 0.4937 - accuracy: 0.7515 - val_loss: 0.5343 - val_accuracy: 0.7233\n",
      "Epoch 17/10000\n",
      "98/98 [==============================] - 0s 2ms/step - loss: 0.4942 - accuracy: 0.7557 - val_loss: 0.5327 - val_accuracy: 0.7233\n",
      "Epoch 18/10000\n",
      "98/98 [==============================] - 0s 2ms/step - loss: 0.4917 - accuracy: 0.7544 - val_loss: 0.5320 - val_accuracy: 0.7233\n",
      "Epoch 19/10000\n",
      "98/98 [==============================] - 0s 2ms/step - loss: 0.4904 - accuracy: 0.7560 - val_loss: 0.5308 - val_accuracy: 0.7262\n",
      "Epoch 20/10000\n",
      "98/98 [==============================] - 0s 2ms/step - loss: 0.4884 - accuracy: 0.7563 - val_loss: 0.5305 - val_accuracy: 0.7291\n",
      "Epoch 21/10000\n",
      "98/98 [==============================] - 0s 2ms/step - loss: 0.4887 - accuracy: 0.7624 - val_loss: 0.5305 - val_accuracy: 0.7291\n",
      "Epoch 22/10000\n",
      "98/98 [==============================] - 0s 2ms/step - loss: 0.4882 - accuracy: 0.7602 - val_loss: 0.5299 - val_accuracy: 0.7320\n",
      "Epoch 23/10000\n",
      "98/98 [==============================] - 0s 2ms/step - loss: 0.4871 - accuracy: 0.7615 - val_loss: 0.5288 - val_accuracy: 0.7320\n",
      "Epoch 24/10000\n",
      "98/98 [==============================] - 0s 2ms/step - loss: 0.4835 - accuracy: 0.7618 - val_loss: 0.5286 - val_accuracy: 0.7378\n",
      "Epoch 25/10000\n",
      "98/98 [==============================] - 0s 2ms/step - loss: 0.4843 - accuracy: 0.7596 - val_loss: 0.5284 - val_accuracy: 0.7406\n",
      "Epoch 26/10000\n",
      "98/98 [==============================] - 0s 2ms/step - loss: 0.4846 - accuracy: 0.7612 - val_loss: 0.5261 - val_accuracy: 0.7435\n",
      "Epoch 27/10000\n",
      "98/98 [==============================] - 0s 2ms/step - loss: 0.4839 - accuracy: 0.7605 - val_loss: 0.5248 - val_accuracy: 0.7435\n",
      "Epoch 28/10000\n",
      "98/98 [==============================] - 0s 2ms/step - loss: 0.4854 - accuracy: 0.7628 - val_loss: 0.5257 - val_accuracy: 0.7435\n",
      "Epoch 29/10000\n",
      "98/98 [==============================] - 0s 2ms/step - loss: 0.4803 - accuracy: 0.7605 - val_loss: 0.5238 - val_accuracy: 0.7435\n",
      "Epoch 30/10000\n",
      "98/98 [==============================] - 0s 2ms/step - loss: 0.4788 - accuracy: 0.7628 - val_loss: 0.5258 - val_accuracy: 0.7435\n",
      "Epoch 31/10000\n",
      "98/98 [==============================] - 0s 2ms/step - loss: 0.4802 - accuracy: 0.7618 - val_loss: 0.5228 - val_accuracy: 0.7435\n",
      "Epoch 32/10000\n",
      "98/98 [==============================] - 0s 2ms/step - loss: 0.4793 - accuracy: 0.7663 - val_loss: 0.5233 - val_accuracy: 0.7435\n",
      "Epoch 33/10000\n",
      "98/98 [==============================] - 0s 2ms/step - loss: 0.4834 - accuracy: 0.7618 - val_loss: 0.5216 - val_accuracy: 0.7435\n",
      "Epoch 34/10000\n",
      "98/98 [==============================] - 0s 2ms/step - loss: 0.4795 - accuracy: 0.7624 - val_loss: 0.5222 - val_accuracy: 0.7435\n",
      "Epoch 35/10000\n",
      "98/98 [==============================] - 0s 2ms/step - loss: 0.4780 - accuracy: 0.7640 - val_loss: 0.5228 - val_accuracy: 0.7435\n",
      "Epoch 36/10000\n",
      "98/98 [==============================] - 0s 2ms/step - loss: 0.4766 - accuracy: 0.7647 - val_loss: 0.5215 - val_accuracy: 0.7406\n",
      "Epoch 37/10000\n",
      "98/98 [==============================] - 0s 2ms/step - loss: 0.4775 - accuracy: 0.7624 - val_loss: 0.5226 - val_accuracy: 0.7406\n",
      "Epoch 38/10000\n",
      "98/98 [==============================] - 0s 2ms/step - loss: 0.4747 - accuracy: 0.7666 - val_loss: 0.5206 - val_accuracy: 0.7435\n",
      "Epoch 39/10000\n",
      "98/98 [==============================] - 0s 2ms/step - loss: 0.4758 - accuracy: 0.7660 - val_loss: 0.5198 - val_accuracy: 0.7406\n",
      "Epoch 40/10000\n",
      "98/98 [==============================] - 0s 2ms/step - loss: 0.4751 - accuracy: 0.7673 - val_loss: 0.5209 - val_accuracy: 0.7435\n",
      "Epoch 41/10000\n",
      "98/98 [==============================] - 0s 2ms/step - loss: 0.4742 - accuracy: 0.7673 - val_loss: 0.5194 - val_accuracy: 0.7464\n",
      "Epoch 42/10000\n",
      "98/98 [==============================] - 0s 2ms/step - loss: 0.4700 - accuracy: 0.7714 - val_loss: 0.5195 - val_accuracy: 0.7435\n",
      "Epoch 43/10000\n",
      "98/98 [==============================] - 0s 2ms/step - loss: 0.4732 - accuracy: 0.7708 - val_loss: 0.5196 - val_accuracy: 0.7464\n",
      "Epoch 44/10000\n",
      "98/98 [==============================] - 0s 2ms/step - loss: 0.4701 - accuracy: 0.7695 - val_loss: 0.5196 - val_accuracy: 0.7493\n",
      "Epoch 45/10000\n",
      "98/98 [==============================] - 0s 2ms/step - loss: 0.4723 - accuracy: 0.7695 - val_loss: 0.5199 - val_accuracy: 0.7522\n",
      "Epoch 46/10000\n",
      "98/98 [==============================] - 0s 2ms/step - loss: 0.4688 - accuracy: 0.7714 - val_loss: 0.5203 - val_accuracy: 0.7550\n",
      "Epoch 47/10000\n",
      "98/98 [==============================] - 0s 2ms/step - loss: 0.4704 - accuracy: 0.7698 - val_loss: 0.5174 - val_accuracy: 0.7608\n",
      "Epoch 48/10000\n",
      "98/98 [==============================] - 0s 2ms/step - loss: 0.4709 - accuracy: 0.7711 - val_loss: 0.5163 - val_accuracy: 0.7579\n",
      "Epoch 49/10000\n",
      "98/98 [==============================] - 0s 2ms/step - loss: 0.4685 - accuracy: 0.7708 - val_loss: 0.5172 - val_accuracy: 0.7608\n",
      "Epoch 50/10000\n",
      "98/98 [==============================] - 0s 2ms/step - loss: 0.4683 - accuracy: 0.7701 - val_loss: 0.5188 - val_accuracy: 0.7579\n",
      "Epoch 51/10000\n",
      "98/98 [==============================] - 0s 2ms/step - loss: 0.4651 - accuracy: 0.7701 - val_loss: 0.5176 - val_accuracy: 0.7579\n",
      "Epoch 52/10000\n",
      "98/98 [==============================] - 0s 2ms/step - loss: 0.4654 - accuracy: 0.7740 - val_loss: 0.5182 - val_accuracy: 0.7522\n",
      "Epoch 53/10000\n",
      "98/98 [==============================] - 0s 2ms/step - loss: 0.4673 - accuracy: 0.7682 - val_loss: 0.5164 - val_accuracy: 0.7522\n",
      "Epoch 54/10000\n",
      "98/98 [==============================] - 0s 2ms/step - loss: 0.4694 - accuracy: 0.7705 - val_loss: 0.5164 - val_accuracy: 0.7522\n",
      "Epoch 55/10000\n",
      "98/98 [==============================] - 0s 2ms/step - loss: 0.4648 - accuracy: 0.7714 - val_loss: 0.5164 - val_accuracy: 0.7522\n",
      "Epoch 56/10000\n",
      "98/98 [==============================] - 0s 2ms/step - loss: 0.4637 - accuracy: 0.7740 - val_loss: 0.5173 - val_accuracy: 0.7579\n",
      "Epoch 57/10000\n"
     ]
    },
    {
     "name": "stdout",
     "output_type": "stream",
     "text": [
      "98/98 [==============================] - 0s 2ms/step - loss: 0.4657 - accuracy: 0.7750 - val_loss: 0.5163 - val_accuracy: 0.7579\n",
      "Epoch 58/10000\n",
      "98/98 [==============================] - 0s 2ms/step - loss: 0.4611 - accuracy: 0.7717 - val_loss: 0.5165 - val_accuracy: 0.7579\n",
      "Epoch 59/10000\n",
      "98/98 [==============================] - 0s 2ms/step - loss: 0.4628 - accuracy: 0.7750 - val_loss: 0.5161 - val_accuracy: 0.7550\n",
      "Epoch 60/10000\n",
      "98/98 [==============================] - 0s 2ms/step - loss: 0.4642 - accuracy: 0.7746 - val_loss: 0.5151 - val_accuracy: 0.7550\n",
      "Epoch 61/10000\n",
      "98/98 [==============================] - 0s 2ms/step - loss: 0.4607 - accuracy: 0.7775 - val_loss: 0.5174 - val_accuracy: 0.7550\n",
      "Epoch 62/10000\n",
      "98/98 [==============================] - 0s 2ms/step - loss: 0.4612 - accuracy: 0.7814 - val_loss: 0.5151 - val_accuracy: 0.7550\n",
      "Epoch 63/10000\n",
      "98/98 [==============================] - 0s 2ms/step - loss: 0.4599 - accuracy: 0.7730 - val_loss: 0.5157 - val_accuracy: 0.7522\n",
      "Epoch 64/10000\n",
      "98/98 [==============================] - 0s 2ms/step - loss: 0.4594 - accuracy: 0.7778 - val_loss: 0.5145 - val_accuracy: 0.7522\n",
      "Epoch 65/10000\n",
      "98/98 [==============================] - 0s 2ms/step - loss: 0.4613 - accuracy: 0.7750 - val_loss: 0.5131 - val_accuracy: 0.7464\n",
      "Epoch 66/10000\n",
      "98/98 [==============================] - 0s 2ms/step - loss: 0.4569 - accuracy: 0.7778 - val_loss: 0.5155 - val_accuracy: 0.7522\n",
      "Epoch 67/10000\n",
      "98/98 [==============================] - 0s 2ms/step - loss: 0.4601 - accuracy: 0.7772 - val_loss: 0.5147 - val_accuracy: 0.7522\n",
      "Epoch 68/10000\n",
      "98/98 [==============================] - 0s 2ms/step - loss: 0.4592 - accuracy: 0.7827 - val_loss: 0.5132 - val_accuracy: 0.7464\n",
      "Epoch 69/10000\n",
      "98/98 [==============================] - 0s 2ms/step - loss: 0.4596 - accuracy: 0.7766 - val_loss: 0.5140 - val_accuracy: 0.7493\n",
      "Epoch 70/10000\n",
      "98/98 [==============================] - 0s 2ms/step - loss: 0.4587 - accuracy: 0.7788 - val_loss: 0.5148 - val_accuracy: 0.7522\n",
      "Epoch 71/10000\n",
      "98/98 [==============================] - 0s 2ms/step - loss: 0.4558 - accuracy: 0.7814 - val_loss: 0.5165 - val_accuracy: 0.7522\n",
      "Epoch 72/10000\n",
      "98/98 [==============================] - 0s 2ms/step - loss: 0.4547 - accuracy: 0.7791 - val_loss: 0.5151 - val_accuracy: 0.7493\n",
      "Epoch 73/10000\n",
      "98/98 [==============================] - 0s 2ms/step - loss: 0.4576 - accuracy: 0.7836 - val_loss: 0.5133 - val_accuracy: 0.7493\n",
      "Epoch 74/10000\n",
      "98/98 [==============================] - 0s 2ms/step - loss: 0.4579 - accuracy: 0.7762 - val_loss: 0.5135 - val_accuracy: 0.7493\n",
      "Epoch 75/10000\n",
      "98/98 [==============================] - 0s 2ms/step - loss: 0.4563 - accuracy: 0.7778 - val_loss: 0.5130 - val_accuracy: 0.7493\n",
      "Epoch 76/10000\n",
      "98/98 [==============================] - 0s 2ms/step - loss: 0.4554 - accuracy: 0.7795 - val_loss: 0.5119 - val_accuracy: 0.7493\n",
      "Epoch 77/10000\n",
      "98/98 [==============================] - 0s 2ms/step - loss: 0.4549 - accuracy: 0.7791 - val_loss: 0.5154 - val_accuracy: 0.7493\n",
      "Epoch 78/10000\n",
      "98/98 [==============================] - 0s 2ms/step - loss: 0.4552 - accuracy: 0.7798 - val_loss: 0.5137 - val_accuracy: 0.7493\n",
      "Epoch 79/10000\n",
      "98/98 [==============================] - 0s 2ms/step - loss: 0.4541 - accuracy: 0.7859 - val_loss: 0.5144 - val_accuracy: 0.7493\n",
      "Epoch 80/10000\n",
      "98/98 [==============================] - 0s 2ms/step - loss: 0.4548 - accuracy: 0.7823 - val_loss: 0.5142 - val_accuracy: 0.7493\n",
      "Epoch 81/10000\n",
      "98/98 [==============================] - 0s 2ms/step - loss: 0.4534 - accuracy: 0.7785 - val_loss: 0.5116 - val_accuracy: 0.7493\n",
      "Epoch 82/10000\n",
      "98/98 [==============================] - 0s 2ms/step - loss: 0.4501 - accuracy: 0.7811 - val_loss: 0.5136 - val_accuracy: 0.7493\n",
      "Epoch 83/10000\n",
      "98/98 [==============================] - 0s 2ms/step - loss: 0.4506 - accuracy: 0.7830 - val_loss: 0.5143 - val_accuracy: 0.7493\n",
      "Epoch 84/10000\n",
      "98/98 [==============================] - 0s 2ms/step - loss: 0.4537 - accuracy: 0.7798 - val_loss: 0.5152 - val_accuracy: 0.7522\n",
      "Epoch 85/10000\n",
      "98/98 [==============================] - 0s 2ms/step - loss: 0.4505 - accuracy: 0.7849 - val_loss: 0.5134 - val_accuracy: 0.7493\n",
      "Epoch 86/10000\n",
      "98/98 [==============================] - 0s 2ms/step - loss: 0.4519 - accuracy: 0.7811 - val_loss: 0.5131 - val_accuracy: 0.7493\n",
      "Epoch 87/10000\n",
      "98/98 [==============================] - 0s 2ms/step - loss: 0.4516 - accuracy: 0.7785 - val_loss: 0.5138 - val_accuracy: 0.7493\n",
      "Epoch 88/10000\n",
      "98/98 [==============================] - 0s 2ms/step - loss: 0.4508 - accuracy: 0.7836 - val_loss: 0.5144 - val_accuracy: 0.7493\n",
      "Epoch 89/10000\n",
      "98/98 [==============================] - 0s 2ms/step - loss: 0.4482 - accuracy: 0.7865 - val_loss: 0.5118 - val_accuracy: 0.7493\n",
      "Epoch 90/10000\n",
      "98/98 [==============================] - 0s 2ms/step - loss: 0.4510 - accuracy: 0.7862 - val_loss: 0.5141 - val_accuracy: 0.7493\n",
      "Epoch 91/10000\n",
      "98/98 [==============================] - 0s 2ms/step - loss: 0.4472 - accuracy: 0.7875 - val_loss: 0.5136 - val_accuracy: 0.7493\n",
      "Epoch 92/10000\n",
      "98/98 [==============================] - 0s 2ms/step - loss: 0.4477 - accuracy: 0.7859 - val_loss: 0.5135 - val_accuracy: 0.7493\n",
      "Epoch 93/10000\n",
      "98/98 [==============================] - 0s 2ms/step - loss: 0.4481 - accuracy: 0.7894 - val_loss: 0.5141 - val_accuracy: 0.7522\n",
      "Epoch 94/10000\n",
      "98/98 [==============================] - 0s 2ms/step - loss: 0.4479 - accuracy: 0.7878 - val_loss: 0.5148 - val_accuracy: 0.7522\n",
      "Epoch 95/10000\n",
      "98/98 [==============================] - 0s 2ms/step - loss: 0.4483 - accuracy: 0.7865 - val_loss: 0.5152 - val_accuracy: 0.7522\n",
      "Epoch 96/10000\n",
      "98/98 [==============================] - 0s 2ms/step - loss: 0.4449 - accuracy: 0.7830 - val_loss: 0.5141 - val_accuracy: 0.7493\n",
      "Epoch 97/10000\n",
      "98/98 [==============================] - 0s 2ms/step - loss: 0.4459 - accuracy: 0.7884 - val_loss: 0.5120 - val_accuracy: 0.7464\n",
      "Epoch 98/10000\n",
      "98/98 [==============================] - 0s 2ms/step - loss: 0.4466 - accuracy: 0.7859 - val_loss: 0.5122 - val_accuracy: 0.7464\n",
      "Epoch 99/10000\n",
      "98/98 [==============================] - 0s 2ms/step - loss: 0.4474 - accuracy: 0.7849 - val_loss: 0.5107 - val_accuracy: 0.7464\n",
      "Epoch 100/10000\n",
      "98/98 [==============================] - 0s 2ms/step - loss: 0.4418 - accuracy: 0.7868 - val_loss: 0.5135 - val_accuracy: 0.7493\n",
      "Epoch 101/10000\n",
      "98/98 [==============================] - 0s 2ms/step - loss: 0.4457 - accuracy: 0.7878 - val_loss: 0.5137 - val_accuracy: 0.7493\n",
      "Epoch 102/10000\n",
      "98/98 [==============================] - 0s 2ms/step - loss: 0.4455 - accuracy: 0.7865 - val_loss: 0.5113 - val_accuracy: 0.7464\n",
      "Epoch 103/10000\n",
      "98/98 [==============================] - 0s 2ms/step - loss: 0.4442 - accuracy: 0.7910 - val_loss: 0.5108 - val_accuracy: 0.7435\n",
      "Epoch 104/10000\n",
      "98/98 [==============================] - 0s 2ms/step - loss: 0.4412 - accuracy: 0.7891 - val_loss: 0.5123 - val_accuracy: 0.7435\n",
      "Epoch 105/10000\n",
      "98/98 [==============================] - 0s 2ms/step - loss: 0.4432 - accuracy: 0.7859 - val_loss: 0.5148 - val_accuracy: 0.7493\n",
      "Epoch 106/10000\n",
      "98/98 [==============================] - 0s 2ms/step - loss: 0.4445 - accuracy: 0.7913 - val_loss: 0.5133 - val_accuracy: 0.7464\n",
      "Epoch 107/10000\n",
      "98/98 [==============================] - 0s 2ms/step - loss: 0.4414 - accuracy: 0.7917 - val_loss: 0.5126 - val_accuracy: 0.7435\n",
      "Epoch 108/10000\n",
      "98/98 [==============================] - 0s 2ms/step - loss: 0.4440 - accuracy: 0.7865 - val_loss: 0.5103 - val_accuracy: 0.7406\n",
      "Epoch 109/10000\n",
      "98/98 [==============================] - 0s 2ms/step - loss: 0.4400 - accuracy: 0.7923 - val_loss: 0.5139 - val_accuracy: 0.7464\n",
      "Epoch 110/10000\n",
      "98/98 [==============================] - 0s 2ms/step - loss: 0.4435 - accuracy: 0.7910 - val_loss: 0.5126 - val_accuracy: 0.7406\n",
      "Epoch 111/10000\n",
      "98/98 [==============================] - 0s 2ms/step - loss: 0.4395 - accuracy: 0.7897 - val_loss: 0.5115 - val_accuracy: 0.7406\n",
      "Epoch 112/10000\n",
      "98/98 [==============================] - 0s 2ms/step - loss: 0.4427 - accuracy: 0.7904 - val_loss: 0.5099 - val_accuracy: 0.7464\n",
      "Epoch 113/10000\n",
      "98/98 [==============================] - 0s 2ms/step - loss: 0.4425 - accuracy: 0.7920 - val_loss: 0.5125 - val_accuracy: 0.7406\n"
     ]
    },
    {
     "name": "stdout",
     "output_type": "stream",
     "text": [
      "Epoch 114/10000\n",
      "98/98 [==============================] - 0s 2ms/step - loss: 0.4399 - accuracy: 0.7971 - val_loss: 0.5105 - val_accuracy: 0.7406\n",
      "Epoch 115/10000\n",
      "98/98 [==============================] - 0s 2ms/step - loss: 0.4401 - accuracy: 0.7875 - val_loss: 0.5107 - val_accuracy: 0.7406\n",
      "Epoch 116/10000\n",
      "98/98 [==============================] - ETA: 0s - loss: 0.4417 - accuracy: 0.79 - 0s 2ms/step - loss: 0.4403 - accuracy: 0.7949 - val_loss: 0.5100 - val_accuracy: 0.7406\n",
      "Epoch 117/10000\n",
      "98/98 [==============================] - 0s 2ms/step - loss: 0.4386 - accuracy: 0.7942 - val_loss: 0.5130 - val_accuracy: 0.7406\n",
      "Epoch 118/10000\n",
      "98/98 [==============================] - 0s 2ms/step - loss: 0.4386 - accuracy: 0.7939 - val_loss: 0.5141 - val_accuracy: 0.7378\n",
      "Epoch 119/10000\n",
      "98/98 [==============================] - 0s 2ms/step - loss: 0.4375 - accuracy: 0.7939 - val_loss: 0.5133 - val_accuracy: 0.7378\n",
      "Epoch 120/10000\n",
      "98/98 [==============================] - 0s 2ms/step - loss: 0.4384 - accuracy: 0.7936 - val_loss: 0.5134 - val_accuracy: 0.7378\n",
      "Epoch 121/10000\n",
      "98/98 [==============================] - 0s 2ms/step - loss: 0.4373 - accuracy: 0.7897 - val_loss: 0.5104 - val_accuracy: 0.7378\n",
      "Epoch 122/10000\n",
      "98/98 [==============================] - 0s 2ms/step - loss: 0.4394 - accuracy: 0.7910 - val_loss: 0.5120 - val_accuracy: 0.7378\n",
      "Epoch 123/10000\n",
      "98/98 [==============================] - 0s 2ms/step - loss: 0.4346 - accuracy: 0.7926 - val_loss: 0.5124 - val_accuracy: 0.7378\n",
      "Epoch 124/10000\n",
      "98/98 [==============================] - 0s 2ms/step - loss: 0.4396 - accuracy: 0.7965 - val_loss: 0.5107 - val_accuracy: 0.7378\n",
      "Epoch 125/10000\n",
      "98/98 [==============================] - 0s 2ms/step - loss: 0.4378 - accuracy: 0.8003 - val_loss: 0.5122 - val_accuracy: 0.7378\n",
      "Epoch 126/10000\n",
      "98/98 [==============================] - 0s 2ms/step - loss: 0.4341 - accuracy: 0.7939 - val_loss: 0.5123 - val_accuracy: 0.7378\n",
      "Epoch 127/10000\n",
      "98/98 [==============================] - 0s 2ms/step - loss: 0.4337 - accuracy: 0.7907 - val_loss: 0.5135 - val_accuracy: 0.7378\n",
      "Epoch 128/10000\n",
      "98/98 [==============================] - 0s 2ms/step - loss: 0.4342 - accuracy: 0.7936 - val_loss: 0.5125 - val_accuracy: 0.7378\n",
      "Epoch 129/10000\n",
      "98/98 [==============================] - 0s 2ms/step - loss: 0.4357 - accuracy: 0.7968 - val_loss: 0.5143 - val_accuracy: 0.7378\n",
      "Epoch 130/10000\n",
      "98/98 [==============================] - 0s 2ms/step - loss: 0.4348 - accuracy: 0.7990 - val_loss: 0.5124 - val_accuracy: 0.7378\n",
      "Epoch 131/10000\n",
      "98/98 [==============================] - 0s 2ms/step - loss: 0.4329 - accuracy: 0.7984 - val_loss: 0.5129 - val_accuracy: 0.7378\n",
      "Epoch 132/10000\n",
      "98/98 [==============================] - 0s 2ms/step - loss: 0.4324 - accuracy: 0.7978 - val_loss: 0.5119 - val_accuracy: 0.7349\n",
      "Epoch 133/10000\n",
      "98/98 [==============================] - 0s 2ms/step - loss: 0.4342 - accuracy: 0.7981 - val_loss: 0.5142 - val_accuracy: 0.7378\n",
      "Epoch 134/10000\n",
      "98/98 [==============================] - 0s 2ms/step - loss: 0.4343 - accuracy: 0.7961 - val_loss: 0.5131 - val_accuracy: 0.7406\n",
      "Epoch 135/10000\n",
      "98/98 [==============================] - 0s 2ms/step - loss: 0.4328 - accuracy: 0.7968 - val_loss: 0.5121 - val_accuracy: 0.7378\n",
      "Epoch 136/10000\n",
      "98/98 [==============================] - 0s 2ms/step - loss: 0.4336 - accuracy: 0.7978 - val_loss: 0.5132 - val_accuracy: 0.7378\n",
      "Epoch 137/10000\n",
      "98/98 [==============================] - 0s 2ms/step - loss: 0.4320 - accuracy: 0.7978 - val_loss: 0.5108 - val_accuracy: 0.7320\n",
      "Epoch 138/10000\n",
      "98/98 [==============================] - 0s 2ms/step - loss: 0.4300 - accuracy: 0.8000 - val_loss: 0.5114 - val_accuracy: 0.7378\n",
      "Epoch 139/10000\n",
      "98/98 [==============================] - 0s 2ms/step - loss: 0.4346 - accuracy: 0.7945 - val_loss: 0.5111 - val_accuracy: 0.7378\n",
      "Epoch 140/10000\n",
      "98/98 [==============================] - 0s 2ms/step - loss: 0.4309 - accuracy: 0.8016 - val_loss: 0.5133 - val_accuracy: 0.7378\n",
      "Epoch 141/10000\n",
      "98/98 [==============================] - 0s 2ms/step - loss: 0.4287 - accuracy: 0.7971 - val_loss: 0.5122 - val_accuracy: 0.7406\n",
      "Epoch 142/10000\n",
      "98/98 [==============================] - 0s 2ms/step - loss: 0.4313 - accuracy: 0.7955 - val_loss: 0.5101 - val_accuracy: 0.7349\n",
      "Epoch 143/10000\n",
      "98/98 [==============================] - 0s 2ms/step - loss: 0.4300 - accuracy: 0.8003 - val_loss: 0.5108 - val_accuracy: 0.7406\n",
      "Epoch 144/10000\n",
      "98/98 [==============================] - 0s 2ms/step - loss: 0.4314 - accuracy: 0.7984 - val_loss: 0.5141 - val_accuracy: 0.7406\n",
      "Epoch 145/10000\n",
      "98/98 [==============================] - 0s 2ms/step - loss: 0.4317 - accuracy: 0.7968 - val_loss: 0.5133 - val_accuracy: 0.7406\n",
      "Epoch 146/10000\n",
      "98/98 [==============================] - 0s 2ms/step - loss: 0.4303 - accuracy: 0.7952 - val_loss: 0.5125 - val_accuracy: 0.7406\n",
      "Epoch 147/10000\n",
      "98/98 [==============================] - 0s 2ms/step - loss: 0.4290 - accuracy: 0.8026 - val_loss: 0.5131 - val_accuracy: 0.7378\n",
      "Epoch 148/10000\n",
      "98/98 [==============================] - 0s 2ms/step - loss: 0.4322 - accuracy: 0.7994 - val_loss: 0.5100 - val_accuracy: 0.7406\n",
      "Epoch 149/10000\n",
      "98/98 [==============================] - 0s 2ms/step - loss: 0.4268 - accuracy: 0.8000 - val_loss: 0.5124 - val_accuracy: 0.7378\n",
      "Epoch 150/10000\n",
      "98/98 [==============================] - 0s 2ms/step - loss: 0.4275 - accuracy: 0.7994 - val_loss: 0.5138 - val_accuracy: 0.7378\n",
      "Epoch 151/10000\n",
      "98/98 [==============================] - 0s 2ms/step - loss: 0.4293 - accuracy: 0.8006 - val_loss: 0.5135 - val_accuracy: 0.7378\n",
      "Epoch 152/10000\n",
      "98/98 [==============================] - 0s 1ms/step - loss: 0.4270 - accuracy: 0.7994 - val_loss: 0.5151 - val_accuracy: 0.7378\n"
     ]
    }
   ],
   "source": [
    "#history = model.fit(x=X_train, y=y_train, batch_size=32, epochs=400, verbose=1, validation_split=0.1)\n",
    "callback = tf.keras.callbacks.EarlyStopping(monitor='val_loss', patience=40)\n",
    "history = model.fit(x=X_train, y=y_train, batch_size=32, epochs=10000, verbose=1, validation_split=0.1, callbacks=[callback])"
   ]
  },
  {
   "cell_type": "code",
   "execution_count": 15,
   "metadata": {},
   "outputs": [
    {
     "data": {
      "image/png": "[encoded data removed]",
      "text/plain": [
       "<Figure size 432x288 with 1 Axes>"
      ]
     },
     "metadata": {
      "needs_background": "light"
     },
     "output_type": "display_data"
    },
    {
     "data": {
      "image/png": "[encoded data removed]",
      "text/plain": [
       "<Figure size 432x288 with 1 Axes>"
      ]
     },
     "metadata": {
      "needs_background": "light"
     },
     "output_type": "display_data"
    }
   ],
   "source": [
    "import matplotlib.pyplot as plt\n",
    "\n",
    "plt.plot(history.history['accuracy'])\n",
    "plt.plot(history.history['val_accuracy'])\n",
    "\n",
    "plt.title('model accuracy')\n",
    "plt.ylabel('acc')\n",
    "plt.xlabel('epoch')\n",
    "plt.legend(['train','test'], loc='upper left')\n",
    "plt.show()\n",
    "\n",
    "plt.plot(history.history['loss'])\n",
    "plt.plot(history.history['val_loss'])\n",
    "\n",
    "plt.title('model loss')\n",
    "plt.ylabel('loss')\n",
    "plt.xlabel('epoch')\n",
    "plt.legend(['train','test'], loc='upper left')\n",
    "plt.show()"
   ]
  },
  {
   "cell_type": "code",
   "execution_count": 16,
   "metadata": {},
   "outputs": [
    {
     "name": "stdout",
     "output_type": "stream",
     "text": [
      "32/32 [==============================] - 0s 982us/step - loss: 0.4867 - accuracy: 0.7453\n",
      "Test Score: 0.4866892993450165\n",
      "Test ACC: 0.7453109622001648\n"
     ]
    }
   ],
   "source": [
    "score = model.evaluate(x=X_test, y=y_test, verbose=1)\n",
    "\n",
    "print(\"Test Score:\", score[0])\n",
    "print(\"Test ACC:\", score[1])"
   ]
  },
  {
   "cell_type": "code",
   "execution_count": 17,
   "metadata": {},
   "outputs": [
    {
     "name": "stdout",
     "output_type": "stream",
     "text": [
      "32/32 [==============================] - 0s 873us/step\n"
     ]
    }
   ],
   "source": [
    "preds = model.predict(X_test, verbose=1)"
   ]
  },
  {
   "cell_type": "code",
   "execution_count": 18,
   "metadata": {},
   "outputs": [],
   "source": [
    "def LIFT(preds, y_test): # >=2.5\n",
    "    condition = y_test.astype(bool) #preds에 정답인 예측 score만 남긴다.\n",
    "    c = np.extract(condition, preds)\n",
    "    b = np.argsort(-c)[:len(c)//5] #예측 score 상위 20%\n",
    "    \n",
    "    lift_20 = preds[b] \n",
    "    \n",
    "    lift_20_flat = np.argmax(lift_20, axis=1) #값을 확률에서 0, 1값으로 바꾼다. \n",
    "    y_test_flat = np.argmax(y_test, axis=1)\n",
    "    lift_20_1 = lift_20_flat[lift_20_flat == 1] #1인 경우만 남긴다. \n",
    "    y_1 = y_test_flat[y_test_flat == 1]\n",
    "    \n",
    "    lift_score = (len(lift_20_1)/len(lift_20_flat))/(len(y_1)/len(y_test_flat))\n",
    "    print('LIFT Accuracy: ',  lift_score)\n",
    "    return lift_score"
   ]
  },
  {
   "cell_type": "code",
   "execution_count": 19,
   "metadata": {},
   "outputs": [
    {
     "name": "stdout",
     "output_type": "stream",
     "text": [
      "LIFT Accuracy:  0.025983686451546712\n"
     ]
    }
   ],
   "source": [
    "lift_value = LIFT(preds, y_test)"
   ]
  },
  {
   "cell_type": "code",
   "execution_count": 20,
   "metadata": {},
   "outputs": [
    {
     "name": "stdout",
     "output_type": "stream",
     "text": [
      "AUROC:  0.84153634\n"
     ]
    }
   ],
   "source": [
    "m = tf.keras.metrics.AUC()\n",
    "m.update_state(y_test, preds)\n",
    "auroc_value = m.result().numpy()\n",
    "print('AUROC: ', auroc_value)"
   ]
  },
  {
   "cell_type": "code",
   "execution_count": 21,
   "metadata": {},
   "outputs": [
    {
     "name": "stdout",
     "output_type": "stream",
     "text": [
      "fianle score:  0.25609861903252257\n"
     ]
    }
   ],
   "source": [
    "final_score = (lift_value/5)*0.7 + (auroc_value)*0.3\n",
    "\n",
    "    \n",
    "print('fianle score: ', final_score)"
   ]
  },
  {
   "cell_type": "code",
   "execution_count": 22,
   "metadata": {},
   "outputs": [
    {
     "data": {
      "text/plain": [
       "<AxesSubplot:title={'center':'Cumulative Gains Curve'}, xlabel='Percentage of sample', ylabel='Gain'>"
      ]
     },
     "execution_count": 22,
     "metadata": {},
     "output_type": "execute_result"
    },
    {
     "data": {
      "image/png": "[encoded data removed]",
      "text/plain": [
       "<Figure size 432x288 with 1 Axes>"
      ]
     },
     "metadata": {
      "needs_background": "light"
     },
     "output_type": "display_data"
    }
   ],
   "source": [
    "import scikitplot as skplt\n",
    "skplt.metrics.plot_cumulative_gain(np.argmax(y_test, axis=1), preds)"
   ]
  },
  {
   "cell_type": "code",
   "execution_count": null,
   "metadata": {},
   "outputs": [],
   "source": []
  }
 ],
 "metadata": {
  "kernelspec": {
   "display_name": "Python 3",
   "language": "python",
   "name": "python3"
  },
  "language_info": {
   "codemirror_mode": {
    "name": "ipython",
    "version": 3
   },
   "file_extension": ".py",
   "mimetype": "text/x-python",
   "name": "python",
   "nbconvert_exporter": "python",
   "pygments_lexer": "ipython3",
   "version": "3.7.7"
  }
 },
 "nbformat": 4,
 "nbformat_minor": 4
}
