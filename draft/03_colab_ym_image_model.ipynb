{
 "cells": [
  {
   "cell_type": "code",
   "execution_count": null,
   "metadata": {},
   "outputs": [],
   "source": [
    "!pip uninstall tensorflow -y\n",
    "!pip install tensorflow-gpu==2.1.0"
   ]
  },
  {
   "cell_type": "code",
   "execution_count": null,
   "metadata": {},
   "outputs": [],
   "source": [
    "import os\n",
    "os.environ[\"TF_CPP_MIN_LOG_LEVEL\"] = \"2\"\n",
    "import pandas as pd\n",
    "import numpy as np\n",
    "import tensorflow as tf\n",
    "from sklearn.model_selection import train_test_split\n",
    "import random\n",
    "from PIL import Image\n",
    "import matplotlib.pyplot as plt\n",
    "%matplotlib inline\n",
    "\n",
    "#physical_devices = tf.config.list_physical_devices('GPU') \n",
    "#tf.config.experimental.set_memory_growth(physical_devices[0], True)\n",
    "device_name = tf.test.gpu_device_name()\n",
    "if device_name != '/device:GPU:0':\n",
    "  raise SystemError('GPU device not found')\n",
    "print('Found GPU at: {}'.format(device_name))\n",
    "\n",
    "seed_value= 0\n",
    "os.environ['PYTHONHASHSEED']=str(seed_value)\n",
    "random.seed(seed_value)\n",
    "np.random.seed(seed_value)\n",
    "tf.random.set_seed(seed_value)"
   ]
  },
  {
   "cell_type": "code",
   "execution_count": null,
   "metadata": {},
   "outputs": [],
   "source": [
    "from google.colab import drive\n",
    "drive.mount('/content/drive')"
   ]
  },
  {
   "cell_type": "code",
   "execution_count": null,
   "metadata": {},
   "outputs": [],
   "source": [
    "train_dir = \"/content/drive/My Drive/scdc2020/image11/train\"\n",
    "val_dir = \"/content/drive/My Drive/scdc2020/image11/val\""
   ]
  },
  {
   "cell_type": "code",
   "execution_count": null,
   "metadata": {},
   "outputs": [],
   "source": [
    "i = 0\n",
    "X_train = np.array([])\n",
    "y_train = np.array([])\n",
    "for label in range(11):\n",
    "    print(label)\n",
    "    path = os.path.join(train_dir, str(label))\n",
    "    files = os.listdir(path)\n",
    "    for f in files:\n",
    "        image = Image.open(path + \"/\" + f)  # uint8 image\n",
    "        image = np.asarray(image).astype('uint8')\n",
    "        image = np.expand_dims(image, axis=0)\n",
    "        if i==0:\n",
    "            X_train = image\n",
    "            y_train = np.asarray(label)\n",
    "            i += 1\n",
    "        else:\n",
    "            X_train = np.append(X_train, image, axis=0)\n",
    "            y_train = np.append(y_train, np.asarray(label))"
   ]
  },
  {
   "cell_type": "code",
   "execution_count": null,
   "metadata": {},
   "outputs": [],
   "source": [
    "i = 0\n",
    "X_val = np.array([])\n",
    "y_val = np.array([])\n",
    "for label in range(11):\n",
    "    print(label)\n",
    "    path = os.path.join(val_dir, str(label))\n",
    "    files = os.listdir(path)\n",
    "    for f in files:\n",
    "        image = Image.open(path + \"/\" + f)  # uint8 image\n",
    "        image = np.asarray(image).astype('uint8')\n",
    "        image = np.expand_dims(image, axis=0)\n",
    "        if i==0:\n",
    "            X_val = image\n",
    "            y_val = np.asarray(label)\n",
    "            i += 1\n",
    "        else:\n",
    "            X_val = np.append(X_val, image, axis=0)\n",
    "            y_val = np.append(y_val, np.asarray(label))"
   ]
  },
  {
   "cell_type": "code",
   "execution_count": null,
   "metadata": {},
   "outputs": [],
   "source": [
    "y_train = tf.keras.utils.to_categorical(y_train)\n",
    "y_val = tf.keras.utils.to_categorical(y_val)"
   ]
  },
  {
   "cell_type": "code",
   "execution_count": null,
   "metadata": {},
   "outputs": [],
   "source": [
    "p = 331\n",
    "\n",
    "img_rows, img_cols, img_channel = p, p, 3\n",
    "\n",
    "base_model = tf.keras.applications.Xception(weights='imagenet', include_top=False, input_shape=(img_rows, img_cols, img_channel))"
   ]
  },
  {
   "cell_type": "code",
   "execution_count": null,
   "metadata": {},
   "outputs": [],
   "source": [
    "add_model = tf.keras.Sequential()\n",
    "add_model.add(tf.keras.layers.Flatten(input_shape=base_model.output_shape[1:]))\n",
    "add_model.add(tf.keras.layers.Dropout(rate = 0.8))\n",
    "#add_model.add(tf.keras.layers.Dense(units=256, activation=tf.nn.relu))\n",
    "add_model.add(tf.keras.layers.Dense(units=11, activation=tf.nn.softmax))\n",
    "\n",
    "model = tf.keras.Model(inputs=base_model.input, outputs=add_model(base_model.output))\n",
    "model.compile(loss='categorical_crossentropy', optimizer=tf.keras.optimizers.Adam(lr=1e-6),\n",
    "              metrics=['accuracy'])"
   ]
  },
  {
   "cell_type": "code",
   "execution_count": null,
   "metadata": {},
   "outputs": [],
   "source": [
    "batch_size = 8\n",
    "epochs = 1000\n",
    "\n",
    "train_datagen = tf.keras.preprocessing.image.ImageDataGenerator(rescale=1/255., dtype=np.float16)\n",
    "train_datagen.fit(X_train)\n",
    "\n",
    "import gc\n",
    "gc.collect()\n",
    "\n",
    "val_datagen = tf.keras.preprocessing.image.ImageDataGenerator(rescale=1/255., dtype=np.float16)\n",
    "val_datagen.fit(X_val)\n",
    "\n",
    "gc.collect()\n",
    "\n",
    "callback = tf.keras.callbacks.EarlyStopping(monitor='val_loss', patience=10)\n",
    "\n",
    "history = model.fit_generator(\n",
    "    train_datagen.flow(X_train, y_train, batch_size=batch_size),\n",
    "    steps_per_epoch=X_train.shape[0] // batch_size,\n",
    "    epochs=epochs,\n",
    "    validation_data=val_datagen.flow(X_val, y_val, batch_size=batch_size),\n",
    "    callbacks=[callback]\n",
    ")\n",
    "\n",
    "model.save(\"/content/drive/My Drive/scdc2020/image11/image11_model_1e_6.h5\")"
   ]
  },
  {
   "cell_type": "code",
   "execution_count": null,
   "metadata": {},
   "outputs": [],
   "source": [
    "import matplotlib.pyplot as plt\n",
    "\n",
    "plt.plot(history.history['accuracy'])\n",
    "plt.plot(history.history['val_accuracy'])\n",
    "\n",
    "plt.title('model auc')\n",
    "plt.ylabel('acc')\n",
    "plt.xlabel('epoch')\n",
    "plt.legend(['train','test'], loc='upper left')\n",
    "plt.show()\n",
    "\n",
    "plt.plot(history.history['loss'])\n",
    "plt.plot(history.history['val_loss'])\n",
    "\n",
    "plt.title('model loss')\n",
    "plt.ylabel('loss')\n",
    "plt.xlabel('epoch')\n",
    "plt.legend(['train','test'], loc='upper left')\n",
    "plt.show()"
   ]
  },
  {
   "cell_type": "code",
   "execution_count": null,
   "metadata": {},
   "outputs": [],
   "source": []
  }
 ],
 "metadata": {
  "kernelspec": {
   "display_name": "Python 3",
   "language": "python",
   "name": "python3"
  },
  "language_info": {
   "codemirror_mode": {
    "name": "ipython",
    "version": 3
   },
   "file_extension": ".py",
   "mimetype": "text/x-python",
   "name": "python",
   "nbconvert_exporter": "python",
   "pygments_lexer": "ipython3",
   "version": "3.7.9"
  }
 },
 "nbformat": 4,
 "nbformat_minor": 4
}
