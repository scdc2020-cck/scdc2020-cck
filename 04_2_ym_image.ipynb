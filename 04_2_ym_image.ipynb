{
 "cells": [
  {
   "cell_type": "code",
   "execution_count": null,
   "metadata": {},
   "outputs": [],
   "source": [
    "import matplotlib as mpl\n",
    "import matplotlib.pyplot as plt\n",
    "import seaborn as sns\n",
    "\n",
    "import os\n",
    "import re\n",
    "import numpy as np\n",
    "import pandas as pd\n",
    "import collections"
   ]
  },
  {
   "cell_type": "code",
   "execution_count": null,
   "metadata": {},
   "outputs": [],
   "source": [
    "x_name = os.path.join(os.getcwd(), '데이터SET', f\"{'[Track1_데이터3] samp_cst_feat'}.csv\")\n",
    "df_x = pd.read_csv(x_name, index_col=0)\n",
    "\n",
    "y_name = os.path.join(os.getcwd(), '데이터SET', f\"{'[Track1_데이터2] samp_train'}.csv\")\n",
    "df_y = pd.read_csv(y_name, index_col=0)\n",
    "\n",
    "df = pd.merge(df_x, df_y, on='cst_id_di')"
   ]
  },
  {
   "cell_type": "code",
   "execution_count": null,
   "metadata": {},
   "outputs": [],
   "source": [
    "df.MRC_ID_DI[df.MRC_ID_DI > 0 ] = 1"
   ]
  },
  {
   "cell_type": "code",
   "execution_count": null,
   "metadata": {},
   "outputs": [],
   "source": [
    "nc_name = os.path.join(os.getcwd(), '데이터SET', f\"{'[Track1_데이터4] variable_dtype'}.xlsx\")\n",
    "nc = pd.read_excel(nc_name, index_col=0)"
   ]
  },
  {
   "cell_type": "code",
   "execution_count": null,
   "metadata": {},
   "outputs": [],
   "source": [
    "X = df.drop(columns = ['MRC_ID_DI'], axis=1)\n",
    "y = df['MRC_ID_DI']"
   ]
  },
  {
   "cell_type": "code",
   "execution_count": null,
   "metadata": {},
   "outputs": [],
   "source": [
    "from itertools import combinations\n",
    "from sklearn.preprocessing import PolynomialFeatures\n",
    "\n",
    "def add_interactions(df):\n",
    "    combos = list(combinations(list(df.columns), 2))\n",
    "    colnames = list(df.columns) + ['_'.join(x) for x in combos]\n",
    "    \n",
    "    poly = PolynomialFeatures(interaction_only=True, include_bias=False)\n",
    "    df = poly.fit_transform(df)\n",
    "    df = pd.DataFrame(df)\n",
    "    df.columns = colnames\n",
    "    \n",
    "    noint_indicies = [i for i, x in enumerate(list((df == 0).all())) if x]\n",
    "    df = df.drop(df.columns[noint_indicies], axis = 1)\n",
    "    \n",
    "    return df\n",
    "\n",
    "X = add_interactions(X)"
   ]
  },
  {
   "cell_type": "code",
   "execution_count": null,
   "metadata": {},
   "outputs": [],
   "source": [
    "from sklearn.model_selection import train_test_split\n",
    "X_train, X_test, y_train, y_test = train_test_split(X, y, test_size=0.1, random_state=1, stratify = y)"
   ]
  },
  {
   "cell_type": "code",
   "execution_count": null,
   "metadata": {},
   "outputs": [],
   "source": [
    "test = X_test\n",
    "test['cst_id_di'] = y_test.index\n",
    "test = test.set_index('cst_id_di')\n",
    "test['MRC_ID_DI'] = y_test\n",
    "\n",
    "X_test = test.drop(columns = ['MRC_ID_DI'], axis=1)\n",
    "y_test = test['MRC_ID_DI']\n",
    "\n",
    "\n",
    "\n",
    "train = X_train\n",
    "train['cst_id_di'] = y_train.index\n",
    "train = train.set_index('cst_id_di')\n",
    "train['MRC_ID_DI'] = y_train\n",
    "\n",
    "train_0 = train[train['MRC_ID_DI'] == 0].sample(frac=1)\n",
    "train_1 = train[train['MRC_ID_DI'] == 1].sample(frac=1)\n",
    "\n",
    "sample_size = len(train_0) if len(train_0) < len(train_1) else len(train_1)\n",
    "\n",
    "train_f = pd.concat([train_0.head(sample_size), train_1.head(sample_size)]).sample(frac=1)\n",
    "\n",
    "X_train = train_f.drop(columns = ['MRC_ID_DI'], axis=1)\n",
    "y_train = train_f['MRC_ID_DI']"
   ]
  },
  {
   "cell_type": "code",
   "execution_count": null,
   "metadata": {},
   "outputs": [],
   "source": [
    "import sklearn.feature_selection\n",
    "\n",
    "select = sklearn.feature_selection.SelectKBest(k=331)\n",
    "selected_features = select.fit(X_train, y_train)\n",
    "indices_selected = selected_features.get_support(indices=True)\n",
    "colnames_selected = [X_train.columns[i] for i in indices_selected]\n",
    "\n",
    "X_train = X_train[colnames_selected]\n",
    "X_test = X_test[colnames_selected]"
   ]
  },
  {
   "cell_type": "code",
   "execution_count": null,
   "metadata": {},
   "outputs": [],
   "source": [
    "X_train, X_val, y_train, y_val = train_test_split(X_train, y_train, test_size=0.1, random_state=1, stratify = y_train)"
   ]
  },
  {
   "cell_type": "code",
   "execution_count": null,
   "metadata": {},
   "outputs": [],
   "source": [
    "X_train[X_train.columns] = (X_train[X_train.columns]+1)/2*255\n",
    "X_test[X_test.columns] = (X_test[X_test.columns]+1)/2*255\n",
    "X_val[X_val.columns] = (X_val[X_val.columns]+1)/2*255"
   ]
  },
  {
   "cell_type": "code",
   "execution_count": null,
   "metadata": {
    "scrolled": true
   },
   "outputs": [],
   "source": [
    "repetitions = 331\n",
    "\n",
    "from PIL import Image\n",
    "import numpy as np\n",
    "for ind, k in enumerate(y_train.index):\n",
    "    print(ind)\n",
    "    data = np.zeros((331, 331, 3), dtype=np.uint8)\n",
    "    \n",
    "    an_array = X_train.iloc[ind].values\n",
    "    row_array = np.tile(an_array, (repetitions, 1))\n",
    "    col_array = np.transpose([an_array] * repetitions)\n",
    "    final_array = (row_array + col_array) / 2\n",
    "    final_array = np.repeat(final_array.flatten(), 3)\n",
    "    data = final_array.reshape((331,331, 3))\n",
    "    \n",
    "    img = Image.fromarray(data.astype(np.uint8), 'RGB')\n",
    "    \n",
    "    if y_train.iloc[ind] == 0:\n",
    "        img_name = os.path.join(os.getcwd(), 'image6', 'train', '0', str(k) + '.png')\n",
    "    else:\n",
    "        img_name = os.path.join(os.getcwd(), 'image6', 'train', '1', str(k) + '.png')\n",
    "    img.save(img_name)"
   ]
  },
  {
   "cell_type": "code",
   "execution_count": null,
   "metadata": {},
   "outputs": [],
   "source": [
    "for ind, k in enumerate(y_test.index):\n",
    "    data = np.zeros((331, 331, 3), dtype=np.uint8)\n",
    "    \n",
    "    an_array = X_test.iloc[ind].values\n",
    "    row_array = np.tile(an_array, (repetitions, 1))\n",
    "    col_array = np.transpose([an_array] * repetitions)\n",
    "    final_array = (row_array + col_array) / 2\n",
    "    final_array = np.repeat(final_array.flatten(), 3)\n",
    "    data = final_array.reshape((331,331, 3))\n",
    "    \n",
    "    img = Image.fromarray(data.astype(np.uint8), 'RGB')\n",
    "    \n",
    "    if y_test.iloc[ind] == 0:\n",
    "        img_name = os.path.join(os.getcwd(), 'image6', 'test', '0', str(k) + '.png')\n",
    "    else:\n",
    "        img_name = os.path.join(os.getcwd(), 'image6', 'test', '1', str(k) + '.png')\n",
    "    img.save(img_name)"
   ]
  },
  {
   "cell_type": "code",
   "execution_count": null,
   "metadata": {},
   "outputs": [],
   "source": [
    "for ind, k in enumerate(y_val.index):\n",
    "    data = np.zeros((331, 331, 3), dtype=np.uint8)\n",
    "    \n",
    "    an_array = X_val.iloc[ind].values\n",
    "    row_array = np.tile(an_array, (repetitions, 1))\n",
    "    col_array = np.transpose([an_array] * repetitions)\n",
    "    final_array = (row_array + col_array) / 2\n",
    "    final_array = np.repeat(final_array.flatten(), 3)\n",
    "    data = final_array.reshape((331,331, 3))\n",
    "    \n",
    "    img = Image.fromarray(data.astype(np.uint8), 'RGB')\n",
    "    \n",
    "    if y_val.iloc[ind] == 0:\n",
    "        img_name = os.path.join(os.getcwd(), 'image6', 'val', '0', str(k) + '.png')\n",
    "    else:\n",
    "        img_name = os.path.join(os.getcwd(), 'image6', 'val', '1', str(k) + '.png')\n",
    "    img.save(img_name)"
   ]
  },
  {
   "cell_type": "code",
   "execution_count": null,
   "metadata": {},
   "outputs": [],
   "source": []
  }
 ],
 "metadata": {
  "kernelspec": {
   "display_name": "Python 3",
   "language": "python",
   "name": "python3"
  },
  "language_info": {
   "codemirror_mode": {
    "name": "ipython",
    "version": 3
   },
   "file_extension": ".py",
   "mimetype": "text/x-python",
   "name": "python",
   "nbconvert_exporter": "python",
   "pygments_lexer": "ipython3",
   "version": "3.7.7"
  }
 },
 "nbformat": 4,
 "nbformat_minor": 4
}
