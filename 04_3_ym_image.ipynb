{
 "cells": [
  {
   "cell_type": "code",
   "execution_count": null,
   "metadata": {},
   "outputs": [],
   "source": [
    "import matplotlib as mpl\n",
    "import matplotlib.pyplot as plt\n",
    "import seaborn as sns\n",
    "\n",
    "import os\n",
    "import re\n",
    "import numpy as np\n",
    "import pandas as pd\n",
    "import collections\n",
    "import gc"
   ]
  },
  {
   "cell_type": "code",
   "execution_count": null,
   "metadata": {},
   "outputs": [],
   "source": [
    "x_name = os.path.join(os.getcwd(), 'SCDC_Track1_2차', f\"{'cst_feat_jan'}.csv\")\n",
    "df_x = pd.read_csv(x_name, index_col=0)\n",
    "\n",
    "y_name = os.path.join(os.getcwd(), 'SCDC_Track1_2차', f\"{'train'}.csv\")\n",
    "df_y = pd.read_csv(y_name, index_col=0)\n",
    "\n",
    "v_name = os.path.join(os.getcwd(), 'SCDC_Track1_2차', f\"{'val'}.csv\")\n",
    "df_v = pd.read_csv(v_name, index_col=0)\n",
    "\n",
    "df_yv = pd.concat([df_y, df_v])\n",
    "df = pd.merge(df_x, df_yv, on='cst_id_di')"
   ]
  },
  {
   "cell_type": "code",
   "execution_count": null,
   "metadata": {},
   "outputs": [],
   "source": [
    "X = df.drop(columns = ['MRC_ID_DI'], axis=1)\n",
    "y = df['MRC_ID_DI']"
   ]
  },
  {
   "cell_type": "code",
   "execution_count": null,
   "metadata": {},
   "outputs": [],
   "source": [
    "X.info(memory_usage='deep')"
   ]
  },
  {
   "cell_type": "code",
   "execution_count": null,
   "metadata": {},
   "outputs": [],
   "source": [
    "len(X.columns)*0.5"
   ]
  },
  {
   "cell_type": "code",
   "execution_count": null,
   "metadata": {},
   "outputs": [],
   "source": [
    "import sklearn.feature_selection\n",
    "gc.collect()\n",
    "select = sklearn.feature_selection.SelectKBest(k=113) #113\n",
    "selected_features = select.fit(X, y)\n",
    "indices_selected = selected_features.get_support(indices=True)\n",
    "colnames_selected = [X.columns[i] for i in indices_selected]\n",
    "\n",
    "X = X[colnames_selected]"
   ]
  },
  {
   "cell_type": "code",
   "execution_count": null,
   "metadata": {},
   "outputs": [],
   "source": [
    "from itertools import combinations\n",
    "from sklearn.preprocessing import PolynomialFeatures\n",
    "\n",
    "X = X.astype(np.float16)\n",
    "combos = list(combinations(list(X.columns), 2))\n",
    "colnames = list(X.columns) + ['_'.join(x) for x in combos]\n",
    "\n",
    "poly = PolynomialFeatures(interaction_only=True, include_bias=False)\n",
    "X = poly.fit_transform(X)\n",
    "X = pd.DataFrame(X)\n",
    "X.columns = colnames\n",
    "\n",
    "gc.collect()\n",
    "\n",
    "noint_indicies = [i for i, x in enumerate(list((X == 0).all())) if x]\n",
    "X = X.drop(X.columns[noint_indicies], axis = 1)"
   ]
  },
  {
   "cell_type": "code",
   "execution_count": null,
   "metadata": {},
   "outputs": [],
   "source": [
    "temp = X\n",
    "temp['cst_id_di'] = y.index\n",
    "temp = temp.set_index('cst_id_di')\n",
    "temp['MRC_ID_DI'] = y\n",
    "\n",
    "X = temp.drop(columns = ['MRC_ID_DI'], axis=1)\n",
    "y = temp['MRC_ID_DI'].astype(np.int8)\n",
    "gc.collect()"
   ]
  },
  {
   "cell_type": "code",
   "execution_count": null,
   "metadata": {},
   "outputs": [],
   "source": [
    "import sklearn.feature_selection\n",
    "\n",
    "select = sklearn.feature_selection.SelectKBest(k=331)\n",
    "selected_features = select.fit(X, y)\n",
    "indices_selected = selected_features.get_support(indices=True)\n",
    "colnames_selected = [X.columns[i] for i in indices_selected]\n",
    "\n",
    "X = X[colnames_selected]\n",
    "\n",
    "gc.collect()"
   ]
  },
  {
   "cell_type": "code",
   "execution_count": null,
   "metadata": {},
   "outputs": [],
   "source": [
    "temp = X\n",
    "temp['cst_id_di'] = y.index\n",
    "temp = temp.set_index('cst_id_di')\n",
    "temp['MRC_ID_DI'] = y\n",
    "\n",
    "temp_0 = temp[temp['MRC_ID_DI'] == 0].sample(frac=1)\n",
    "temp_1 = temp[temp['MRC_ID_DI'] == 1].sample(frac=1)\n",
    "temp_2 = temp[temp['MRC_ID_DI'] == 2].sample(frac=1)\n",
    "temp_3 = temp[temp['MRC_ID_DI'] == 3].sample(frac=1)\n",
    "temp_4 = temp[temp['MRC_ID_DI'] == 4].sample(frac=1)\n",
    "temp_5 = temp[temp['MRC_ID_DI'] == 5].sample(frac=1)\n",
    "temp_6 = temp[temp['MRC_ID_DI'] == 6].sample(frac=1)\n",
    "temp_7 = temp[temp['MRC_ID_DI'] == 7].sample(frac=1)\n",
    "temp_8 = temp[temp['MRC_ID_DI'] == 8].sample(frac=1)\n",
    "temp_9 = temp[temp['MRC_ID_DI'] == 9].sample(frac=1)\n",
    "temp_10 = temp[temp['MRC_ID_DI'] == 10].sample(frac=1)\n",
    "\n",
    "sample_size = min(len(temp_0),len(temp_1), len(temp_2), len(temp_3), len(temp_4), len(temp_5), len(temp_6), len(temp_7),\n",
    "                 len(temp_8), len(temp_9), len(temp_10))\n",
    "\n",
    "temp_f = pd.concat([temp_0.head(sample_size), temp_1.head(sample_size), temp_2.head(sample_size), temp_3.head(sample_size),\n",
    "                    temp_4.head(sample_size), temp_5.head(sample_size), temp_6.head(sample_size), temp_7.head(sample_size), \n",
    "                    temp_8.head(sample_size), temp_9.head(sample_size), temp_10.head(sample_size)]).sample(frac=1)\n",
    "\n",
    "X = temp_f.drop(columns = ['MRC_ID_DI'], axis=1)\n",
    "y = temp_f['MRC_ID_DI']\n",
    "\n",
    "gc.collect()"
   ]
  },
  {
   "cell_type": "code",
   "execution_count": null,
   "metadata": {},
   "outputs": [],
   "source": [
    "X[X.columns] = (X[X.columns]+1)/2*255"
   ]
  },
  {
   "cell_type": "code",
   "execution_count": null,
   "metadata": {},
   "outputs": [],
   "source": [
    "nth_img = 'image10'\n",
    "img_dir = os.path.join(os.getcwd(), nth_img)\n",
    "if not os.path.exists(img_dir):\n",
    "    os.makedirs(img_dir)"
   ]
  },
  {
   "cell_type": "code",
   "execution_count": null,
   "metadata": {
    "scrolled": true
   },
   "outputs": [],
   "source": [
    "repetitions = 331\n",
    "p = 331\n",
    "\n",
    "from PIL import Image\n",
    "import numpy as np\n",
    "for ind, k in enumerate(y.index):\n",
    "    print(ind)\n",
    "    data = np.zeros((p, p, 3), dtype=np.float16)\n",
    "    \n",
    "    an_array = X.iloc[ind].values\n",
    "    row_array = np.tile(an_array, (repetitions, 1))\n",
    "    col_array = np.transpose([an_array] * repetitions)\n",
    "    final_array = (row_array + col_array) / 2\n",
    "    final_array = np.repeat(final_array.flatten(), 3)\n",
    "    data = final_array.reshape((p,p, 3))\n",
    "    \n",
    "    img = Image.fromarray(data.astype(np.uint8), 'RGB')\n",
    "    \n",
    "    img_name = os.path.join(os.getcwd(), nth_img, str(k) + '.png')\n",
    "    img.save(img_name)\n",
    "    \n",
    "    gc.collect()"
   ]
  }
 ],
 "metadata": {
  "kernelspec": {
   "display_name": "Python 3",
   "language": "python",
   "name": "python3"
  },
  "language_info": {
   "codemirror_mode": {
    "name": "ipython",
    "version": 3
   },
   "file_extension": ".py",
   "mimetype": "text/x-python",
   "name": "python",
   "nbconvert_exporter": "python",
   "pygments_lexer": "ipython3",
   "version": "3.7.9"
  }
 },
 "nbformat": 4,
 "nbformat_minor": 4
}
