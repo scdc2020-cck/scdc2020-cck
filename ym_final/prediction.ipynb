{
 "cells": [
  {
   "cell_type": "code",
   "execution_count": null,
   "metadata": {},
   "outputs": [],
   "source": [
    "import os\n",
    "import pandas as pd\n",
    "import numpy as np\n",
    "import tensorflow as tf\n",
    "from sklearn.model_selection import train_test_split\n",
    "import random\n",
    "import matplotlib.pyplot as plt\n",
    "%matplotlib inline\n",
    "\n",
    "physical_devices = tf.config.list_physical_devices('GPU') \n",
    "tf.config.experimental.set_memory_growth(physical_devices[0], True)\n",
    "\n",
    "seed_value= 0\n",
    "os.environ['PYTHONHASHSEED']=str(seed_value)\n",
    "random.seed(seed_value)\n",
    "np.random.seed(seed_value)\n",
    "tf.random.set_seed(seed_value)"
   ]
  },
  {
   "cell_type": "code",
   "execution_count": null,
   "metadata": {},
   "outputs": [],
   "source": [
    "d = \"image31\"\n",
    "n = '0'\n",
    "p = 331\n",
    "batch_size = 8\n",
    "model = tf.keras.models.load_model('model_0.h5')"
   ]
  },
  {
   "cell_type": "code",
   "execution_count": null,
   "metadata": {},
   "outputs": [],
   "source": [
    "df_all = pd.read_csv(d+'_'+n+'_'+'all.csv')"
   ]
  },
  {
   "cell_type": "code",
   "execution_count": null,
   "metadata": {},
   "outputs": [],
   "source": [
    "def returnX(X):\n",
    "    an_array = X.values\n",
    "    t_array = np.transpose([an_array])\n",
    "    final_array = np.dot(np.resize(an_array + 1, (p, 1)), np.resize(t_array + 1,(1,p))) / 4\n",
    "    final_array = np.repeat(final_array.flatten(), 3)\n",
    "    data = final_array.reshape((p,p, 3))\n",
    "    data = np.expand_dims(data, axis=0)\n",
    "    return data"
   ]
  },
  {
   "cell_type": "code",
   "execution_count": null,
   "metadata": {},
   "outputs": [],
   "source": [
    "\"\"\"\n",
    "def returnX(X):\n",
    "    an_array = X.values\n",
    "    row_array = np.tile(an_array, (p, 1))\n",
    "    col_array = np.transpose([an_array] * p)\n",
    "    final_array = (row_array + col_array) / 2\n",
    "    final_array = np.repeat(final_array.flatten(), 3)\n",
    "    data = final_array.reshape((p,p, 3))\n",
    "    return data\n",
    "\"\"\""
   ]
  },
  {
   "cell_type": "code",
   "execution_count": null,
   "metadata": {},
   "outputs": [],
   "source": [
    "PRED = list()\n",
    "\n",
    "for i in range(len(df_all)):\n",
    "    X = returnX(df_all.loc[i, 'image'])\n",
    "    y = df_all.loc[i, 'MRC_ID_DI']\n",
    "    pred = model.predict(X)\n",
    "    PRED.append(pred[y])\n",
    "    \n",
    "df_all['pred'] = PRED "
   ]
  },
  {
   "cell_type": "code",
   "execution_count": null,
   "metadata": {},
   "outputs": [],
   "source": [
    "df_all = df_all.drop(columns=['image'])"
   ]
  },
  {
   "cell_type": "code",
   "execution_count": null,
   "metadata": {},
   "outputs": [],
   "source": [
    "df_all.to_csv(d+'_'+n+'_'+'all_pred.csv')"
   ]
  },
  {
   "cell_type": "code",
   "execution_count": null,
   "metadata": {},
   "outputs": [],
   "source": []
  }
 ],
 "metadata": {
  "kernelspec": {
   "display_name": "Python 3",
   "language": "python",
   "name": "python3"
  },
  "language_info": {
   "codemirror_mode": {
    "name": "ipython",
    "version": 3
   },
   "file_extension": ".py",
   "mimetype": "text/x-python",
   "name": "python",
   "nbconvert_exporter": "python",
   "pygments_lexer": "ipython3",
   "version": "3.6.10"
  }
 },
 "nbformat": 4,
 "nbformat_minor": 4
}
