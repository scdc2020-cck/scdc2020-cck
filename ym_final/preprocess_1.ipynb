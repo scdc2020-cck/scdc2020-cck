{
 "cells": [
  {
   "cell_type": "code",
   "execution_count": null,
   "metadata": {},
   "outputs": [],
   "source": [
    "import os\n",
    "import numpy as np\n",
    "import pandas as pd\n",
    "import sklearn.feature_selection\n",
    "from sklearn.model_selection import train_test_split\n",
    "from sklearn.preprocessing import PolynomialFeatures\n",
    "from itertools import combinations\n",
    "import sys\n",
    "np.set_printoptions(threshold=sys.maxsize)"
   ]
  },
  {
   "cell_type": "code",
   "execution_count": null,
   "metadata": {},
   "outputs": [],
   "source": [
    "x_name = os.path.join(os.getcwd(), 'raw', 'SCDC_Track1_2차', f\"{'cst_feat_jan'}.csv\")\n",
    "df_x = pd.read_csv(x_name, index_col=0)\n",
    "\n",
    "y_name = os.path.join(os.getcwd(), 'raw', 'SCDC_Track1_2차', f\"{'train'}.csv\")\n",
    "df_y = pd.read_csv(y_name, index_col=0)\n",
    "\n",
    "v_name = os.path.join(os.getcwd(), 'raw', 'SCDC_Track1_2차', f\"{'val'}.csv\")\n",
    "df_v = pd.read_csv(v_name, index_col=0)\n",
    "\n",
    "df_yv = pd.concat([df_y, df_v])\n",
    "df = pd.merge(df_x, df_yv, on='cst_id_di')"
   ]
  },
  {
   "cell_type": "code",
   "execution_count": null,
   "metadata": {},
   "outputs": [],
   "source": [
    "d = \"image31\"\n",
    "n = '1'\n",
    "df_pred = pd.read_csv(d+'_'+n+'_'+'all_pred.csv')"
   ]
  },
  {
   "cell_type": "code",
   "execution_count": null,
   "metadata": {},
   "outputs": [],
   "source": [
    "train_0 = df_pred[df_pred['MRC_ID_DI'] == 0].sort_values(by=\"pred\", ascending=False)[:474]\n",
    "train_1 = df_pred[df_pred['MRC_ID_DI'] == 1].sort_values(by=\"pred\", ascending=False)[:474]\n",
    "train_2 = df_pred[df_pred['MRC_ID_DI'] == 2].sort_values(by=\"pred\", ascending=False)[:474]\n",
    "train_3 = df_pred[df_pred['MRC_ID_DI'] == 3].sort_values(by=\"pred\", ascending=False)[:474]\n",
    "train_4 = df_pred[df_pred['MRC_ID_DI'] == 4].sort_values(by=\"pred\", ascending=False)[:474]\n",
    "train_5 = df_pred[df_pred['MRC_ID_DI'] == 5].sort_values(by=\"pred\", ascending=False)[:474]\n",
    "train_6 = df_pred[df_pred['MRC_ID_DI'] == 6].sort_values(by=\"pred\", ascending=False)[:474]\n",
    "train_7 = df_pred[df_pred['MRC_ID_DI'] == 7].sort_values(by=\"pred\", ascending=False)[:474]\n",
    "train_8 = df_pred[df_pred['MRC_ID_DI'] == 8].sort_values(by=\"pred\", ascending=False)[:474]\n",
    "train_9 = df_pred[df_pred['MRC_ID_DI'] == 9].sort_values(by=\"pred\", ascending=False)[:474]\n",
    "train_10 = df_pred[df_pred['MRC_ID_DI'] == 10].sort_values(by=\"pred\", ascending=False)[:474]"
   ]
  },
  {
   "cell_type": "code",
   "execution_count": null,
   "metadata": {},
   "outputs": [],
   "source": [
    "train_f = pd.concat([train_0, train_1, train_2, train_3, train_4, train_5, train_6, train_7, \n",
    "                    train_8, train_9, train_10]).sample(frac=1)\n",
    "\n",
    "X_train = train_f.drop(columns = ['MRC_ID_DI'], axis=1)\n",
    "y_train = train_f['MRC_ID_DI']"
   ]
  },
  {
   "cell_type": "code",
   "execution_count": null,
   "metadata": {},
   "outputs": [],
   "source": [
    "val_0 = df_pred[df_pred['MRC_ID_DI'] == 0].sort_values(by=\"pred\", ascending=False)[474:526]\n",
    "val_1 = df_pred[df_pred['MRC_ID_DI'] == 1].sort_values(by=\"pred\", ascending=False)[474:526]\n",
    "val_2 = df_pred[df_pred['MRC_ID_DI'] == 2].sort_values(by=\"pred\", ascending=False)[474:526]\n",
    "val_3 = df_pred[df_pred['MRC_ID_DI'] == 3].sort_values(by=\"pred\", ascending=False)[474:526]\n",
    "val_4 = df_pred[df_pred['MRC_ID_DI'] == 4].sort_values(by=\"pred\", ascending=False)[474:526]\n",
    "val_5 = df_pred[df_pred['MRC_ID_DI'] == 5].sort_values(by=\"pred\", ascending=False)[474:526]\n",
    "val_6 = df_pred[df_pred['MRC_ID_DI'] == 6].sort_values(by=\"pred\", ascending=False)[474:526]\n",
    "val_7 = df_pred[df_pred['MRC_ID_DI'] == 7].sort_values(by=\"pred\", ascending=False)[474:526]\n",
    "val_8 = df_pred[df_pred['MRC_ID_DI'] == 8].sort_values(by=\"pred\", ascending=False)[474:526]\n",
    "val_9 = df_pred[df_pred['MRC_ID_DI'] == 9].sort_values(by=\"pred\", ascending=False)[474:526]\n",
    "val_10 = df_pred[df_pred['MRC_ID_DI'] == 10].sort_values(by=\"pred\", ascending=False)[474:526]"
   ]
  },
  {
   "cell_type": "code",
   "execution_count": null,
   "metadata": {},
   "outputs": [],
   "source": [
    "val_f = pd.concat([val_0, val_1, val_2, val_3, val_4, val_5, val_6, val_7, \n",
    "                    val_8, val_9, val_10]).sample(frac=1)\n",
    "\n",
    "X_val = val_f.drop(columns = ['MRC_ID_DI'], axis=1)\n",
    "y_val = val_f['MRC_ID_DI']"
   ]
  },
  {
   "cell_type": "code",
   "execution_count": null,
   "metadata": {},
   "outputs": [],
   "source": [
    "test_0 = df_pred[df_pred['MRC_ID_DI'] == 0].sort_values(by=\"pred\", ascending=False)[526:526+len(df_pred[df_pred['MRC_ID_DI'] == 0])*0.01]\n",
    "test_1 = df_pred[df_pred['MRC_ID_DI'] == 1].sort_values(by=\"pred\", ascending=False)[526:526+len(df_pred[df_pred['MRC_ID_DI'] == 1])*0.01]\n",
    "test_2 = df_pred[df_pred['MRC_ID_DI'] == 2].sort_values(by=\"pred\", ascending=False)[526:526+len(df_pred[df_pred['MRC_ID_DI'] == 2])*0.01]\n",
    "test_3 = df_pred[df_pred['MRC_ID_DI'] == 3].sort_values(by=\"pred\", ascending=False)[526:526+len(df_pred[df_pred['MRC_ID_DI'] == 3])*0.01]\n",
    "test_4 = df_pred[df_pred['MRC_ID_DI'] == 4].sort_values(by=\"pred\", ascending=False)[526:526+len(df_pred[df_pred['MRC_ID_DI'] == 4])*0.01]\n",
    "test_5 = df_pred[df_pred['MRC_ID_DI'] == 5].sort_values(by=\"pred\", ascending=False)[526:526+len(df_pred[df_pred['MRC_ID_DI'] == 5])*0.01]\n",
    "test_6 = df_pred[df_pred['MRC_ID_DI'] == 6].sort_values(by=\"pred\", ascending=False)[526:526+len(df_pred[df_pred['MRC_ID_DI'] == 6])*0.01]\n",
    "test_7 = df_pred[df_pred['MRC_ID_DI'] == 7].sort_values(by=\"pred\", ascending=False)[526:526+len(df_pred[df_pred['MRC_ID_DI'] == 7])*0.01]\n",
    "test_8 = df_pred[df_pred['MRC_ID_DI'] == 8].sort_values(by=\"pred\", ascending=False)[526:526+len(df_pred[df_pred['MRC_ID_DI'] == 8])*0.01]\n",
    "test_9 = df_pred[df_pred['MRC_ID_DI'] == 9].sort_values(by=\"pred\", ascending=False)[526:526+len(df_pred[df_pred['MRC_ID_DI'] == 9])*0.01]\n",
    "test_10 = df_pred[df_pred['MRC_ID_DI'] == 10].sort_values(by=\"pred\", ascending=False)[526:526+len(df_pred[df_pred['MRC_ID_DI'] == 10])*0.01]"
   ]
  },
  {
   "cell_type": "code",
   "execution_count": null,
   "metadata": {},
   "outputs": [],
   "source": [
    "test_f = pd.concat([test_0, test_1, test_2, test_3, test_4, test_5, test_6, test_7, \n",
    "                    test_8, test_9, test_10]).sample(frac=1)\n",
    "\n",
    "X_test = test_f.drop(columns = ['MRC_ID_DI'], axis=1)\n",
    "y_test = test_f['MRC_ID_DI']"
   ]
  },
  {
   "cell_type": "code",
   "execution_count": null,
   "metadata": {},
   "outputs": [],
   "source": [
    "select = sklearn.feature_selection.SelectKBest(k=90)\n",
    "selected_features = select.fit(X_train, y_train)\n",
    "indices_selected = selected_features.get_support(indices=True)\n",
    "colnames_selected = [X_train.columns[i] for i in indices_selected]\n",
    "\n",
    "X_train = X_train[colnames_selected]"
   ]
  },
  {
   "cell_type": "code",
   "execution_count": null,
   "metadata": {},
   "outputs": [],
   "source": [
    "X_train = X_train.astype(np.float16)\n",
    "combos = list(combinations(list(X_train.columns), 2))\n",
    "colnames = list(X_train.columns) + ['_'.join(x) for x in combos]\n",
    "\n",
    "poly = PolynomialFeatures(interaction_only=True, include_bias=False)\n",
    "X_train = poly.fit_transform(X_train)\n",
    "X_train = pd.DataFrame(X_train)\n",
    "X_train.columns = colnames\n",
    "\n",
    "\n",
    "noint_indicies = [i for i, x in enumerate(list((X_train == 0).all())) if x]\n",
    "X_train = X_train.drop(X_train.columns[noint_indicies], axis = 1)"
   ]
  },
  {
   "cell_type": "code",
   "execution_count": null,
   "metadata": {},
   "outputs": [],
   "source": [
    "train = X_train\n",
    "train['cst_id_di'] = y_train.index\n",
    "train = train.set_index('cst_id_di')\n",
    "train['MRC_ID_DI'] = y_train\n",
    "\n",
    "X_train = train.drop(columns = ['MRC_ID_DI'], axis=1)\n",
    "y_train = train['MRC_ID_DI']"
   ]
  },
  {
   "cell_type": "code",
   "execution_count": null,
   "metadata": {},
   "outputs": [],
   "source": [
    "select = sklearn.feature_selection.SelectKBest(k=331)\n",
    "selected_features = select.fit(X_train, y_train)\n",
    "indices_selected = selected_features.get_support(indices=True)\n",
    "colnames_selected = [X_train.columns[i] for i in indices_selected]\n",
    "\n",
    "X_train = X_train[colnames_selected]"
   ]
  },
  {
   "cell_type": "code",
   "execution_count": null,
   "metadata": {},
   "outputs": [],
   "source": [
    "X_val = X_val.astype(np.float16)\n",
    "combos = list(combinations(list(X_val.columns), 2))\n",
    "colnames = list(X_val.columns) + ['_'.join(x) for x in combos]\n",
    "\n",
    "poly = PolynomialFeatures(interaction_only=True, include_bias=False)\n",
    "X_val = poly.fit_transform(X_val)\n",
    "X_val = pd.DataFrame(X_val)\n",
    "X_val.columns = colnames\n",
    "\n",
    "\n",
    "noint_indicies = [i for i, x in enumerate(list((X_val == 0).all())) if x]\n",
    "X_val = X_val.drop(X_val.columns[noint_indicies], axis = 1)"
   ]
  },
  {
   "cell_type": "code",
   "execution_count": null,
   "metadata": {},
   "outputs": [],
   "source": [
    "val = X_val\n",
    "val['cst_id_di'] = y_val.index\n",
    "val = val.set_index('cst_id_di')\n",
    "val['MRC_ID_DI'] = y_val\n",
    "\n",
    "X_val = val.drop(columns = ['MRC_ID_DI'], axis=1)\n",
    "y_val = val['MRC_ID_DI']\n",
    "\n",
    "X_val = X_val[colnames_selected]"
   ]
  },
  {
   "cell_type": "code",
   "execution_count": null,
   "metadata": {},
   "outputs": [],
   "source": [
    "X_test = X_test.astype(np.float16)\n",
    "combos = list(combinations(list(X_test.columns), 2))\n",
    "colnames = list(X_test.columns) + ['_'.join(x) for x in combos]\n",
    "\n",
    "poly = PolynomialFeatures(interaction_only=True, include_bias=False)\n",
    "X_test = poly.fit_transform(X_test)\n",
    "X_test = pd.DataFrame(X_test)\n",
    "X_test.columns = colnames\n",
    "\n",
    "\n",
    "noint_indicies = [i for i, x in enumerate(list((X_test == 0).all())) if x]\n",
    "X_test = X_test.drop(X_test.columns[noint_indicies], axis = 1)"
   ]
  },
  {
   "cell_type": "code",
   "execution_count": null,
   "metadata": {},
   "outputs": [],
   "source": [
    "test = X_test\n",
    "test['cst_id_di'] = y_test.index\n",
    "test = test.set_index('cst_id_di')\n",
    "test['MRC_ID_DI'] = y_test\n",
    "\n",
    "X_test = test.drop(columns = ['MRC_ID_DI'], axis=1)\n",
    "y_test = test['MRC_ID_DI']\n",
    "\n",
    "X_test = X_test[colnames_selected]"
   ]
  },
  {
   "cell_type": "code",
   "execution_count": null,
   "metadata": {},
   "outputs": [],
   "source": [
    "df_train = pd.DataFrame(columns = ['cst_id_di', 'MRC_ID_DI', 'image'])\n",
    "df_val = pd.DataFrame(columns = ['cst_id_di', 'MRC_ID_DI', 'image'])\n",
    "df_test = pd.DataFrame(columns = ['cst_id_di', 'MRC_ID_DI', 'image'])"
   ]
  },
  {
   "cell_type": "code",
   "execution_count": null,
   "metadata": {
    "scrolled": true
   },
   "outputs": [],
   "source": [
    "repetitions = 331\n",
    "p = 331\n",
    "\n",
    "\n",
    "for ind, k in enumerate(y_train.index):\n",
    "    print(ind)\n",
    "    an_array = X_train.iloc[ind].values\n",
    "    new_row = {'cst_id_di':k, 'MRC_ID_DI':y_train.iloc[ind], 'image':an_array}\n",
    "    df_train = df_train.append(new_row, ignore_index=True)"
   ]
  },
  {
   "cell_type": "code",
   "execution_count": null,
   "metadata": {},
   "outputs": [],
   "source": [
    "df_train.to_csv(d+'_'+n+'_train.csv')\n",
    "\n",
    "del df_train"
   ]
  },
  {
   "cell_type": "code",
   "execution_count": null,
   "metadata": {},
   "outputs": [],
   "source": [
    "for ind, k in enumerate(y_val.index):\n",
    "    print(ind)    \n",
    "    an_array = X_val.iloc[ind].values\n",
    "    new_row = {'cst_id_di':k, 'MRC_ID_DI':y_val.iloc[ind], 'image':an_array}\n",
    "    df_val = df_val.append(new_row, ignore_index=True)"
   ]
  },
  {
   "cell_type": "code",
   "execution_count": null,
   "metadata": {},
   "outputs": [],
   "source": [
    "df_val.to_csv(d+'_'+n+'_val.csv')\n",
    "\n",
    "del df_val"
   ]
  },
  {
   "cell_type": "code",
   "execution_count": null,
   "metadata": {},
   "outputs": [],
   "source": [
    "for ind, k in enumerate(y_test.index):\n",
    "    print(ind)    \n",
    "    an_array = X_test.iloc[ind].values\n",
    "    new_row = {'cst_id_di':k, 'MRC_ID_DI':y_test.iloc[ind], 'image':an_array}\n",
    "    df_test = df_test.append(new_row, ignore_index=True)"
   ]
  },
  {
   "cell_type": "code",
   "execution_count": null,
   "metadata": {},
   "outputs": [],
   "source": [
    "df_test.to_csv(d+'_'+n+'_test.csv')\n",
    "\n",
    "del df_test"
   ]
  },
  {
   "cell_type": "code",
   "execution_count": null,
   "metadata": {},
   "outputs": [],
   "source": [
    "td = [pd.DataFrame() for i in range(10)]\n",
    "td[0], td[1], td[2], td[3], td[4], td[5], td[6], td[7], td[8], td[9] = np.array_split(df, 10)\n",
    "\n",
    "for i, t in enumerate(td):\n",
    "    \n",
    "    df_all = pd.DataFrame(columns = ['cst_id_di', 'MRC_ID_DI', 'image'])\n",
    "    \n",
    "    tx = t.drop(columns = ['MRC_ID_DI'], axis=1)\n",
    "    ty = t['MRC_ID_DI']\n",
    "    \n",
    "    tx = tx.astype(np.float16)\n",
    "    combos = list(combinations(list(tx.columns), 2))\n",
    "    colnames = list(tx.columns) + ['_'.join(x) for x in combos]\n",
    "\n",
    "    poly = PolynomialFeatures(interaction_only=True, include_bias=False)\n",
    "    tx = poly.fit_transform(tx)\n",
    "    tx = pd.DataFrame(tx)\n",
    "    tx.columns = colnames\n",
    "\n",
    "    noint_indicies = [i for i, x in enumerate(list((tx == 0).all())) if x]\n",
    "    tx = tx.drop(tx.columns[noint_indicies], axis = 1)\n",
    "    \n",
    "    \n",
    "    tt = tx\n",
    "    tt['cst_id_di'] = ty.index\n",
    "    tt = tt.set_index('cst_id_di')\n",
    "    tt['MRC_ID_DI'] = ty\n",
    "\n",
    "    tx = tt.drop(columns = ['MRC_ID_DI'], axis=1)\n",
    "    ty = tt['MRC_ID_DI']\n",
    "\n",
    "    tx = tx[colnames_selected]\n",
    "    \n",
    "    tx[tx.columns] = (tx[tx.columns]+1)/2\n",
    "\n",
    "    for ind, k in enumerate(ty.index):\n",
    "        print(ind)\n",
    "        an_array = tx.iloc[ind].values\n",
    "        new_row = {'cst_id_di':k, 'MRC_ID_DI':ty.iloc[ind], 'image':an_array}\n",
    "        df_all = df_all.append(new_row, ignore_index=True)\n",
    "    \n",
    "    df_all.to_csv(d+'_'+n+'_all_' + str(i) + '.csv')\n",
    "    del df_all"
   ]
  }
 ],
 "metadata": {
  "kernelspec": {
   "display_name": "Python 3",
   "language": "python",
   "name": "python3"
  },
  "language_info": {
   "codemirror_mode": {
    "name": "ipython",
    "version": 3
   },
   "file_extension": ".py",
   "mimetype": "text/x-python",
   "name": "python",
   "nbconvert_exporter": "python",
   "pygments_lexer": "ipython3",
   "version": "3.6.10"
  }
 },
 "nbformat": 4,
 "nbformat_minor": 4
}
