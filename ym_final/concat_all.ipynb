{
 "cells": [
  {
   "cell_type": "code",
   "execution_count": null,
   "metadata": {},
   "outputs": [],
   "source": [
    "import pandas as pd\n",
    "import os"
   ]
  },
  {
   "cell_type": "code",
   "execution_count": null,
   "metadata": {},
   "outputs": [],
   "source": [
    "d = 'image31'\n",
    "n = '0'\n",
    "\n",
    "df = pd.DataFrame()\n",
    "df_list = list()\n",
    "\n",
    "for i in range(10):\n",
    "    fname = os.path.join(os.getcwd(), f\"{d +'_'+n+'_'+'all_'+str(i)}.csv\")\n",
    "    dff = pd.read_csv(fname, index_col=0)\n",
    "    df_list.append(dff)\n",
    "    \n",
    "df = pd.concat(df_list, ignore_index=True)\n",
    "df.to_csv(d +'_'+n+'_'+'all.csv')"
   ]
  },
  {
   "cell_type": "code",
   "execution_count": null,
   "metadata": {},
   "outputs": [],
   "source": []
  }
 ],
 "metadata": {
  "kernelspec": {
   "display_name": "Python 3",
   "language": "python",
   "name": "python3"
  },
  "language_info": {
   "codemirror_mode": {
    "name": "ipython",
    "version": 3
   },
   "file_extension": ".py",
   "mimetype": "text/x-python",
   "name": "python",
   "nbconvert_exporter": "python",
   "pygments_lexer": "ipython3",
   "version": "3.6.10"
  }
 },
 "nbformat": 4,
 "nbformat_minor": 4
}
