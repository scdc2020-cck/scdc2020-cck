{
 "cells": [
  {
   "cell_type": "code",
   "execution_count": 1,
   "metadata": {},
   "outputs": [],
   "source": [
    "import os\n",
    "import pandas as pd\n",
    "import numpy as np\n",
    "import tensorflow as tf\n",
    "import random\n",
    "\n",
    "physical_devices = tf.config.list_physical_devices('GPU') \n",
    "tf.config.experimental.set_memory_growth(physical_devices[0], True)\n",
    "\n",
    "seed_value= 0\n",
    "os.environ['PYTHONHASHSEED']=str(seed_value)\n",
    "random.seed(seed_value)\n",
    "np.random.seed(seed_value)\n",
    "tf.random.set_seed(seed_value)"
   ]
  },
  {
   "cell_type": "code",
   "execution_count": 2,
   "metadata": {},
   "outputs": [
    {
     "name": "stdout",
     "output_type": "stream",
     "text": [
      "WARNING:tensorflow:Large dropout rate: 0.8 (>0.5). In TensorFlow 2.x, dropout() uses dropout rate instead of keep_prob. Please ensure that this is intended.\n",
      "WARNING:tensorflow:Large dropout rate: 0.8 (>0.5). In TensorFlow 2.x, dropout() uses dropout rate instead of keep_prob. Please ensure that this is intended.\n"
     ]
    }
   ],
   "source": [
    "p = 380\n",
    "model_name = os.path.join(os.path.dirname(os.getcwd()), 'model', 'final_model.h5')\n",
    "model = tf.keras.models.load_model(model_name)"
   ]
  },
  {
   "cell_type": "code",
   "execution_count": 3,
   "metadata": {},
   "outputs": [],
   "source": [
    "df_img_name = os.path.join(os.path.dirname(os.getcwd()), 'preprocess', f\"{'quiz_preprocess'}.csv\")\n",
    "df_img = pd.read_csv(df_img_name)"
   ]
  },
  {
   "cell_type": "code",
   "execution_count": 4,
   "metadata": {},
   "outputs": [],
   "source": [
    "df_quiz_name = os.path.join(os.path.dirname(os.getcwd()), 'raw', f\"{'quiz'}.csv\")\n",
    "df_quiz = pd.read_csv(df_quiz_name)"
   ]
  },
  {
   "cell_type": "code",
   "execution_count": 5,
   "metadata": {},
   "outputs": [],
   "source": [
    "def returnX(X):\n",
    "    \n",
    "    \"\"\"\n",
    "    train데이터와 동일하게 DatraFrame의 row(p, )를 이미지(1, p, p, 3)로 변경\n",
    "    \"\"\"\n",
    "    \n",
    "    X = X.replace(\"[\", \"\").replace(\"]\", \"\")\n",
    "    X = np.fromstring(X, sep = \" \")\n",
    "    an_array = np.resize(X, (p, 1))\n",
    "    t_array = np.resize(X,(1, p))\n",
    "    final_array = (np.dot(an_array, t_array) +1) / 2\n",
    "    final_array = final_array.astype(np.float16)\n",
    "    final_array = np.repeat(final_array.flatten(), 3)\n",
    "    data = final_array.reshape((p,p, 3))\n",
    "    data = np.expand_dims(data, axis=0)\n",
    "    \n",
    "    return data"
   ]
  },
  {
   "cell_type": "code",
   "execution_count": 6,
   "metadata": {},
   "outputs": [
    {
     "data": {
      "application/vnd.jupyter.widget-view+json": {
       "model_id": "fd3939a8aa6b45d6a6fadcba734180df",
       "version_major": 2,
       "version_minor": 0
      },
      "text/plain": [
       "HBox(children=(FloatProgress(value=0.0, max=300000.0), HTML(value='')))"
      ]
     },
     "metadata": {},
     "output_type": "display_data"
    },
    {
     "name": "stderr",
     "output_type": "stream",
     "text": [
      "/home/cym_7172/anaconda3/lib/python3.6/site-packages/ipykernel_launcher.py:8: DeprecationWarning: string or file could not be read to its end due to unmatched data; this will raise a ValueError in the future.\n",
      "  \n"
     ]
    },
    {
     "name": "stdout",
     "output_type": "stream",
     "text": [
      "\n"
     ]
    }
   ],
   "source": [
    "Score = list()\n",
    "from tqdm.auto import tqdm\n",
    "for i in tqdm(range(len(df_quiz))):\n",
    "    \n",
    "    X = returnX(df_img[df_img['cst_id_di'] == df_quiz.cst_id_di[i]][\"image\"].to_string(index=False))\n",
    "    y = df_quiz.loc[i, 'MRC_ID_DI']\n",
    "    pred = model.predict(X)\n",
    "    Score.append(pred[0][y])\n",
    "    \n",
    "df_quiz['Score'] = Score "
   ]
  },
  {
   "cell_type": "code",
   "execution_count": 7,
   "metadata": {},
   "outputs": [],
   "source": [
    "df_quiz.to_csv('quiz_s.csv')"
   ]
  },
  {
   "cell_type": "code",
   "execution_count": null,
   "metadata": {},
   "outputs": [],
   "source": []
  }
 ],
 "metadata": {
  "kernelspec": {
   "display_name": "Python 3",
   "language": "python",
   "name": "python3"
  },
  "language_info": {
   "codemirror_mode": {
    "name": "ipython",
    "version": 3
   },
   "file_extension": ".py",
   "mimetype": "text/x-python",
   "name": "python",
   "nbconvert_exporter": "python",
   "pygments_lexer": "ipython3",
   "version": "3.6.10"
  }
 },
 "nbformat": 4,
 "nbformat_minor": 4
}
