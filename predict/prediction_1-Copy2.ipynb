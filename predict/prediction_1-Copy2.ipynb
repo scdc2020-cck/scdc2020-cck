{
 "cells": [
  {
   "cell_type": "code",
   "execution_count": 1,
   "metadata": {},
   "outputs": [],
   "source": [
    "import os\n",
    "import pandas as pd\n",
    "import numpy as np\n",
    "import tensorflow as tf\n",
    "import random\n",
    "\n",
    "physical_devices = tf.config.list_physical_devices('GPU') \n",
    "tf.config.experimental.set_memory_growth(physical_devices[0], True)\n",
    "\n",
    "seed_value= 0\n",
    "os.environ['PYTHONHASHSEED']=str(seed_value)\n",
    "random.seed(seed_value)\n",
    "np.random.seed(seed_value)\n",
    "tf.random.set_seed(seed_value)"
   ]
  },
  {
   "cell_type": "code",
   "execution_count": 2,
   "metadata": {},
   "outputs": [
    {
     "name": "stdout",
     "output_type": "stream",
     "text": [
      "WARNING:tensorflow:Large dropout rate: 0.8 (>0.5). In TensorFlow 2.x, dropout() uses dropout rate instead of keep_prob. Please ensure that this is intended.\n",
      "WARNING:tensorflow:Large dropout rate: 0.8 (>0.5). In TensorFlow 2.x, dropout() uses dropout rate instead of keep_prob. Please ensure that this is intended.\n"
     ]
    }
   ],
   "source": [
    "p = 380\n",
    "batch_size = 64\n",
    "model_name = os.path.join(os.path.dirname(os.getcwd()), 'model', 'final_model.h5')\n",
    "model = tf.keras.models.load_model(model_name)"
   ]
  },
  {
   "cell_type": "code",
   "execution_count": 1,
   "metadata": {},
   "outputs": [],
   "source": [
    "import os\n",
    "import pandas as pd\n",
    "import numpy as np\n",
    "\n",
    "df_img_name = os.path.join(os.path.dirname(os.getcwd()), 'preprocess', f\"{'quiz_preprocess'}.csv\")\n",
    "df_img = pd.read_csv(df_img_name)"
   ]
  },
  {
   "cell_type": "code",
   "execution_count": 2,
   "metadata": {},
   "outputs": [],
   "source": [
    "df_quiz_name = os.path.join(os.path.dirname(os.getcwd()), 'raw', f\"{'quiz'}.csv\")\n",
    "df_quiz = pd.read_csv(df_quiz_name)"
   ]
  },
  {
   "cell_type": "code",
   "execution_count": 4,
   "metadata": {},
   "outputs": [
    {
     "data": {
      "text/html": [
       "<div>\n",
       "<style scoped>\n",
       "    .dataframe tbody tr th:only-of-type {\n",
       "        vertical-align: middle;\n",
       "    }\n",
       "\n",
       "    .dataframe tbody tr th {\n",
       "        vertical-align: top;\n",
       "    }\n",
       "\n",
       "    .dataframe thead th {\n",
       "        text-align: right;\n",
       "    }\n",
       "</style>\n",
       "<table border=\"1\" class=\"dataframe\">\n",
       "  <thead>\n",
       "    <tr style=\"text-align: right;\">\n",
       "      <th></th>\n",
       "      <th>cst_id_di</th>\n",
       "      <th>image</th>\n",
       "      <th>MRC_ID_DI</th>\n",
       "      <th>Score</th>\n",
       "    </tr>\n",
       "  </thead>\n",
       "  <tbody>\n",
       "    <tr>\n",
       "      <th>0</th>\n",
       "      <td>90000000001</td>\n",
       "      <td>[ 5.3613e-01  1.2708e-01  2.6123e-01 -4.9365e-...</td>\n",
       "      <td>4</td>\n",
       "      <td>NaN</td>\n",
       "    </tr>\n",
       "    <tr>\n",
       "      <th>1</th>\n",
       "      <td>90000000001</td>\n",
       "      <td>[ 5.3613e-01  1.2708e-01  2.6123e-01 -4.9365e-...</td>\n",
       "      <td>3</td>\n",
       "      <td>NaN</td>\n",
       "    </tr>\n",
       "    <tr>\n",
       "      <th>2</th>\n",
       "      <td>90000000001</td>\n",
       "      <td>[ 5.3613e-01  1.2708e-01  2.6123e-01 -4.9365e-...</td>\n",
       "      <td>7</td>\n",
       "      <td>NaN</td>\n",
       "    </tr>\n",
       "    <tr>\n",
       "      <th>3</th>\n",
       "      <td>90000000002</td>\n",
       "      <td>[ 6.0498e-01  2.2095e-02  4.4897e-01 -5.3271e-...</td>\n",
       "      <td>3</td>\n",
       "      <td>NaN</td>\n",
       "    </tr>\n",
       "    <tr>\n",
       "      <th>4</th>\n",
       "      <td>90000000002</td>\n",
       "      <td>[ 6.0498e-01  2.2095e-02  4.4897e-01 -5.3271e-...</td>\n",
       "      <td>4</td>\n",
       "      <td>NaN</td>\n",
       "    </tr>\n",
       "    <tr>\n",
       "      <th>...</th>\n",
       "      <td>...</td>\n",
       "      <td>...</td>\n",
       "      <td>...</td>\n",
       "      <td>...</td>\n",
       "    </tr>\n",
       "    <tr>\n",
       "      <th>299995</th>\n",
       "      <td>90000460379</td>\n",
       "      <td>[ 2.7832e-01  4.3530e-01  3.9502e-01 -1.4136e-...</td>\n",
       "      <td>3</td>\n",
       "      <td>NaN</td>\n",
       "    </tr>\n",
       "    <tr>\n",
       "      <th>299996</th>\n",
       "      <td>90000460379</td>\n",
       "      <td>[ 2.7832e-01  4.3530e-01  3.9502e-01 -1.4136e-...</td>\n",
       "      <td>4</td>\n",
       "      <td>NaN</td>\n",
       "    </tr>\n",
       "    <tr>\n",
       "      <th>299997</th>\n",
       "      <td>90000460384</td>\n",
       "      <td>[ 2.2363e-01  2.1179e-01  1.4026e-01 -2.3535e-...</td>\n",
       "      <td>3</td>\n",
       "      <td>NaN</td>\n",
       "    </tr>\n",
       "    <tr>\n",
       "      <th>299998</th>\n",
       "      <td>90000460384</td>\n",
       "      <td>[ 2.2363e-01  2.1179e-01  1.4026e-01 -2.3535e-...</td>\n",
       "      <td>4</td>\n",
       "      <td>NaN</td>\n",
       "    </tr>\n",
       "    <tr>\n",
       "      <th>299999</th>\n",
       "      <td>90000460384</td>\n",
       "      <td>[ 2.2363e-01  2.1179e-01  1.4026e-01 -2.3535e-...</td>\n",
       "      <td>7</td>\n",
       "      <td>NaN</td>\n",
       "    </tr>\n",
       "  </tbody>\n",
       "</table>\n",
       "<p>300000 rows × 4 columns</p>\n",
       "</div>"
      ],
      "text/plain": [
       "          cst_id_di                                              image  \\\n",
       "0       90000000001  [ 5.3613e-01  1.2708e-01  2.6123e-01 -4.9365e-...   \n",
       "1       90000000001  [ 5.3613e-01  1.2708e-01  2.6123e-01 -4.9365e-...   \n",
       "2       90000000001  [ 5.3613e-01  1.2708e-01  2.6123e-01 -4.9365e-...   \n",
       "3       90000000002  [ 6.0498e-01  2.2095e-02  4.4897e-01 -5.3271e-...   \n",
       "4       90000000002  [ 6.0498e-01  2.2095e-02  4.4897e-01 -5.3271e-...   \n",
       "...             ...                                                ...   \n",
       "299995  90000460379  [ 2.7832e-01  4.3530e-01  3.9502e-01 -1.4136e-...   \n",
       "299996  90000460379  [ 2.7832e-01  4.3530e-01  3.9502e-01 -1.4136e-...   \n",
       "299997  90000460384  [ 2.2363e-01  2.1179e-01  1.4026e-01 -2.3535e-...   \n",
       "299998  90000460384  [ 2.2363e-01  2.1179e-01  1.4026e-01 -2.3535e-...   \n",
       "299999  90000460384  [ 2.2363e-01  2.1179e-01  1.4026e-01 -2.3535e-...   \n",
       "\n",
       "        MRC_ID_DI  Score  \n",
       "0               4    NaN  \n",
       "1               3    NaN  \n",
       "2               7    NaN  \n",
       "3               3    NaN  \n",
       "4               4    NaN  \n",
       "...           ...    ...  \n",
       "299995          3    NaN  \n",
       "299996          4    NaN  \n",
       "299997          3    NaN  \n",
       "299998          4    NaN  \n",
       "299999          7    NaN  \n",
       "\n",
       "[300000 rows x 4 columns]"
      ]
     },
     "execution_count": 4,
     "metadata": {},
     "output_type": "execute_result"
    }
   ],
   "source": [
    "df_all = pd.merge(df_img.drop(columns=['Unnamed: 0', 'MRC_ID_DI']),df_quiz,how = 'left' ,on=['cst_id_di'])"
   ]
  },
  {
   "cell_type": "code",
   "execution_count": 5,
   "metadata": {},
   "outputs": [],
   "source": [
    "def returnX(X):\n",
    "    \n",
    "    \"\"\"\n",
    "    train데이터와 동일하게 DatraFrame의 row(p, )를 이미지(1, p, p, 3)로 변경\n",
    "    \"\"\"\n",
    "    \n",
    "    X = X.replace(\"[\", \"\").replace(\"]\", \"\")\n",
    "    X = np.fromstring(X, sep = \" \")\n",
    "    an_array = np.resize(X, (p, 1))\n",
    "    t_array = np.resize(X,(1, p))\n",
    "    final_array = (np.dot(an_array, t_array) +1) / 2\n",
    "    final_array = final_array.astype(np.float16)\n",
    "    final_array = np.repeat(final_array.flatten(), 3)\n",
    "    data = final_array.reshape((p,p, 3))\n",
    "    data = np.expand_dims(data, axis=0)\n",
    "    \n",
    "    return data"
   ]
  },
  {
   "cell_type": "code",
   "execution_count": null,
   "metadata": {},
   "outputs": [],
   "source": [
    "def returnXandY(dff): \n",
    "    \n",
    "    \"\"\"\n",
    "    [ 데이터의 형태(p, )를 이미지(1, p, p, 3)로 변환 ]\n",
    "    Dataframe의 한 row를 row_array = (p, 1), col_array = (1, p) 로 resize한 뒤 \n",
    "    np.dot(row_array, col_array)하여 (p, p)의 행렬 생성. \n",
    "    기존의 데이터 값이 -1 ~ 1 인 것을 고려하여, np.dot결과가 \n",
    "    정규화된 이미지 값 0 ~ 1 이 되기위해 전체에 +1 을 한 뒤 /2를 함.\n",
    "    np.repeat을 한 뒤 reshape, np.expand_dims을 통해 (p, p)=>(1, p, p, 3)\n",
    "    \n",
    "    *전처리 과정에서 각 row의 값을 하나씩 이미지로 계산하여 저장하는 것보다\n",
    "    *train데이터를 로드하는 과정에서 DataFrame 전체를 한 번에 계산할 경우, \n",
    "    *계산 시간과 디스크 메모리(1월 데이터 기준 30GB -> 1GB)를 크게 절약할 수 있음.\n",
    "    \"\"\" \n",
    "    \n",
    "    df = dff.copy()\n",
    "    df[\"image\"] = df[\"image\"].apply(lambda x: x.replace(\"[\", \"\")).apply(lambda x: x.replace(\"]\", \"\"))\n",
    "    df['image'] = df['image'].apply(lambda x: np.fromstring(x, sep = \" \"))\n",
    "    df['row_array'] = df['image'].apply(lambda x: np.resize(x, (p, 1)))\n",
    "    df['col_array'] = df['image'].apply(lambda x: np.resize(x,(1,p)))\n",
    "    df['final'] = (df.apply(lambda x: np.dot(x.row_array, x.col_array), axis=1) + 1) / 2\n",
    "    df = df.drop(columns=['Unnamed: 0', 'image', 'row_array', 'col_array'])\n",
    "    df['final'] = df['final'].apply(lambda x: x.astype(np.float16))\n",
    "    df['final'] = df['final'].apply(lambda x: np.repeat(x.flatten(), 3))\n",
    "    df['final'] = df['final'].apply(lambda x: x.reshape((p, p, 3)))\n",
    "    df['final'] = df['final'].apply(lambda x: np.expand_dims(x, axis=0))\n",
    "    \n",
    "    X = np.vstack(df['final'])\n",
    "    y = df['MRC_ID_DI'].to_numpy()\n",
    "    \n",
    "    return X, y"
   ]
  },
  {
   "cell_type": "code",
   "execution_count": null,
   "metadata": {},
   "outputs": [],
   "source": [
    "X_quiz, y_quiz = returnXandY(df_all)"
   ]
  },
  {
   "cell_type": "code",
   "execution_count": null,
   "metadata": {},
   "outputs": [],
   "source": [
    "quiz_datagen = tf.keras.preprocessing.image.ImageDataGenerator(dtype=np.float16)\n",
    "quiz_datagen.fit(X_quiz)"
   ]
  },
  {
   "cell_type": "code",
   "execution_count": null,
   "metadata": {},
   "outputs": [],
   "source": [
    "quiz = model.predict(quiz_datagen.flow(X_quiz, batch_size=batch_size, shuffle=False))"
   ]
  },
  {
   "cell_type": "code",
   "execution_count": null,
   "metadata": {},
   "outputs": [
    {
     "data": {
      "application/vnd.jupyter.widget-view+json": {
       "model_id": "fd3939a8aa6b45d6a6fadcba734180df",
       "version_major": 2,
       "version_minor": 0
      },
      "text/plain": [
       "HBox(children=(FloatProgress(value=0.0, max=300000.0), HTML(value='')))"
      ]
     },
     "metadata": {},
     "output_type": "display_data"
    },
    {
     "name": "stderr",
     "output_type": "stream",
     "text": [
      "/home/cym_7172/anaconda3/lib/python3.6/site-packages/ipykernel_launcher.py:8: DeprecationWarning: string or file could not be read to its end due to unmatched data; this will raise a ValueError in the future.\n",
      "  \n"
     ]
    }
   ],
   "source": [
    "Score = list()\n",
    "from tqdm.auto import tqdm\n",
    "for i in tqdm(range(len(df_quiz))):\n",
    "    \n",
    "    X = df_img[df_img['cst_id_di'] == df_quiz['cst_id_di'][i]].iloc[0, \"final\"]\n",
    "    y = df_quiz.loc[i, 'MRC_ID_DI']\n",
    "    pred = model.predict(X)\n",
    "    Score.append(pred[0][y])\n",
    "    \n",
    "df_quiz['Score'] = Score "
   ]
  },
  {
   "cell_type": "code",
   "execution_count": null,
   "metadata": {},
   "outputs": [],
   "source": [
    "df_quiz.to_csv('quiz_s.csv')"
   ]
  },
  {
   "cell_type": "code",
   "execution_count": null,
   "metadata": {},
   "outputs": [],
   "source": []
  }
 ],
 "metadata": {
  "kernelspec": {
   "display_name": "Python 3",
   "language": "python",
   "name": "python3"
  },
  "language_info": {
   "codemirror_mode": {
    "name": "ipython",
    "version": 3
   },
   "file_extension": ".py",
   "mimetype": "text/x-python",
   "name": "python",
   "nbconvert_exporter": "python",
   "pygments_lexer": "ipython3",
   "version": "3.6.10"
  }
 },
 "nbformat": 4,
 "nbformat_minor": 4
}
